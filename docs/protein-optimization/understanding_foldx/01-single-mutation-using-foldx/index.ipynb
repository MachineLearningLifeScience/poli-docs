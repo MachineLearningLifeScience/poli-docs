{
 "cells": [
  {
   "cell_type": "markdown",
   "metadata": {},
   "source": [
    "# Computing the energy of a protein and a single mutation"
   ]
  },
  {
   "cell_type": "markdown",
   "metadata": {},
   "source": [
    "```{tableofcontents}\n",
    "```\n",
    "\n",
    "In this tutorial we familiarize ourselves with `foldx`, and how to e.g. measure the stability of a wild type and a single mutation of it.\n",
    "\n",
    ":::{note}\n",
    "We assume that you have already installed foldx, and that you know where its binaries are located.\n",
    "\n",
    "If you need a refresher/want to install it, [check the previous chapter here](/understanding_foldx/00-installing-foldx.md).\n",
    ":::\n",
    "\n",
    ":::{admonition} Python prerequisites \n",
    ":class: dropdown\n",
    "\n",
    "This code depends only on `biopython` and `pandas`. Make sure to install them:\n",
    "\n",
    "```bash\n",
    "pip install biopython pandas\n",
    "```\n",
    ":::\n",
    "\n",
    "This tutorial is heavily inspired by how [LaMBO](https://github.com/samuelstanton/lambo) uses `foldx`."
   ]
  },
  {
   "cell_type": "markdown",
   "metadata": {},
   "source": [
    "## Setting up folders and files"
   ]
  },
  {
   "cell_type": "markdown",
   "metadata": {},
   "source": [
    "Let's start by setting up some environment variables that will be essential. **FoldX works by reading and creating several files**, so we need to set up path variables to be able to\n",
    "1. Copy some essentials from the foldx files (namely, the `rotabase.txt` file)\n",
    "2. Create a working directory where foldx will put all the files it wants to create.\n",
    "\n",
    "This notebook assumes that your `foldx` files are inside to your home directory, i.e. we expect that\n",
    "- the binary `~/foldx/foldx` exists, and\n",
    "- the file `~/foldx/rotabase.txt` exists.\n",
    "\n",
    "These two can be found in your `foldx` installation. You might need to rename the binary."
   ]
  },
  {
   "cell_type": "code",
   "execution_count": 3,
   "metadata": {
    "tags": [
     "remove-output"
    ]
   },
   "outputs": [
    {
     "data": {
      "text/plain": [
       "PosixPath('/Users/migd/Projects/protein-opt/docs/protein-optimization/understanding_foldx/01-single-mutation-using-foldx/tmp/rotabase.txt')"
      ]
     },
     "execution_count": 3,
     "metadata": {},
     "output_type": "execute_result"
    }
   ],
   "source": [
    "from pathlib import Path\n",
    "import shutil\n",
    "\n",
    "# The path to the folder where the FoldX files are located\n",
    "PATH_TO_FOLDX_FILES = Path().home() / \"foldx\"\n",
    "\n",
    "# The path to where this notebook is located\n",
    "THIS_DIR = Path().resolve()\n",
    "\n",
    "# Creating a working directory for foldx's files\n",
    "WORKING_DIR = THIS_DIR / \"tmp\"\n",
    "WORKING_DIR.mkdir(exist_ok=True)\n",
    "\n",
    "# Copying the rotabase.txt file to the working directory\n",
    "shutil.copyfile(PATH_TO_FOLDX_FILES / \"rotabase.txt\", WORKING_DIR / \"rotabase.txt\")\n"
   ]
  },
  {
   "cell_type": "markdown",
   "metadata": {},
   "source": [
    "## Downloading a `PDB` file"
   ]
  },
  {
   "cell_type": "markdown",
   "metadata": {},
   "source": [
    "In this example, we use a protein responsible for transporting oxigen in sperm whales (called `101m`). You could download it [by hand from pdb](https://www.rcsb.org/structure/101M), but in this notebook we will use Python, and we will download it directly on the working directory at `./tmp`:"
   ]
  },
  {
   "cell_type": "code",
   "execution_count": 4,
   "metadata": {
    "tags": [
     "remove-output"
    ]
   },
   "outputs": [
    {
     "data": {
      "text/plain": [
       "(PosixPath('/Users/migd/Projects/protein-opt/docs/protein-optimization/understanding_foldx/01-single-mutation-using-foldx/tmp/101m.pdb'),\n",
       " <http.client.HTTPMessage at 0x1083ee0d0>)"
      ]
     },
     "execution_count": 4,
     "metadata": {},
     "output_type": "execute_result"
    }
   ],
   "source": [
    "import urllib.request\n",
    "\n",
    "# Downloading the PDB file\n",
    "web_address = \"https://files.rcsb.org/view/101M.pdb\"\n",
    "urllib.request.urlretrieve(\n",
    "    web_address,\n",
    "    WORKING_DIR / \"101m.pdb\"\n",
    ")"
   ]
  },
  {
   "cell_type": "markdown",
   "metadata": {},
   "source": [
    "Of course, feel free to adapt this to another `.pdb` file (as long as you place it in `./tmp`). To aid this generalization, we'll define a `pdb_name` variable, which will correspond to `101m` in our example"
   ]
  },
  {
   "cell_type": "code",
   "execution_count": 5,
   "metadata": {},
   "outputs": [],
   "source": [
    "# In case you choose a different pdb, you can change the name here\n",
    "pdb_name = \"101m\""
   ]
  },
  {
   "cell_type": "markdown",
   "metadata": {},
   "source": [
    "## Repairing the file"
   ]
  },
  {
   "cell_type": "markdown",
   "metadata": {},
   "source": [
    "The common way to process a pdb for mutation is to start by repairing the file using the `RepairPDB` command inside FoldX. Check [their documentation]() for more details."
   ]
  },
  {
   "cell_type": "markdown",
   "metadata": {},
   "source": [
    "We will check whether the file exists (for future re-runs), since the process is a little bit time-consumig (>400sec)."
   ]
  },
  {
   "cell_type": "code",
   "execution_count": 6,
   "metadata": {
    "tags": [
     "hide-output"
    ]
   },
   "outputs": [],
   "source": [
    "import subprocess\n",
    "\n",
    "# Building the command for repairing the wildtype PDB\n",
    "if not (WORKING_DIR / \"101m_Repair.pdb\").exists():\n",
    "    repair_cmd = [\n",
    "        str(PATH_TO_FOLDX_FILES / \"foldx\"),\n",
    "        \"--pdb\",\n",
    "        \"101m.pdb\",\n",
    "        \"--command\",\n",
    "        \"RepairPDB\",\n",
    "        \"--water\",\n",
    "        \"-CRYSTAL\",\n",
    "        \"--pH\",\n",
    "        \"7.0\",\n",
    "    ]\n",
    "\n",
    "    # Running the repair command\n",
    "    subprocess.run(repair_cmd, cwd=WORKING_DIR)"
   ]
  },
  {
   "cell_type": "markdown",
   "metadata": {},
   "source": [
    "After we run this repair process, this is the tree structure of the `tmp` working directory:\n",
    "\n",
    "```\n",
    "└── tmp\n",
    "    ├── 101m.pdb\n",
    "    ├── 101m_Repair.fxout\n",
    "    ├── 101m_Repair.pdb\n",
    "    ├── Unrecognized_molecules.txt\n",
    "    └── rotabase.txt\n",
    "```\n",
    "\n",
    "`101m_Repair.pdb` is the main output of this `RepairPDB`, and we will use it onwards.\n",
    "\n",
    ":::{admonition} What are the other files?\n",
    ":class: dropdown\n",
    "\n",
    "[TODO: complete].\n",
    ":::"
   ]
  },
  {
   "cell_type": "markdown",
   "metadata": {},
   "source": [
    "Now, let's parse this file and inspect it."
   ]
  },
  {
   "cell_type": "markdown",
   "metadata": {},
   "source": [
    "## Parsing the repaired wildtype"
   ]
  },
  {
   "cell_type": "markdown",
   "metadata": {},
   "source": [
    "We can easily load up the structure using `biopython`:"
   ]
  },
  {
   "cell_type": "code",
   "execution_count": 7,
   "metadata": {
    "tags": [
     "remove-output"
    ]
   },
   "outputs": [
    {
     "name": "stderr",
     "output_type": "stream",
     "text": [
      "/Users/migd/anaconda3/envs/poli-dev/lib/python3.9/site-packages/Bio/PDB/Atom.py:232: PDBConstructionWarning: Used element 'N' for Atom (name=N) with given element ''\n",
      "  warnings.warn(msg, PDBConstructionWarning)\n",
      "/Users/migd/anaconda3/envs/poli-dev/lib/python3.9/site-packages/Bio/PDB/Atom.py:232: PDBConstructionWarning: Used element 'C' for Atom (name=CA) with given element ''\n",
      "  warnings.warn(msg, PDBConstructionWarning)\n",
      "/Users/migd/anaconda3/envs/poli-dev/lib/python3.9/site-packages/Bio/PDB/Atom.py:232: PDBConstructionWarning: Used element 'C' for Atom (name=C) with given element ''\n",
      "  warnings.warn(msg, PDBConstructionWarning)\n",
      "/Users/migd/anaconda3/envs/poli-dev/lib/python3.9/site-packages/Bio/PDB/Atom.py:232: PDBConstructionWarning: Used element 'O' for Atom (name=O) with given element ''\n",
      "  warnings.warn(msg, PDBConstructionWarning)\n",
      "/Users/migd/anaconda3/envs/poli-dev/lib/python3.9/site-packages/Bio/PDB/Atom.py:232: PDBConstructionWarning: Used element 'C' for Atom (name=CB) with given element ''\n",
      "  warnings.warn(msg, PDBConstructionWarning)\n",
      "/Users/migd/anaconda3/envs/poli-dev/lib/python3.9/site-packages/Bio/PDB/Atom.py:232: PDBConstructionWarning: Used element 'C' for Atom (name=CG) with given element ''\n",
      "  warnings.warn(msg, PDBConstructionWarning)\n",
      "/Users/migd/anaconda3/envs/poli-dev/lib/python3.9/site-packages/Bio/PDB/Atom.py:232: PDBConstructionWarning: Used element 'S' for Atom (name=SD) with given element ''\n",
      "  warnings.warn(msg, PDBConstructionWarning)\n",
      "/Users/migd/anaconda3/envs/poli-dev/lib/python3.9/site-packages/Bio/PDB/Atom.py:232: PDBConstructionWarning: Used element 'C' for Atom (name=CE) with given element ''\n",
      "  warnings.warn(msg, PDBConstructionWarning)\n",
      "/Users/migd/anaconda3/envs/poli-dev/lib/python3.9/site-packages/Bio/PDB/Atom.py:232: PDBConstructionWarning: Used element 'C' for Atom (name=CG1) with given element ''\n",
      "  warnings.warn(msg, PDBConstructionWarning)\n",
      "/Users/migd/anaconda3/envs/poli-dev/lib/python3.9/site-packages/Bio/PDB/Atom.py:232: PDBConstructionWarning: Used element 'C' for Atom (name=CG2) with given element ''\n",
      "  warnings.warn(msg, PDBConstructionWarning)\n",
      "/Users/migd/anaconda3/envs/poli-dev/lib/python3.9/site-packages/Bio/PDB/Atom.py:232: PDBConstructionWarning: Used element 'C' for Atom (name=CD1) with given element ''\n",
      "  warnings.warn(msg, PDBConstructionWarning)\n",
      "/Users/migd/anaconda3/envs/poli-dev/lib/python3.9/site-packages/Bio/PDB/Atom.py:232: PDBConstructionWarning: Used element 'C' for Atom (name=CD2) with given element ''\n",
      "  warnings.warn(msg, PDBConstructionWarning)\n",
      "/Users/migd/anaconda3/envs/poli-dev/lib/python3.9/site-packages/Bio/PDB/Atom.py:232: PDBConstructionWarning: Used element 'O' for Atom (name=OG) with given element ''\n",
      "  warnings.warn(msg, PDBConstructionWarning)\n",
      "/Users/migd/anaconda3/envs/poli-dev/lib/python3.9/site-packages/Bio/PDB/Atom.py:232: PDBConstructionWarning: Used element 'C' for Atom (name=CD) with given element ''\n",
      "  warnings.warn(msg, PDBConstructionWarning)\n",
      "/Users/migd/anaconda3/envs/poli-dev/lib/python3.9/site-packages/Bio/PDB/Atom.py:232: PDBConstructionWarning: Used element 'O' for Atom (name=OE1) with given element ''\n",
      "  warnings.warn(msg, PDBConstructionWarning)\n",
      "/Users/migd/anaconda3/envs/poli-dev/lib/python3.9/site-packages/Bio/PDB/Atom.py:232: PDBConstructionWarning: Used element 'O' for Atom (name=OE2) with given element ''\n",
      "  warnings.warn(msg, PDBConstructionWarning)\n",
      "/Users/migd/anaconda3/envs/poli-dev/lib/python3.9/site-packages/Bio/PDB/Atom.py:232: PDBConstructionWarning: Used element 'N' for Atom (name=NE1) with given element ''\n",
      "  warnings.warn(msg, PDBConstructionWarning)\n",
      "/Users/migd/anaconda3/envs/poli-dev/lib/python3.9/site-packages/Bio/PDB/Atom.py:232: PDBConstructionWarning: Used element 'C' for Atom (name=CE2) with given element ''\n",
      "  warnings.warn(msg, PDBConstructionWarning)\n",
      "/Users/migd/anaconda3/envs/poli-dev/lib/python3.9/site-packages/Bio/PDB/Atom.py:232: PDBConstructionWarning: Used element 'C' for Atom (name=CE3) with given element ''\n",
      "  warnings.warn(msg, PDBConstructionWarning)\n",
      "/Users/migd/anaconda3/envs/poli-dev/lib/python3.9/site-packages/Bio/PDB/Atom.py:232: PDBConstructionWarning: Used element 'C' for Atom (name=CZ2) with given element ''\n",
      "  warnings.warn(msg, PDBConstructionWarning)\n",
      "/Users/migd/anaconda3/envs/poli-dev/lib/python3.9/site-packages/Bio/PDB/Atom.py:232: PDBConstructionWarning: Used element 'C' for Atom (name=CZ3) with given element ''\n",
      "  warnings.warn(msg, PDBConstructionWarning)\n",
      "/Users/migd/anaconda3/envs/poli-dev/lib/python3.9/site-packages/Bio/PDB/Atom.py:232: PDBConstructionWarning: Used element 'C' for Atom (name=CH2) with given element ''\n",
      "  warnings.warn(msg, PDBConstructionWarning)\n",
      "/Users/migd/anaconda3/envs/poli-dev/lib/python3.9/site-packages/Bio/PDB/Atom.py:232: PDBConstructionWarning: Used element 'N' for Atom (name=NE2) with given element ''\n",
      "  warnings.warn(msg, PDBConstructionWarning)\n",
      "/Users/migd/anaconda3/envs/poli-dev/lib/python3.9/site-packages/Bio/PDB/Atom.py:232: PDBConstructionWarning: Used element 'N' for Atom (name=ND1) with given element ''\n",
      "  warnings.warn(msg, PDBConstructionWarning)\n",
      "/Users/migd/anaconda3/envs/poli-dev/lib/python3.9/site-packages/Bio/PDB/Atom.py:232: PDBConstructionWarning: Used element 'C' for Atom (name=CE1) with given element ''\n",
      "  warnings.warn(msg, PDBConstructionWarning)\n",
      "/Users/migd/anaconda3/envs/poli-dev/lib/python3.9/site-packages/Bio/PDB/Atom.py:232: PDBConstructionWarning: Used element 'N' for Atom (name=NZ) with given element ''\n",
      "  warnings.warn(msg, PDBConstructionWarning)\n",
      "/Users/migd/anaconda3/envs/poli-dev/lib/python3.9/site-packages/Bio/PDB/Atom.py:232: PDBConstructionWarning: Used element 'O' for Atom (name=OD1) with given element ''\n",
      "  warnings.warn(msg, PDBConstructionWarning)\n",
      "/Users/migd/anaconda3/envs/poli-dev/lib/python3.9/site-packages/Bio/PDB/Atom.py:232: PDBConstructionWarning: Used element 'O' for Atom (name=OD2) with given element ''\n",
      "  warnings.warn(msg, PDBConstructionWarning)\n",
      "/Users/migd/anaconda3/envs/poli-dev/lib/python3.9/site-packages/Bio/PDB/Atom.py:232: PDBConstructionWarning: Used element 'N' for Atom (name=NE) with given element ''\n",
      "  warnings.warn(msg, PDBConstructionWarning)\n",
      "/Users/migd/anaconda3/envs/poli-dev/lib/python3.9/site-packages/Bio/PDB/Atom.py:232: PDBConstructionWarning: Used element 'C' for Atom (name=CZ) with given element ''\n",
      "  warnings.warn(msg, PDBConstructionWarning)\n",
      "/Users/migd/anaconda3/envs/poli-dev/lib/python3.9/site-packages/Bio/PDB/Atom.py:232: PDBConstructionWarning: Used element 'N' for Atom (name=NH1) with given element ''\n",
      "  warnings.warn(msg, PDBConstructionWarning)\n",
      "/Users/migd/anaconda3/envs/poli-dev/lib/python3.9/site-packages/Bio/PDB/Atom.py:232: PDBConstructionWarning: Used element 'N' for Atom (name=NH2) with given element ''\n",
      "  warnings.warn(msg, PDBConstructionWarning)\n",
      "/Users/migd/anaconda3/envs/poli-dev/lib/python3.9/site-packages/Bio/PDB/Atom.py:232: PDBConstructionWarning: Used element 'O' for Atom (name=OG1) with given element ''\n",
      "  warnings.warn(msg, PDBConstructionWarning)\n",
      "/Users/migd/anaconda3/envs/poli-dev/lib/python3.9/site-packages/Bio/PDB/Atom.py:232: PDBConstructionWarning: Used element 'O' for Atom (name=OH) with given element ''\n",
      "  warnings.warn(msg, PDBConstructionWarning)\n",
      "/Users/migd/anaconda3/envs/poli-dev/lib/python3.9/site-packages/Bio/PDB/Atom.py:232: PDBConstructionWarning: Used element 'N' for Atom (name=ND2) with given element ''\n",
      "  warnings.warn(msg, PDBConstructionWarning)\n",
      "/Users/migd/anaconda3/envs/poli-dev/lib/python3.9/site-packages/Bio/PDB/Atom.py:232: PDBConstructionWarning: Used element 'O' for Atom (name=OXT) with given element ''\n",
      "  warnings.warn(msg, PDBConstructionWarning)\n"
     ]
    }
   ],
   "source": [
    "from Bio import PDB\n",
    "\n",
    "parser = PDB.PDBParser()\n",
    "structure = parser.get_structure(\"pdb\", WORKING_DIR / \"101m_Repair.pdb\")\n",
    "residues = list(structure.get_residues())"
   ]
  },
  {
   "cell_type": "markdown",
   "metadata": {},
   "source": [
    "At this point, the list `residues` is full of `Bio.PDB.Residue`s. These contain all the relevant information of each residue. Let's dive into some of the attributes and methods of the first one:"
   ]
  },
  {
   "cell_type": "code",
   "execution_count": 8,
   "metadata": {},
   "outputs": [
    {
     "name": "stdout",
     "output_type": "stream",
     "text": [
      "Residue's name: MET\n",
      "The sequence index: 0\n",
      "Chain id: A\n"
     ]
    }
   ],
   "source": [
    "first_residue = residues[0]\n",
    "print(f\"Residue's name: {first_residue.resname}\")\n",
    "print(f\"The sequence index: {first_residue.id[1]}\")\n",
    "print(f\"Chain id: {first_residue.get_parent().id}\")"
   ]
  },
  {
   "cell_type": "markdown",
   "metadata": {},
   "source": [
    "As you can see, the residue is specified as the 3-letter code. We can extract the 1-letter code using `Bio.SeqUtils`' `seq1`."
   ]
  },
  {
   "cell_type": "code",
   "execution_count": 9,
   "metadata": {},
   "outputs": [
    {
     "name": "stdout",
     "output_type": "stream",
     "text": [
      "Residue as one letter: M\n"
     ]
    }
   ],
   "source": [
    "from Bio.SeqUtils import seq1\n",
    "\n",
    "print(f\"Residue as one letter: {seq1(first_residue.resname)}\")"
   ]
  },
  {
   "cell_type": "markdown",
   "metadata": {},
   "source": [
    "These are all the ingredients we will need for defining mutations. This is what we focus on next."
   ]
  },
  {
   "cell_type": "markdown",
   "metadata": {},
   "source": [
    "## Defining mutations"
   ]
  },
  {
   "cell_type": "markdown",
   "metadata": {},
   "source": [
    "As they say in [their documentation](TODOADD), we need to specify mutations by either providing the mutated 1-letter sequence, or by specifying a list of individual mutations.\n",
    "\n",
    "In this tutorial, we will show how to work with the latter version. Mutations are defined in an `individual_list.txt` file. Each row of this file has the following structure:\n",
    "\n",
    "```python\n",
    "row = f\"{original_residue}{chain_id}{position_in_sequence}{mutant_residue};\"\n",
    "```\n",
    "\n",
    "For our running example, we know that\n",
    "- `original_residue = seq1(first_residue.resname)` is `M`,\n",
    "- `chain_id = first_residue.get_parent().id` is `A`,\n",
    "- `position_in_sequence = first_residue.id[1]` is `0`\n",
    "- `mutant_residue` is for us to choose, let's say `G` (i.e. Glycine (?)).\n",
    "\n",
    ":::{warning}\n",
    "Be careful with `position_in_sequence`. In general, this position is **not** the position in the list of residues. The sure-fire way of getting it is, as we did, by accessing `.id[1]`.\n",
    ":::\n",
    "\n",
    "Let's define this mutation in a way that's easily modifiable. We can create a `mutation_list` with the position in the residue list we want to modify, and to which residue:"
   ]
  },
  {
   "cell_type": "code",
   "execution_count": 10,
   "metadata": {},
   "outputs": [],
   "source": [
    "mutation_list = [\n",
    "    {\n",
    "        \"residue_idx\": 0,\n",
    "        \"to\": \"G\",\n",
    "    }\n",
    "]"
   ]
  },
  {
   "cell_type": "markdown",
   "metadata": {},
   "source": [
    "Now we can create the `individual_list.txt` file inside our working directory:"
   ]
  },
  {
   "cell_type": "code",
   "execution_count": 11,
   "metadata": {},
   "outputs": [],
   "source": [
    "with open(WORKING_DIR / \"individual_list.txt\", \"w\") as f:\n",
    "    for mutation in mutation_list:\n",
    "        # We get the initial residue from the PDB file, this is a Residue type.\n",
    "        # You can check the documentation of these inside Biopython.\n",
    "        residue = residues[mutation[\"residue_idx\"]]\n",
    "\n",
    "        # The original residue lies in residue.resname. This is the 3-letter code.\n",
    "        # To tranform it into the 1-letter code, we use seq1 from Bio.SeqUtils.\n",
    "        original_residue = seq1(residue.resname)\n",
    "\n",
    "        # We can read the position as the second position of the ID:\n",
    "        # residue.id = (' ', position_in_chain, ' ')\n",
    "        position = residue.id[1]\n",
    "\n",
    "        # The chain ID can be read from the parent of the residue\n",
    "        chain_id = residue.get_parent().id\n",
    "\n",
    "        # The line we need to write, then, is:\n",
    "        f.write(f\"{original_residue}{chain_id}{position}{mutation['to']};\" + \"\\n\")"
   ]
  },
  {
   "cell_type": "markdown",
   "metadata": {},
   "source": [
    "The contents of `indiviual_list.txt` then are:\n",
    "\n",
    "```txt\n",
    "MA0G;\n",
    "\n",
    "```"
   ]
  },
  {
   "cell_type": "markdown",
   "metadata": {},
   "source": [
    ":::{warning}\n",
    "It is important that the list of mutations is called `individual_list.txt`. Otherwise, `foldx` won't be able to process it.\n",
    ":::"
   ]
  },
  {
   "cell_type": "markdown",
   "metadata": {},
   "source": [
    "## Computing the mutation's energy"
   ]
  },
  {
   "cell_type": "markdown",
   "metadata": {},
   "source": [
    "`foldx`'s `BuildModel` command allows us to compute (among several things) the total Gibbs energy of both the original wild type, as well as mutations of it.\n",
    "\n",
    "The command to run goes as follows:"
   ]
  },
  {
   "cell_type": "code",
   "execution_count": 12,
   "metadata": {},
   "outputs": [],
   "source": [
    "foldx_cmd = [\n",
    "    str(PATH_TO_FOLDX_FILES / \"foldx\"),\n",
    "    \"--pdb\",\n",
    "    \"101m_Repair.pdb\",\n",
    "    \"--command\",\n",
    "    \"BuildModel\",\n",
    "    \"--mutant-file\",\n",
    "    str(WORKING_DIR / \"individual_list.txt\"),\n",
    "    \"--water\",\n",
    "    \"-CRYSTAL\",\n",
    "    \"--pH\",\n",
    "    \"7.0\",\n",
    "]"
   ]
  },
  {
   "cell_type": "markdown",
   "metadata": {},
   "source": [
    "which can be run using `subprocess`' `run` method:"
   ]
  },
  {
   "cell_type": "code",
   "execution_count": 13,
   "metadata": {
    "tags": [
     "hide-output"
    ]
   },
   "outputs": [
    {
     "name": "stdout",
     "output_type": "stream",
     "text": [
      "   ********************************************\n",
      "   ***                                      ***\n",
      "   ***             FoldX 4 (c)              ***\n",
      "   ***                                      ***\n",
      "   ***     code by the FoldX Consortium     ***\n",
      "   ***                                      ***\n",
      "   ***     Jesper Borg, Frederic Rousseau   ***\n",
      "   ***    Joost Schymkowitz, Luis Serrano   ***\n",
      "   ***    Peter Vanhee, Erik Verschueren    ***\n",
      "   ***     Lies Baeten, Javier Delgado      ***\n",
      "   ***       and Francois Stricher          ***\n",
      "   *** and any other of the 9! permutations ***\n",
      "   ***   based on an original concept by    ***\n",
      "   ***   Raphael Guerois and Luis Serrano   ***\n",
      "   ********************************************\n",
      "\n",
      "1 models read: 101m_Repair.pdb\n",
      "\n",
      "BackHbond       =               -142.58\n",
      "SideHbond       =               -48.61\n",
      "Energy_VdW      =               -179.63\n",
      "Electro         =               -8.33\n",
      "Energy_SolvP    =               245.28\n",
      "Energy_SolvH    =               -238.89\n",
      "Energy_vdwclash =               3.42\n",
      "energy_torsion  =               6.70\n",
      "backbone_vdwclash=              158.16\n",
      "Entropy_sidec   =               105.87\n",
      "Entropy_mainc   =               231.69\n",
      "water bonds     =               0.00\n",
      "helix dipole    =               -8.75\n",
      "loop_entropy    =               0.00\n",
      "cis_bond        =               0.00\n",
      "disulfide       =               0.00\n",
      "kn electrostatic=               0.00\n",
      "partial covalent interactions = 0.00\n",
      "Energy_Ionisation =             1.56\n",
      "Entropy Complex =               0.00\n",
      "-----------------------------------------------------------\n",
      "Total          = \t\t\t\t  -32.28\n",
      "\n",
      "Starting BuildModel\n",
      "Reading MA0G;\n",
      "Residue to Mutate META0 has residue index 0\n",
      "Mutating residue = META0 into GLY\n",
      "Your file run OK\n",
      "End time of FoldX: Mon Aug  7 10:34:55 2023\n",
      "Total time spend: 54.97 seconds.\n",
      "validated file \"101m_Repair_1.pdb\" => successfully finished\n",
      "Cleaning BuildModel...DONE\n"
     ]
    },
    {
     "data": {
      "text/plain": [
       "CompletedProcess(args=['/Users/migd/foldx/foldx', '--pdb', '101m_Repair.pdb', '--command', 'BuildModel', '--mutant-file', '/Users/migd/Projects/protein-opt/docs/protein-optimization/understanding_foldx/01-single-mutation-using-foldx/tmp/individual_list.txt', '--water', '-CRYSTAL', '--pH', '7.0'], returncode=0)"
      ]
     },
     "execution_count": 13,
     "metadata": {},
     "output_type": "execute_result"
    }
   ],
   "source": [
    "subprocess.run(foldx_cmd, cwd=WORKING_DIR)"
   ]
  },
  {
   "cell_type": "markdown",
   "metadata": {},
   "source": [
    "After running this command, 6 new files are created in our working directory:\n",
    "\n",
    "```\n",
    "└── tmp\n",
    "    ├── 101m.pdb\n",
    "    ├── 101m_Repair.fxout\n",
    "    ├── 101m_Repair.pdb\n",
    "    ├── 101m_Repair_1.pdb           # <--\n",
    "    ├── Average_101m_Repair.fxout   # <--\n",
    "    ├── Dif_101m_Repair.fxout       # <--\n",
    "    ├── PdbList_101m_Repair.fxout   # <--\n",
    "    ├── Raw_101m_Repair.fxout       # <--\n",
    "    ├── Unrecognized_molecules.txt\n",
    "    ├── WT_101m_Repair_1.pdb        # <--\n",
    "    ├── individual_list.txt\n",
    "    └── rotabase.txt\n",
    "```\n",
    "\n",
    "Of these, the resulting energy can be found in the last two lines of `Raw_{pdb_name}_Repair.fxout`, which form a table with several more quantities. Let's create a `pandas` dataframe:"
   ]
  },
  {
   "cell_type": "code",
   "execution_count": 14,
   "metadata": {},
   "outputs": [],
   "source": [
    "# The details of these can be found in:\n",
    "# https://foldxsuite.crg.eu/command/BuildModel\n",
    "\n",
    "column_names = [\n",
    "    \"Pdb\",\n",
    "    \"total energy\",\n",
    "    \"Backbone Hbond\",\n",
    "    \"Sidechain Hbond\",\n",
    "    \"Van der Waals\",\n",
    "    \"Electrostatics\",\n",
    "    \"Solvation Polar\",\n",
    "    \"Solvation Hydrophobic\",\n",
    "    \"Van der Waals clashes\",\n",
    "    \"entropy sidechain\",\n",
    "    \"entropy mainchain\",\n",
    "    \"sloop_entropy\", \n",
    "    \"mloop_entropy\",\n",
    "    \"cis_bond\",\n",
    "    \"torsional clash\",\n",
    "    \"backbone clash\",\n",
    "    \"helix dipole\",\n",
    "    \"water bridge\",\n",
    "    \"disulfide\",\n",
    "    \"electrostatic kon\",\n",
    "    \"partial covalent bonds\",\n",
    "    \"energy Ionisation\",\n",
    "    \"Entropy Complex\"\n",
    "]"
   ]
  },
  {
   "cell_type": "code",
   "execution_count": 15,
   "metadata": {},
   "outputs": [],
   "source": [
    "import pandas as pd\n",
    "\n",
    "with open(WORKING_DIR / f\"Raw_{pdb_name}_Repair.fxout\") as f:\n",
    "    lines = f.readlines()\n",
    "\n",
    "# The important data is in the last two lines\n",
    "df = pd.DataFrame(\n",
    "    [line.split() for line in lines[-2:]],\n",
    "    columns=column_names\n",
    ")"
   ]
  },
  {
   "cell_type": "markdown",
   "metadata": {},
   "source": [
    "Of all these columns, we are interested in the `total energy` (*the predicted overall stability of the protein*, according to [`foldx`](https://foldxsuite.crg.eu/command/BuildModel)). Let's check what the total energy was for both of these:"
   ]
  },
  {
   "cell_type": "code",
   "execution_count": 16,
   "metadata": {},
   "outputs": [
    {
     "data": {
      "text/html": [
       "<div>\n",
       "<style scoped>\n",
       "    .dataframe tbody tr th:only-of-type {\n",
       "        vertical-align: middle;\n",
       "    }\n",
       "\n",
       "    .dataframe tbody tr th {\n",
       "        vertical-align: top;\n",
       "    }\n",
       "\n",
       "    .dataframe thead th {\n",
       "        text-align: right;\n",
       "    }\n",
       "</style>\n",
       "<table border=\"1\" class=\"dataframe\">\n",
       "  <thead>\n",
       "    <tr style=\"text-align: right;\">\n",
       "      <th></th>\n",
       "      <th>Pdb</th>\n",
       "      <th>total energy</th>\n",
       "    </tr>\n",
       "  </thead>\n",
       "  <tbody>\n",
       "    <tr>\n",
       "      <th>0</th>\n",
       "      <td>101m_Repair_1.pdb</td>\n",
       "      <td>-31.7457</td>\n",
       "    </tr>\n",
       "    <tr>\n",
       "      <th>1</th>\n",
       "      <td>WT_101m_Repair_1.pdb</td>\n",
       "      <td>-34.3436</td>\n",
       "    </tr>\n",
       "  </tbody>\n",
       "</table>\n",
       "</div>"
      ],
      "text/plain": [
       "                    Pdb total energy\n",
       "0     101m_Repair_1.pdb     -31.7457\n",
       "1  WT_101m_Repair_1.pdb     -34.3436"
      ]
     },
     "execution_count": 16,
     "metadata": {},
     "output_type": "execute_result"
    }
   ],
   "source": [
    "df[[\"Pdb\", \"total energy\"]]"
   ]
  },
  {
   "cell_type": "markdown",
   "metadata": {},
   "source": [
    "In `foldx`'s notation, the row at index 0 corresponds to the mutated version of the wild type (which appears at index 1)."
   ]
  },
  {
   "cell_type": "markdown",
   "metadata": {},
   "source": [
    "## Computing the SASA score"
   ]
  },
  {
   "cell_type": "markdown",
   "metadata": {},
   "source": [
    "SASA stands for *solvent-accessible surface area*. An algorithm for computing this value was described in {cite:p}`ShrakeRupley:SASA:1973`."
   ]
  },
  {
   "cell_type": "markdown",
   "metadata": {},
   "source": [
    "Computing it is pretty easy now that we have both the PDB for the wild type and for the mutated molecule. `Biopython` has all the functionality available:"
   ]
  },
  {
   "cell_type": "code",
   "execution_count": 21,
   "metadata": {},
   "outputs": [
    {
     "name": "stdout",
     "output_type": "stream",
     "text": [
      "Wildtype SASA: 8407.731560227876\n",
      "Mutant SASA: 8439.063468009845\n"
     ]
    }
   ],
   "source": [
    "from Bio.PDB import SASA\n",
    "\n",
    "# Let's load up the structure again, for both the wildtype and the mutant\n",
    "parser = PDB.PDBParser(QUIET=True)\n",
    "wt_structure = parser.get_structure(\"pdb\", WORKING_DIR / \"101m_Repair.pdb\")\n",
    "mut_structure = parser.get_structure(\"pdb1\", WORKING_DIR / \"101m_Repair_1.pdb\")\n",
    "\n",
    "# Now, we can create a SASA computer\n",
    "sasa = SASA.ShrakeRupley()\n",
    "\n",
    "# We can attach, to each structure, its SASA\n",
    "sasa.compute(wt_structure, level=\"S\")\n",
    "sasa.compute(mut_structure, level=\"S\")\n",
    "\n",
    "print(f\"Wildtype SASA: {wt_structure.sasa}\")\n",
    "print(f\"Mutant SASA: {mut_structure.sasa}\")"
   ]
  },
  {
   "cell_type": "markdown",
   "metadata": {},
   "source": [
    "## Conclusion"
   ]
  },
  {
   "cell_type": "markdown",
   "metadata": {},
   "source": [
    "This short tutorial shows how to use the binaries of `foldx` to measure the impact of a mutation on a wild type's predicted energy. To do so, we\n",
    "\n",
    "1. repaired the `.pdb` we downloaded from the database,\n",
    "2. defined a desired mutation using an `individual_list.txt` file,\n",
    "3. used `foldx`'s BuildModel command, passing this list of desired mutations.\n",
    "4. computed both the stability and the SASA of the wild type and its mutation.\n",
    "\n",
    "These are quantities we want to optimize: the lesser the energy, the stabler a protein might be, and higher SASA correlates with e.g. length of fluorescence in certain proteins. Indeed, these are the quantities described and optimized one of the tasks presented in [LaMBO](https://github.com/samuelstanton/lambo) {cite:p}`stanton2022accelerating`."
   ]
  },
  {
   "cell_type": "markdown",
   "metadata": {},
   "source": [
    "## Bibliography"
   ]
  },
  {
   "cell_type": "markdown",
   "metadata": {},
   "source": [
    ":::{bibliography}\n",
    ":style: alpha\n",
    "\n",
    ":::"
   ]
  }
 ],
 "metadata": {
  "kernelspec": {
   "display_name": "poli-dev",
   "language": "python",
   "name": "python3"
  },
  "language_info": {
   "codemirror_mode": {
    "name": "ipython",
    "version": 3
   },
   "file_extension": ".py",
   "mimetype": "text/x-python",
   "name": "python",
   "nbconvert_exporter": "python",
   "pygments_lexer": "ipython3",
   "version": "3.9.16"
  },
  "orig_nbformat": 4
 },
 "nbformat": 4,
 "nbformat_minor": 2
}
