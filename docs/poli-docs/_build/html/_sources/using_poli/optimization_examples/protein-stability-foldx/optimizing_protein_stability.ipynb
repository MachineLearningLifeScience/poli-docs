{
 "cells": [
  {
   "cell_type": "markdown",
   "metadata": {},
   "source": [
    "# Optimizing protein stability using random mutations"
   ]
  },
  {
   "cell_type": "markdown",
   "metadata": {},
   "source": [
    "## Stability optimization is a registered problem\n"
   ]
  },
  {
   "cell_type": "markdown",
   "metadata": {},
   "source": [
    "`poli`'s registry has a `get_problems()` method which returns the objective functions already compiled. It works by loading up a `config.rc` file sitting inside `src/poli/core`."
   ]
  },
  {
   "cell_type": "code",
   "execution_count": 1,
   "metadata": {},
   "outputs": [
    {
     "data": {
      "text/plain": [
       "['aloha',\n",
       " 'dockstring',\n",
       " 'drd3_docking',\n",
       " 'foldx_rfp_lambo',\n",
       " 'foldx_sasa',\n",
       " 'foldx_stability',\n",
       " 'foldx_stability_and_sasa',\n",
       " 'gfp_cbas',\n",
       " 'gfp_select',\n",
       " 'penalized_logp_lambo',\n",
       " 'rasp',\n",
       " 'rdkit_logp',\n",
       " 'rdkit_qed',\n",
       " 'sa_tdc',\n",
       " 'super_mario_bros',\n",
       " 'toy_continuous_problem',\n",
       " 'white_noise']"
      ]
     },
     "execution_count": 1,
     "metadata": {},
     "output_type": "execute_result"
    }
   ],
   "source": [
    "from poli.core.registry import get_problems\n",
    "get_problems(only_available=False)"
   ]
  },
  {
   "cell_type": "markdown",
   "metadata": {},
   "source": [
    "As you can see, `foldx_stability` is already available in the repository.\n",
    "\n",
    "Let's stick with it as a problem name:"
   ]
  },
  {
   "cell_type": "code",
   "execution_count": 2,
   "metadata": {},
   "outputs": [],
   "source": [
    "problem_name = \"foldx_stability\""
   ]
  },
  {
   "cell_type": "markdown",
   "metadata": {},
   "source": [
    "## Optimizing `mRouge`"
   ]
  },
  {
   "cell_type": "markdown",
   "metadata": {},
   "source": [
    "In this example, we will focus on optimizing [`mRouge`, also known as `3NED`](https://www.rcsb.org/structure/3NED), one of the red fluorescent proteins explored in `LaMBO` {cite:p}`stanton2022accelerating`. Before optimization, we need to download the file and \"repair\" it (see [single mutations using foldx](../../understanding_foldx/01-single-mutation-using-foldx/index.ipynb)).\n",
    "\n",
    "We assume that the repaired file is already here."
   ]
  },
  {
   "cell_type": "code",
   "execution_count": 3,
   "metadata": {},
   "outputs": [
    {
     "name": "stdout",
     "output_type": "stream",
     "text": [
      "3ned_Repair.pdb                    optimizing_protein_stability.ipynb\n"
     ]
    }
   ],
   "source": [
    "!ls"
   ]
  },
  {
   "cell_type": "code",
   "execution_count": 4,
   "metadata": {},
   "outputs": [
    {
     "data": {
      "text/plain": [
       "True"
      ]
     },
     "execution_count": 4,
     "metadata": {},
     "output_type": "execute_result"
    }
   ],
   "source": [
    "from pathlib import Path\n",
    "\n",
    "wildtype_pdb_path = Path(\"./3ned_Repair.pdb\").resolve()\n",
    "wildtype_pdb_path.exists()  # Should say True"
   ]
  },
  {
   "cell_type": "markdown",
   "metadata": {},
   "source": [
    "## Defining the objective function"
   ]
  },
  {
   "cell_type": "markdown",
   "metadata": {},
   "source": [
    "In this tutorial, we optimize the stability of `mRogue` using the `foldx_stability` problem factory. The first step is creating the problem:\n",
    "\n",
    ":::{warning}\n",
    "\n",
    "In general, it is a good idea to check how to create instances of individual problems in their documentation, since they might need extra inputs.\n",
    "\n",
    "For example, [`foldx_stability` only needs one extra keyword argument: a single/list of `wildtype_pdb_path`](../../objective_repository/foldx_stability.md). `poli` will hopefully remind you what you forgot with its error messages.\n",
    "\n",
    ":::"
   ]
  },
  {
   "cell_type": "code",
   "execution_count": 5,
   "metadata": {
    "tags": [
     "hide-output"
    ]
   },
   "outputs": [
    {
     "name": "stdout",
     "output_type": "stream",
     "text": [
      "poli 🧪: Creating the objective from the repository.\n",
      "   ********************************************\n",
      "   ***                                      ***\n",
      "   ***             FoldX 5 (c)            ***\n",
      "   ***                                      ***\n",
      "   ***     code by the FoldX Consortium     ***\n",
      "   ***                                      ***\n",
      "   ***     Jesper Borg, Frederic Rousseau   ***\n",
      "   ***    Joost Schymkowitz, Luis Serrano   ***\n",
      "   ***    Peter Vanhee, Erik Verschueren    ***\n",
      "   ***     Lies Baeten, Javier Delgado      ***\n",
      "   ***       and Francois Stricher          ***\n",
      "   *** and any other of the 9! permutations ***\n",
      "   ***   based on an original concept by    ***\n",
      "   ***   Raphael Guerois and Luis Serrano   ***\n",
      "   ********************************************\n",
      "\n",
      "1 models read: 3ned_Repair.pdb\n",
      "1 models read: 3ned_Repair.pdb\n",
      "\n",
      "BackHbond       =               -178.70\n",
      "SideHbond       =               -76.61\n",
      "Energy_VdW      =               -267.80\n",
      "Electro         =               -13.75\n",
      "Energy_SolvP    =               374.21\n",
      "Energy_SolvH    =               -351.07\n",
      "Energy_vdwclash =               6.28\n",
      "energy_torsion  =               7.33\n",
      "backbone_vdwclash=              65.17\n",
      "Entropy_sidec   =               146.42\n",
      "Entropy_mainc   =               340.27\n",
      "water bonds     =               0.00\n",
      "helix dipole    =               0.00\n",
      "loop_entropy    =               0.00\n",
      "cis_bond        =               2.25\n",
      "disulfide       =               0.00\n",
      "kn electrostatic=               0.00\n",
      "partial covalent interactions = 0.00\n",
      "Energy_Ionisation =             1.77\n",
      "Entropy Complex =               0.00\n",
      "-----------------------------------------------------------\n",
      "Total          = \t\t\t\t  -9.41\n",
      "\n",
      "\n",
      "BackHbond       =               -178.70\n",
      "SideHbond       =               -76.61\n",
      "Energy_VdW      =               -267.80\n",
      "Electro         =               -13.75\n",
      "Energy_SolvP    =               374.21\n",
      "Energy_SolvH    =               -351.07\n",
      "Energy_vdwclash =               6.28\n",
      "energy_torsion  =               7.33\n",
      "backbone_vdwclash=              65.17\n",
      "Entropy_sidec   =               146.42\n",
      "Entropy_mainc   =               340.27\n",
      "water bonds     =               0.00\n",
      "helix dipole    =               0.00\n",
      "loop_entropy    =               0.00\n",
      "cis_bond        =               2.25\n",
      "disulfide       =               0.00\n",
      "kn electrostatic=               0.00\n",
      "partial covalent interactions = 0.00\n",
      "Energy_Ionisation =             1.77\n",
      "Entropy Complex =               0.00\n",
      "-----------------------------------------------------------\n",
      "Total          = \t\t\t\t  -9.41\n",
      "\n",
      "Starting BuildModel\n",
      "Reading EA1E;\n",
      "Residue to Mutate GLUA1 has residue index 0\n",
      "Mutating residue = GLUA1 into GLU\n",
      "Your file run OK\n",
      "End time of FoldX: Fri Jan 19 09:51:02 2024\n",
      "Total time spend: 2.64 seconds.\n",
      "validated file \"3ned_Repair_1.pdb\" => successfully finished\n",
      "Cleaning BuildModel...DONE\n"
     ]
    }
   ],
   "source": [
    "from poli import objective_factory\n",
    "\n",
    "f, x0, y0 = objective_factory.create(\n",
    "    name=\"foldx_stability\",\n",
    "    caller_info=None,\n",
    "    observer=None,\n",
    "    wildtype_pdb_path=wildtype_pdb_path\n",
    ")"
   ]
  },
  {
   "cell_type": "markdown",
   "metadata": {},
   "source": [
    "`objective_factory.create` returns five things:\n",
    "\n",
    "1. a `problem_info` with a description of the problem, including useful attributes like `alphabet` or `max_sequence_length`.\n",
    "2. a black-box function `f: AbstractBlackBox` from `poli`.\n",
    "3. an initial design `x0: np.ndarray`, and\n",
    "4. an initial evaluation `y0: np.ndarray`.\n",
    "5. `run_info`, or the output of the observer's initialization (see more [in our chapter about making observers](../../the_basics/defining_an_observer.ipynb))."
   ]
  },
  {
   "cell_type": "markdown",
   "metadata": {},
   "source": [
    "These are all the ingredients required for an abstract solver to work. The next section shows how to use a baseline solver, which can be easily replaced by any other solver you implement (as long as it inherits from the `AbstractSolver` in `poli_baselines.core.abstract_solver`)."
   ]
  },
  {
   "cell_type": "markdown",
   "metadata": {},
   "source": [
    "## Optimizing using a `RandomMutation` solver"
   ]
  },
  {
   "cell_type": "markdown",
   "metadata": {},
   "source": [
    "In this tutorial we use the simplest baseline for discrete sequence optimization: a `RandomMutation` which takes the best performing sequence and randomly mutates it by selecting a position at random, and altering for another element of the alphabet.\n",
    "\n",
    ":::{note}\n",
    "\n",
    "There's nothing special about `RandomMutation` here. You could drop-in any solver you implement as long as it\n",
    "\n",
    "1. Inherits from `AbstractSolver` in `poli_baselines.core.abstract_solver`, and it\n",
    "2. implements the abstract method `next_candidate() -> np.ndarray`.\n",
    "\n",
    "[Check this tutorial on creating solvers for more details](../../the_basics/defining_a_problem_solver.md).\n",
    "\n",
    ":::"
   ]
  },
  {
   "cell_type": "code",
   "execution_count": 6,
   "metadata": {},
   "outputs": [],
   "source": [
    "from poli_baselines.solvers.simple.random_mutation import RandomMutation\n",
    "solver = RandomMutation(\n",
    "    black_box=f,\n",
    "    x0=x0,\n",
    "    y0=y0,\n",
    ")"
   ]
  },
  {
   "cell_type": "markdown",
   "metadata": {},
   "source": [
    "**And that's it!** You can optimize the objective function passed as `black_box` by just calling the `.solve(n_iters)` method: (be careful, this might take a while)"
   ]
  },
  {
   "cell_type": "code",
   "execution_count": 7,
   "metadata": {
    "tags": [
     "hide-output"
    ]
   },
   "outputs": [
    {
     "name": "stdout",
     "output_type": "stream",
     "text": [
      "   ********************************************\n",
      "   ***                                      ***\n",
      "   ***             FoldX 5 (c)            ***\n",
      "   ***                                      ***\n",
      "   ***     code by the FoldX Consortium     ***\n",
      "   ***                                      ***\n",
      "   ***     Jesper Borg, Frederic Rousseau   ***\n",
      "   ***    Joost Schymkowitz, Luis Serrano   ***\n",
      "   ***    Peter Vanhee, Erik Verschueren    ***\n",
      "   ***     Lies Baeten, Javier Delgado      ***\n",
      "   ***       and Francois Stricher          ***\n",
      "   *** and any other of the 9! permutations ***\n",
      "   ***   based on an original concept by    ***\n",
      "   ***   Raphael Guerois and Luis Serrano   ***\n",
      "   ********************************************\n",
      "\n",
      "1 models read: 3ned_Repair.pdb\n",
      "1 models read: 3ned_Repair.pdb\n",
      "\n",
      "BackHbond       =               -178.70\n",
      "SideHbond       =               -76.61\n",
      "Energy_VdW      =               -267.80\n",
      "Electro         =               -13.75\n",
      "Energy_SolvP    =               374.21\n",
      "Energy_SolvH    =               -351.07\n",
      "Energy_vdwclash =               6.28\n",
      "energy_torsion  =               7.33\n",
      "backbone_vdwclash=              65.17\n",
      "Entropy_sidec   =               146.42\n",
      "Entropy_mainc   =               340.27\n",
      "water bonds     =               0.00\n",
      "helix dipole    =               0.00\n",
      "loop_entropy    =               0.00\n",
      "cis_bond        =               2.25\n",
      "disulfide       =               0.00\n",
      "kn electrostatic=               0.00\n",
      "partial covalent interactions = 0.00\n",
      "Energy_Ionisation =             1.77\n",
      "Entropy Complex =               0.00\n",
      "-----------------------------------------------------------\n",
      "Total          = \t\t\t\t  -9.41\n",
      "\n",
      "\n",
      "BackHbond       =               -178.70\n",
      "SideHbond       =               -76.61\n",
      "Energy_VdW      =               -267.80\n",
      "Electro         =               -13.75\n",
      "Energy_SolvP    =               374.21\n",
      "Energy_SolvH    =               -351.07\n",
      "Energy_vdwclash =               6.28\n",
      "energy_torsion  =               7.33\n",
      "backbone_vdwclash=              65.17\n",
      "Entropy_sidec   =               146.42\n",
      "Entropy_mainc   =               340.27\n",
      "water bonds     =               0.00\n",
      "helix dipole    =               0.00\n",
      "loop_entropy    =               0.00\n",
      "cis_bond        =               2.25\n",
      "disulfide       =               0.00\n",
      "kn electrostatic=               0.00\n",
      "partial covalent interactions = 0.00\n",
      "Energy_Ionisation =             1.77\n",
      "Entropy Complex =               0.00\n",
      "-----------------------------------------------------------\n",
      "Total          = \t\t\t\t  -9.41\n",
      "\n",
      "Starting BuildModel\n",
      "Reading NA194F;\n",
      "Residue to Mutate ASNA194 has residue index 193\n",
      "Mutating residue = ASNA194 into PHE\n",
      "Your file run OK\n",
      "End time of FoldX: Fri Jan 19 09:51:22 2024\n",
      "Total time spend: 6.54 seconds.\n",
      "validated file \"3ned_Repair_1.pdb\" => successfully finished\n",
      "Cleaning BuildModel...DONE\n",
      "   ********************************************\n",
      "   ***                                      ***\n",
      "   ***             FoldX 5 (c)            ***\n",
      "   ***                                      ***\n",
      "   ***     code by the FoldX Consortium     ***\n",
      "   ***                                      ***\n",
      "   ***     Jesper Borg, Frederic Rousseau   ***\n",
      "   ***    Joost Schymkowitz, Luis Serrano   ***\n",
      "   ***    Peter Vanhee, Erik Verschueren    ***\n",
      "   ***     Lies Baeten, Javier Delgado      ***\n",
      "   ***       and Francois Stricher          ***\n",
      "   *** and any other of the 9! permutations ***\n",
      "   ***   based on an original concept by    ***\n",
      "   ***   Raphael Guerois and Luis Serrano   ***\n",
      "   ********************************************\n",
      "\n",
      "1 models read: 3ned_Repair.pdb\n",
      "1 models read: 3ned_Repair.pdb\n",
      "\n",
      "BackHbond       =               -178.70\n",
      "SideHbond       =               -76.61\n",
      "Energy_VdW      =               -267.80\n",
      "Electro         =               -13.75\n",
      "Energy_SolvP    =               374.21\n",
      "Energy_SolvH    =               -351.07\n",
      "Energy_vdwclash =               6.28\n",
      "energy_torsion  =               7.33\n",
      "backbone_vdwclash=              65.17\n",
      "Entropy_sidec   =               146.42\n",
      "Entropy_mainc   =               340.27\n",
      "water bonds     =               0.00\n",
      "helix dipole    =               0.00\n",
      "loop_entropy    =               0.00\n",
      "cis_bond        =               2.25\n",
      "disulfide       =               0.00\n",
      "kn electrostatic=               0.00\n",
      "partial covalent interactions = 0.00\n",
      "Energy_Ionisation =             1.77\n",
      "Entropy Complex =               0.00\n",
      "-----------------------------------------------------------\n",
      "Total          = \t\t\t\t  -9.41\n",
      "\n",
      "\n",
      "BackHbond       =               -178.70\n",
      "SideHbond       =               -76.61\n",
      "Energy_VdW      =               -267.80\n",
      "Electro         =               -13.75\n",
      "Energy_SolvP    =               374.21\n",
      "Energy_SolvH    =               -351.07\n",
      "Energy_vdwclash =               6.28\n",
      "energy_torsion  =               7.33\n",
      "backbone_vdwclash=              65.17\n",
      "Entropy_sidec   =               146.42\n",
      "Entropy_mainc   =               340.27\n",
      "water bonds     =               0.00\n",
      "helix dipole    =               0.00\n",
      "loop_entropy    =               0.00\n",
      "cis_bond        =               2.25\n",
      "disulfide       =               0.00\n",
      "kn electrostatic=               0.00\n",
      "partial covalent interactions = 0.00\n",
      "Energy_Ionisation =             1.77\n",
      "Entropy Complex =               0.00\n",
      "-----------------------------------------------------------\n",
      "Total          = \t\t\t\t  -9.41\n",
      "\n",
      "Starting BuildModel\n",
      "Reading QA114S,NA194F;\n",
      "Residue to Mutate GLNA114 has residue index 113\n",
      "Residue to Mutate ASNA194 has residue index 193\n",
      "Mutating residue = ASNA194 into PHE\n",
      "Mutating residue = GLNA114 into SER\n",
      "Your file run OK\n",
      "End time of FoldX: Fri Jan 19 09:51:32 2024\n",
      "Total time spend: 8.65 seconds.\n",
      "validated file \"3ned_Repair_1.pdb\" => successfully finished\n",
      "Cleaning BuildModel...DONE\n",
      "   ********************************************\n",
      "   ***                                      ***\n",
      "   ***             FoldX 5 (c)            ***\n",
      "   ***                                      ***\n",
      "   ***     code by the FoldX Consortium     ***\n",
      "   ***                                      ***\n",
      "   ***     Jesper Borg, Frederic Rousseau   ***\n",
      "   ***    Joost Schymkowitz, Luis Serrano   ***\n",
      "   ***    Peter Vanhee, Erik Verschueren    ***\n",
      "   ***     Lies Baeten, Javier Delgado      ***\n",
      "   ***       and Francois Stricher          ***\n",
      "   *** and any other of the 9! permutations ***\n",
      "   ***   based on an original concept by    ***\n",
      "   ***   Raphael Guerois and Luis Serrano   ***\n",
      "   ********************************************\n",
      "\n",
      "1 models read: 3ned_Repair.pdb\n",
      "1 models read: 3ned_Repair.pdb\n",
      "\n",
      "BackHbond       =               -178.70\n",
      "SideHbond       =               -76.61\n",
      "Energy_VdW      =               -267.80\n",
      "Electro         =               -13.75\n",
      "Energy_SolvP    =               374.21\n",
      "Energy_SolvH    =               -351.07\n",
      "Energy_vdwclash =               6.28\n",
      "energy_torsion  =               7.33\n",
      "backbone_vdwclash=              65.17\n",
      "Entropy_sidec   =               146.42\n",
      "Entropy_mainc   =               340.27\n",
      "water bonds     =               0.00\n",
      "helix dipole    =               0.00\n",
      "loop_entropy    =               0.00\n",
      "cis_bond        =               2.25\n",
      "disulfide       =               0.00\n",
      "kn electrostatic=               0.00\n",
      "partial covalent interactions = 0.00\n",
      "Energy_Ionisation =             1.77\n",
      "Entropy Complex =               0.00\n",
      "-----------------------------------------------------------\n",
      "Total          = \t\t\t\t  -9.41\n",
      "\n",
      "\n",
      "BackHbond       =               -178.70\n",
      "SideHbond       =               -76.61\n",
      "Energy_VdW      =               -267.80\n",
      "Electro         =               -13.75\n",
      "Energy_SolvP    =               374.21\n",
      "Energy_SolvH    =               -351.07\n",
      "Energy_vdwclash =               6.28\n",
      "energy_torsion  =               7.33\n",
      "backbone_vdwclash=              65.17\n",
      "Entropy_sidec   =               146.42\n",
      "Entropy_mainc   =               340.27\n",
      "water bonds     =               0.00\n",
      "helix dipole    =               0.00\n",
      "loop_entropy    =               0.00\n",
      "cis_bond        =               2.25\n",
      "disulfide       =               0.00\n",
      "kn electrostatic=               0.00\n",
      "partial covalent interactions = 0.00\n",
      "Energy_Ionisation =             1.77\n",
      "Entropy Complex =               0.00\n",
      "-----------------------------------------------------------\n",
      "Total          = \t\t\t\t  -9.41\n",
      "\n",
      "Starting BuildModel\n",
      "Reading DA3M,QA114S,NA194F;\n",
      "Residue to Mutate ASPA3 has residue index 2\n",
      "Residue to Mutate GLNA114 has residue index 113\n",
      "Residue to Mutate ASNA194 has residue index 193\n",
      "Mutating residue = ASPA3 into MET\n",
      "Mutating residue = ASNA194 into PHE\n",
      "Mutating residue = GLNA114 into SER\n",
      "Your file run OK\n",
      "End time of FoldX: Fri Jan 19 09:51:42 2024\n",
      "Total time spend: 9.23 seconds.\n",
      "validated file \"3ned_Repair_1.pdb\" => successfully finished\n",
      "Cleaning BuildModel...DONE\n"
     ]
    }
   ],
   "source": [
    "solver.solve(max_iter=3)"
   ]
  },
  {
   "cell_type": "markdown",
   "metadata": {},
   "source": [
    "## Checking the results"
   ]
  },
  {
   "cell_type": "markdown",
   "metadata": {},
   "source": [
    "After optimization, the results are stored inside `solver.history`, which is a dictionary with `\"x\"` and `\"y\"` keys. Let's check what the best optimization result was:"
   ]
  },
  {
   "cell_type": "code",
   "execution_count": 8,
   "metadata": {},
   "outputs": [
    {
     "name": "stdout",
     "output_type": "stream",
     "text": [
      "All y values: [array([[9.41639]]), array([[13.0629]]), array([[13.5983]]), array([[13.1298]])]\n",
      "best stability: [13.5983]\n",
      "Associated sequence: EEDNMAIIKEFMRFKTHMEGSVNGHEFEIEGEGEGRPYEGTQTAKLKVTKGGPLPFAWDILSPQFSKAYVKHPADIPDYLKLSFPEGFKWERVMNFEDGGVVTVTQDSSLSDGEFIYKVKLRGTNFPSDGPVMQKKTMGWEACSERMYPEDGALKGEMKMRLKLKDGGHYDAEVKTTYKAKKPVQLPGAYFTNTKLDITSHNEDYTIVEQYERNEGRHSTGGMDELYK\n"
     ]
    }
   ],
   "source": [
    "print(f\"All y values: {solver.history['y']}\")\n",
    "print(f\"best stability: {solver.get_best_performance()}\")\n",
    "print(f\"Associated sequence: {''.join(solver.get_best_solution().flatten())}\")"
   ]
  }
 ],
 "metadata": {
  "kernelspec": {
   "display_name": "poli-dev",
   "language": "python",
   "name": "python3"
  },
  "language_info": {
   "codemirror_mode": {
    "name": "ipython",
    "version": 3
   },
   "file_extension": ".py",
   "mimetype": "text/x-python",
   "name": "python",
   "nbconvert_exporter": "python",
   "pygments_lexer": "ipython3",
   "version": "3.9.17"
  },
  "orig_nbformat": 4
 },
 "nbformat": 4,
 "nbformat_minor": 2
}
