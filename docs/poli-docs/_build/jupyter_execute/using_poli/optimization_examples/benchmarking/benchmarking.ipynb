{
 "cells": [
  {
   "cell_type": "markdown",
   "id": "d18c1e24-142b-4a7d-a0dc-bbe6d8ae43dd",
   "metadata": {},
   "source": [
    "# Running benchmarks with *poli* and *poli-baselines* "
   ]
  },
  {
   "cell_type": "markdown",
   "id": "95ce7a2b-f264-4dac-b546-9c9b1f6e0f92",
   "metadata": {},
   "source": [
    "We'll use `poli`'s `get_problems()` method to pick the problems that interest us."
   ]
  },
  {
   "cell_type": "code",
   "execution_count": 1,
   "id": "1521313c-3a2f-4c24-ab6c-026ad4ee1bc6",
   "metadata": {},
   "outputs": [
    {
     "data": {
      "text/plain": [
       "['albuterol_similarity',\n",
       " 'aloha',\n",
       " 'amlodipine_mpo',\n",
       " 'celecoxib_rediscovery',\n",
       " 'deco_hop',\n",
       " 'dockstring',\n",
       " 'drd2_docking',\n",
       " 'drd3_docking',\n",
       " 'ehrlich',\n",
       " 'ehrlich_holo',\n",
       " 'fexofenadine_mpo',\n",
       " 'foldx_rfp_lambo',\n",
       " 'foldx_sasa',\n",
       " 'foldx_stability',\n",
       " 'foldx_stability_and_sasa',\n",
       " 'gfp_cbas',\n",
       " 'gfp_select',\n",
       " 'gsk3_beta',\n",
       " 'isomer_c7h8n2o2',\n",
       " 'isomer_c9h10n2o2pf2cl',\n",
       " 'jnk3',\n",
       " 'median_1',\n",
       " 'median_2',\n",
       " 'mestranol_similarity',\n",
       " 'osimetrinib_mpo',\n",
       " 'penalized_logp_lambo',\n",
       " 'perindopril_mpo',\n",
       " 'ranolazine_mpo',\n",
       " 'rasp',\n",
       " 'rdkit_logp',\n",
       " 'rdkit_qed',\n",
       " 'rfp_foldx_stability',\n",
       " 'rfp_foldx_stability_and_sasa',\n",
       " 'rfp_rasp',\n",
       " 'rmf_landscape',\n",
       " 'rosetta_energy',\n",
       " 'sa_tdc',\n",
       " 'scaffold_hop',\n",
       " 'sitagliptin_mpo',\n",
       " 'super_mario_bros',\n",
       " 'thiothixene_rediscovery',\n",
       " 'toy_continuous_problem',\n",
       " 'troglitazone_rediscovery',\n",
       " 'valsartan_smarts',\n",
       " 'white_noise',\n",
       " 'zaleplon_mpo']"
      ]
     },
     "execution_count": 1,
     "metadata": {},
     "output_type": "execute_result"
    }
   ],
   "source": [
    "from poli import get_problems\n",
    "get_problems()"
   ]
  },
  {
   "cell_type": "code",
   "execution_count": 2,
   "id": "38800c58-8417-4161-a96b-c4eba983a62e",
   "metadata": {},
   "outputs": [],
   "source": [
    "problems = [\"white_noise\", \"aloha\"]"
   ]
  },
  {
   "cell_type": "markdown",
   "id": "5b166147-b322-4088-9cfe-4a7385aa13ff",
   "metadata": {},
   "source": [
    "# Selecting solvers"
   ]
  },
  {
   "cell_type": "code",
   "execution_count": 3,
   "id": "4f7ac187-3f73-4f6d-bc54-4a1d4b18a290",
   "metadata": {},
   "outputs": [],
   "source": [
    "from poli_baselines.solvers.simple.random_mutation import RandomMutation\n",
    "from poli_baselines.solvers.simple.genetic_algorithm import FixedLengthGeneticAlgorithm"
   ]
  },
  {
   "cell_type": "markdown",
   "id": "dd041278-5dfe-4683-9e82-7889de485b89",
   "metadata": {},
   "source": [
    "For each solver, let's also add information whether they need sequences to be aligned."
   ]
  },
  {
   "cell_type": "code",
   "execution_count": 4,
   "id": "a6b3a506-eabd-4eea-a57f-abc27d226f7e",
   "metadata": {},
   "outputs": [],
   "source": [
    "solvers = [(FixedLengthGeneticAlgorithm, True), (RandomMutation, False)]"
   ]
  },
  {
   "cell_type": "markdown",
   "id": "2c3e40c2-1375-4520-8615-a2259b05a22c",
   "metadata": {},
   "source": [
    "# (Advanced) Observer registration"
   ]
  },
  {
   "cell_type": "markdown",
   "id": "332a2a8a-d578-496e-a2c9-fcb00d1b7779",
   "metadata": {},
   "source": [
    "It may happen that problem, solver and observer cannot run in the same environment. \n",
    "That's why for this example, we will register the observer and leave the instantiation to `poli`. "
   ]
  },
  {
   "cell_type": "code",
   "execution_count": 5,
   "id": "2b1e17ae-d2f1-4266-8f47-be79ddb2717d",
   "metadata": {},
   "outputs": [
    {
     "ename": "ModuleNotFoundError",
     "evalue": "No module named 'poli.core.util.observers'",
     "output_type": "error",
     "traceback": [
      "\u001b[0;31m---------------------------------------------------------------------------\u001b[0m",
      "\u001b[0;31mModuleNotFoundError\u001b[0m                       Traceback (most recent call last)",
      "Cell \u001b[0;32mIn[5], line 2\u001b[0m\n\u001b[1;32m      1\u001b[0m \u001b[38;5;28;01mfrom\u001b[39;00m \u001b[38;5;21;01mpoli\u001b[39;00m\u001b[38;5;21;01m.\u001b[39;00m\u001b[38;5;21;01mcore\u001b[39;00m\u001b[38;5;21;01m.\u001b[39;00m\u001b[38;5;21;01mregistry\u001b[39;00m \u001b[38;5;28;01mimport\u001b[39;00m register_observer\n\u001b[0;32m----> 2\u001b[0m \u001b[38;5;28;01mfrom\u001b[39;00m \u001b[38;5;21;01mpoli\u001b[39;00m\u001b[38;5;21;01m.\u001b[39;00m\u001b[38;5;21;01mcore\u001b[39;00m\u001b[38;5;21;01m.\u001b[39;00m\u001b[38;5;21;01mutil\u001b[39;00m\u001b[38;5;21;01m.\u001b[39;00m\u001b[38;5;21;01mobservers\u001b[39;00m\u001b[38;5;21;01m.\u001b[39;00m\u001b[38;5;21;01mmlflow_observer\u001b[39;00m \u001b[38;5;28;01mimport\u001b[39;00m MLFlowObserver\n\u001b[1;32m      4\u001b[0m register_observer(\n\u001b[1;32m      5\u001b[0m     observer\u001b[38;5;241m=\u001b[39mMLFlowObserver(),\n\u001b[1;32m      6\u001b[0m     \u001b[38;5;66;03m# conda_environment_location=\"poli\",  # when not providing the environment, we use the current one\u001b[39;00m\n\u001b[1;32m      7\u001b[0m     observer_name\u001b[38;5;241m=\u001b[39m\u001b[38;5;124m\"\u001b[39m\u001b[38;5;124mmlflow_observer\u001b[39m\u001b[38;5;124m\"\u001b[39m,\n\u001b[1;32m      8\u001b[0m     set_as_default_observer\u001b[38;5;241m=\u001b[39m\u001b[38;5;28;01mFalse\u001b[39;00m,  \u001b[38;5;66;03m# this is True by default!\u001b[39;00m\n\u001b[1;32m      9\u001b[0m )\n",
      "\u001b[0;31mModuleNotFoundError\u001b[0m: No module named 'poli.core.util.observers'"
     ]
    }
   ],
   "source": [
    "from poli.core.registry import register_observer\n",
    "from poli.core.util.observers.mlflow_observer import MLFlowObserver\n",
    "\n",
    "register_observer(\n",
    "    observer=MLFlowObserver(),\n",
    "    # conda_environment_location=\"poli\",  # when not providing the environment, we use the current one\n",
    "    observer_name=\"mlflow_observer\",\n",
    "    set_as_default_observer=False,  # this is True by default!\n",
    ")"
   ]
  },
  {
   "cell_type": "markdown",
   "id": "90ab5abe-f6b6-4f23-bc40-eefe8a90f149",
   "metadata": {},
   "source": [
    "We recommend that you write your own observer."
   ]
  },
  {
   "cell_type": "markdown",
   "id": "70a92caa-c8a3-48de-9d25-dd4dcfb4e305",
   "metadata": {},
   "source": [
    "# Run benchmark"
   ]
  },
  {
   "cell_type": "markdown",
   "id": "3880c20b-9bd1-460a-95a5-e7dc71b9b957",
   "metadata": {},
   "source": [
    "Define a tracking-URI for `mlflow`."
   ]
  },
  {
   "cell_type": "code",
   "execution_count": 9,
   "id": "7abfddac-8968-497f-9707-58f9ff167e1b",
   "metadata": {},
   "outputs": [],
   "source": [
    "import os\n",
    "from pathlib import Path\n",
    "tracking_uri = os.path.join(Path(os.getcwd()).resolve(), \"mlruns\")"
   ]
  },
  {
   "cell_type": "markdown",
   "id": "8992e8b5-91f3-4131-bb72-f0bd3a9d418a",
   "metadata": {},
   "source": [
    "Run the (mock-)benchmark."
   ]
  },
  {
   "cell_type": "code",
   "execution_count": 11,
   "id": "9fb498ec-4bdc-461d-820c-ebbf6b5a1557",
   "metadata": {},
   "outputs": [
    {
     "name": "stdout",
     "output_type": "stream",
     "text": [
      "poli 🧪: initializing the observer.\n",
      "poli 🧪: attempting isolated observer instantiation.\n"
     ]
    },
    {
     "name": "stderr",
     "output_type": "stream",
     "text": [
      "2024/11/21 19:04:16 INFO mlflow.tracking.fluent: Experiment with name 'white_noise' does not exist. Creating a new experiment.\n"
     ]
    },
    {
     "name": "stdout",
     "output_type": "stream",
     "text": [
      "poli 🧪: initializing the observer.\n",
      "poli 🧪: attempting isolated observer instantiation.\n"
     ]
    },
    {
     "name": "stderr",
     "output_type": "stream",
     "text": [
      "2024/11/21 19:04:18 INFO mlflow.tracking.fluent: Experiment with name 'aloha' does not exist. Creating a new experiment.\n"
     ]
    },
    {
     "name": "stdout",
     "output_type": "stream",
     "text": [
      "poli 🧪: initializing the observer.\n",
      "poli 🧪: attempting isolated observer instantiation.\n",
      "poli 🧪: initializing the observer.\n",
      "poli 🧪: attempting isolated observer instantiation.\n"
     ]
    }
   ],
   "source": [
    "from poli import create\n",
    "\n",
    "for solver_class, needs_alignment in solvers:\n",
    "    for name in problems:\n",
    "        # ideally this part becomes a cluster job...\n",
    "        problem = create(name, observer_name=\"mlflow_observer\", \n",
    "                         observer_init_info=dict(solver=solver_class.__name__,\n",
    "                                                tracking_uri=tracking_uri))\n",
    "        if needs_alignment and not problem.info.sequences_are_aligned():\n",
    "            continue\n",
    "        f, x0 = problem.black_box, problem.x0\n",
    "        y0 = f(x0)\n",
    "        solver = solver_class(black_box=f, x0=x0, y0=y0, alphabet=problem.info.get_alphabet())\n",
    "        solver.solve(max_iter=3)"
   ]
  },
  {
   "cell_type": "markdown",
   "id": "466bf793-7a60-468d-a531-5ae74b837d98",
   "metadata": {},
   "source": [
    "# Checking results"
   ]
  },
  {
   "cell_type": "code",
   "execution_count": null,
   "id": "74434102-6c62-4497-9b4e-e6375c7b4c4e",
   "metadata": {},
   "outputs": [
    {
     "name": "stdout",
     "output_type": "stream",
     "text": [
      "[2024-11-21 19:06:23 +0100] [19932] [INFO] Starting gunicorn 22.0.0\n",
      "[2024-11-21 19:06:23 +0100] [19932] [INFO] Listening at: http://127.0.0.1:5000 (19932)\n",
      "[2024-11-21 19:06:23 +0100] [19932] [INFO] Using worker: sync\n",
      "[2024-11-21 19:06:23 +0100] [19933] [INFO] Booting worker with pid: 19933\n",
      "[2024-11-21 19:06:23 +0100] [19934] [INFO] Booting worker with pid: 19934\n",
      "[2024-11-21 19:06:23 +0100] [19955] [INFO] Booting worker with pid: 19955\n",
      "[2024-11-21 19:06:23 +0100] [19956] [INFO] Booting worker with pid: 19956\n"
     ]
    }
   ],
   "source": [
    "!mlflow ui"
   ]
  },
  {
   "cell_type": "markdown",
   "id": "46befbca-e4af-44c7-adc9-92587b003575",
   "metadata": {},
   "source": [
    "[Click here to check out the results.](http://127.0.0.1:5000)"
   ]
  }
 ],
 "metadata": {
  "kernelspec": {
   "display_name": "Python 3 (ipykernel)",
   "language": "python",
   "name": "python3"
  },
  "language_info": {
   "codemirror_mode": {
    "name": "ipython",
    "version": 3
   },
   "file_extension": ".py",
   "mimetype": "text/x-python",
   "name": "python",
   "nbconvert_exporter": "python",
   "pygments_lexer": "ipython3",
   "version": "3.10.15"
  }
 },
 "nbformat": 4,
 "nbformat_minor": 5
}