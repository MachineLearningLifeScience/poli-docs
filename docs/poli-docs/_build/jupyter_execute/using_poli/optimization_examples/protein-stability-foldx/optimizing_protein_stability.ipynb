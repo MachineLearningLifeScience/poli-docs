{
 "cells": [
  {
   "cell_type": "markdown",
   "metadata": {},
   "source": [
    "# Optimizing protein stability using random mutations"
   ]
  },
  {
   "cell_type": "markdown",
   "metadata": {},
   "source": [
    "In this example, we optimize the thermal stability of mutations from a wildtype protein. To do so, we use the `foldx_stability` problem.\n",
    "\n",
    ":::{warning}\n",
    "\n",
    "In the particular case of `foldx`-related black boxes, you will need to have it properly installed. [Check our documentation on installing foldx](../../../understanding_foldx/00-installing-foldx.md).\n",
    "\n",
    "You can also install all of the dependencies to run it using\n",
    "\n",
    "```\n",
    "pip install poli-core[foldx]\n",
    "```\n",
    "\n",
    "If you have done everything correclty, you should be able to run\n",
    "\n",
    "```bash\n",
    "~/foldx/foldx --version\n",
    "```\n",
    "\n",
    ":::"
   ]
  },
  {
   "cell_type": "markdown",
   "metadata": {},
   "source": [
    "## Optimizing `mRouge`"
   ]
  },
  {
   "cell_type": "markdown",
   "metadata": {},
   "source": [
    "In this example, we will focus on optimizing [`mRouge`, also known as `3NED`](https://www.rcsb.org/structure/3NED), one of the red fluorescent proteins explored in `LaMBO` {cite:p}`stanton2022accelerating`. Before optimization, we need to download the file and \"repair\" it (see [single mutations using foldx](../../understanding_foldx/01-single-mutation-using-foldx/index.ipynb)).\n",
    "\n",
    "We assume that the repaired file is already here."
   ]
  },
  {
   "cell_type": "code",
   "execution_count": 2,
   "metadata": {},
   "outputs": [
    {
     "name": "stdout",
     "output_type": "stream",
     "text": [
      "3ned_Repair.pdb                    optimizing_protein_stability.ipynb\n"
     ]
    }
   ],
   "source": [
    "!ls"
   ]
  },
  {
   "cell_type": "code",
   "execution_count": 3,
   "metadata": {},
   "outputs": [
    {
     "data": {
      "text/plain": [
       "True"
      ]
     },
     "execution_count": 3,
     "metadata": {},
     "output_type": "execute_result"
    }
   ],
   "source": [
    "from pathlib import Path\n",
    "\n",
    "wildtype_pdb_path = Path(\"./3ned_Repair.pdb\").resolve()\n",
    "wildtype_pdb_path.exists()  # Should say True"
   ]
  },
  {
   "cell_type": "markdown",
   "metadata": {},
   "source": [
    "## Defining the objective function"
   ]
  },
  {
   "cell_type": "markdown",
   "metadata": {},
   "source": [
    "In this tutorial, we optimize the stability of `mRogue` using the `foldx_stability` black box. The first step is creating it:"
   ]
  },
  {
   "cell_type": "code",
   "execution_count": 5,
   "metadata": {
    "tags": [
     "hide-output"
    ]
   },
   "outputs": [
    {
     "name": "stdout",
     "output_type": "stream",
     "text": [
      "poli 🧪: Starting the function foldx_stability as an isolated process.\n"
     ]
    }
   ],
   "source": [
    "from poli.objective_repository import FoldXStabilityProblemFactory\n",
    "\n",
    "problem_factory = FoldXStabilityProblemFactory()\n",
    "\n",
    "problem = problem_factory.create(\n",
    "    wildtype_pdb_path=wildtype_pdb_path\n",
    ")\n",
    "f, x0 = problem.black_box, problem.x0"
   ]
  },
  {
   "cell_type": "markdown",
   "metadata": {},
   "source": [
    "`problem_factory.create` returns a `Problem` instance. Problems have the following useful attributes:\n",
    "\n",
    "1. a black-box function in `problem.black_box`. In this case, it is a `FoldXStabilityBlackBox`.\n",
    "2. an initial design  in `problem.x0: np.ndarray`, and\n",
    "3. All the relevant information about the black box (e.g. whether it's deterministic, what the alphabet is...) in `problem.info: BlackBoxInformation`."
   ]
  },
  {
   "cell_type": "markdown",
   "metadata": {},
   "source": [
    "These are all the ingredients required for an abstract solver to work. The next section shows how to use a baseline solver, which can be easily replaced by any other solver you implement (as long as it inherits from the `AbstractSolver` in `poli_baselines.core.abstract_solver`)."
   ]
  },
  {
   "cell_type": "markdown",
   "metadata": {},
   "source": [
    "## Optimizing using a `RandomMutation` solver"
   ]
  },
  {
   "cell_type": "markdown",
   "metadata": {},
   "source": [
    "In this tutorial we use the simplest baseline for discrete sequence optimization: a `RandomMutation` which takes the best performing sequence and randomly mutates it by selecting a position at random, and altering for another element of the alphabet.\n",
    "\n",
    ":::{note}\n",
    "\n",
    "There's nothing special about `RandomMutation` here. You could drop-in any solver you implement as long as it\n",
    "\n",
    "1. Inherits from `AbstractSolver` in `poli_baselines.core.abstract_solver`, and it\n",
    "2. implements the abstract method `next_candidate() -> np.ndarray`.\n",
    "\n",
    "[Check this tutorial on creating solvers for more details](../../the_basics/defining_a_problem_solver.md).\n",
    "\n",
    ":::"
   ]
  },
  {
   "cell_type": "code",
   "execution_count": 6,
   "metadata": {},
   "outputs": [
    {
     "name": "stderr",
     "output_type": "stream",
     "text": [
      "/Users/sjt972/anaconda3/envs/poli-docs2/lib/python3.9/site-packages/tqdm/auto.py:21: TqdmWarning: IProgress not found. Please update jupyter and ipywidgets. See https://ipywidgets.readthedocs.io/en/stable/user_install.html\n",
      "  from .autonotebook import tqdm as notebook_tqdm\n"
     ]
    }
   ],
   "source": [
    "from poli_baselines.solvers.simple.random_mutation import RandomMutation\n",
    "\n",
    "y0 = f(x0)\n",
    "\n",
    "solver = RandomMutation(\n",
    "    black_box=f,\n",
    "    x0=x0,\n",
    "    y0=y0,\n",
    ")"
   ]
  },
  {
   "cell_type": "markdown",
   "metadata": {},
   "source": [
    "**And that's it!** You can optimize the objective function passed as `black_box` by just calling the `.solve(n_iters)` method: (be careful, this might take a while)"
   ]
  },
  {
   "cell_type": "code",
   "execution_count": 7,
   "metadata": {
    "tags": [
     "hide-output"
    ]
   },
   "outputs": [],
   "source": [
    "solver.solve(max_iter=3)"
   ]
  },
  {
   "cell_type": "markdown",
   "metadata": {},
   "source": [
    "## Checking the results"
   ]
  },
  {
   "cell_type": "markdown",
   "metadata": {},
   "source": [
    "After optimization, the results are stored inside `solver.history`, which is a dictionary with `\"x\"` and `\"y\"` keys. Let's check what the best optimization result was:"
   ]
  },
  {
   "cell_type": "code",
   "execution_count": 8,
   "metadata": {},
   "outputs": [
    {
     "name": "stdout",
     "output_type": "stream",
     "text": [
      "All y values: [array([[9.41639]]), array([[7.3365]]), array([[9.87284]]), array([[4.63237]])]\n",
      "best stability: [9.87284]\n",
      "Associated sequence: EEDNMAIIKEFMRFKTHMEGSVNGHEFEIEGEGEGRPYEGTQTAKLKVTKGGPLPFAWDILSPQFSKAYVKHPADIPDYLKLSFPEGFKWERVMNFEDGGVVTVTQDSSLQDGEFIYKVKLIGTNFPSDGPVMQKKTMGWEACSERMYPEDGALKGEMKMRLKLKDGGHYDAEVKTTYKAKKPVQLPGAYNTNTKLDITSHNEDYTIVEQYERNEGRHSTGGMDELYK\n"
     ]
    }
   ],
   "source": [
    "print(f\"All y values: {solver.history['y']}\")\n",
    "print(f\"best stability: {solver.get_best_performance()}\")\n",
    "print(f\"Associated sequence: {''.join(solver.get_best_solution().flatten())}\")"
   ]
  }
 ],
 "metadata": {
  "kernelspec": {
   "display_name": "poli-dev",
   "language": "python",
   "name": "python3"
  },
  "language_info": {
   "codemirror_mode": {
    "name": "ipython",
    "version": 3
   },
   "file_extension": ".py",
   "mimetype": "text/x-python",
   "name": "python",
   "nbconvert_exporter": "python",
   "pygments_lexer": "ipython3",
   "version": "3.9.18"
  }
 },
 "nbformat": 4,
 "nbformat_minor": 2
}