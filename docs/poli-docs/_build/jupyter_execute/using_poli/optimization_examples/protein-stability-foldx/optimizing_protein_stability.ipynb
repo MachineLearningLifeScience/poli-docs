{
 "cells": [
  {
   "cell_type": "markdown",
   "metadata": {},
   "source": [
    "# Optimizing protein stability using random mutations"
   ]
  },
  {
   "cell_type": "markdown",
   "metadata": {},
   "source": [
    "In this example, we optimize the thermal stability of mutations from a wildtype protein. To do so, we use the `foldx_stability` problem.\n",
    "\n",
    ":::{warning}\n",
    "\n",
    "In the particular case of `foldx`-related black boxes, you will need to have it properly installed. [Check our documentation on installing foldx](../../../understanding_foldx/00-installing-foldx.md).\n",
    "\n",
    "You can also install all of the dependencies to run it using\n",
    "\n",
    "```\n",
    "pip install poli-core[foldx]\n",
    "```\n",
    "\n",
    "If you have done everything correclty, you should be able to run\n",
    "\n",
    "```bash\n",
    "~/foldx/foldx --version\n",
    "```\n",
    "\n",
    ":::"
   ]
  },
  {
   "cell_type": "markdown",
   "metadata": {},
   "source": [
    "## Optimizing `mRouge`"
   ]
  },
  {
   "cell_type": "markdown",
   "metadata": {},
   "source": [
    "In this example, we will focus on optimizing [`mRouge`, also known as `3NED`](https://www.rcsb.org/structure/3NED), one of the red fluorescent proteins explored in `LaMBO` {cite:p}`stanton2022accelerating`. Before optimization, we need to download the file and \"repair\" it (see [single mutations using foldx](../../understanding_foldx/01-single-mutation-using-foldx/index.ipynb)).\n",
    "\n",
    "We assume that the repaired file is already here."
   ]
  },
  {
   "cell_type": "code",
   "execution_count": 1,
   "metadata": {},
   "outputs": [
    {
     "name": "stdout",
     "output_type": "stream",
     "text": [
      "3ned_Repair.pdb                    optimizing_protein_stability.ipynb\r\n"
     ]
    }
   ],
   "source": [
    "!ls"
   ]
  },
  {
   "cell_type": "code",
   "execution_count": 2,
   "metadata": {},
   "outputs": [
    {
     "data": {
      "text/plain": [
       "True"
      ]
     },
     "execution_count": 2,
     "metadata": {},
     "output_type": "execute_result"
    }
   ],
   "source": [
    "from pathlib import Path\n",
    "\n",
    "wildtype_pdb_path = Path(\"./3ned_Repair.pdb\").resolve()\n",
    "wildtype_pdb_path.exists()  # Should say True"
   ]
  },
  {
   "cell_type": "markdown",
   "metadata": {},
   "source": [
    "## Defining the objective function"
   ]
  },
  {
   "cell_type": "markdown",
   "metadata": {},
   "source": [
    "In this tutorial, we optimize the stability of `mRogue` using the `foldx_stability` black box. The first step is creating it:"
   ]
  },
  {
   "cell_type": "code",
   "execution_count": 3,
   "metadata": {
    "tags": [
     "hide-output"
    ]
   },
   "outputs": [
    {
     "name": "stdout",
     "output_type": "stream",
     "text": [
      "poli 🧪: Starting the function foldx_stability as an isolated process.\n"
     ]
    }
   ],
   "source": [
    "from poli.objective_repository import FoldXStabilityProblemFactory\n",
    "\n",
    "problem_factory = FoldXStabilityProblemFactory()\n",
    "\n",
    "problem = problem_factory.create(\n",
    "    wildtype_pdb_path=wildtype_pdb_path\n",
    ")\n",
    "f, x0 = problem.black_box, problem.x0"
   ]
  },
  {
   "cell_type": "markdown",
   "metadata": {},
   "source": [
    "`problem_factory.create` returns a `Problem` instance. Problems have the following useful attributes:\n",
    "\n",
    "1. a black-box function in `problem.black_box`. In this case, it is a `FoldXStabilityBlackBox`.\n",
    "2. an initial design  in `problem.x0: np.ndarray`, and\n",
    "3. All the relevant information about the black box (e.g. whether it's deterministic, what the alphabet is...) in `problem.info: BlackBoxInformation`."
   ]
  },
  {
   "cell_type": "markdown",
   "metadata": {},
   "source": [
    "These are all the ingredients required for an abstract solver to work. The next section shows how to use a baseline solver, which can be easily replaced by any other solver you implement (as long as it inherits from the `AbstractSolver` in `poli_baselines.core.abstract_solver`)."
   ]
  },
  {
   "cell_type": "markdown",
   "metadata": {},
   "source": [
    "## Optimizing using a `RandomMutation` solver"
   ]
  },
  {
   "cell_type": "markdown",
   "metadata": {},
   "source": [
    "In this tutorial we use the simplest baseline for discrete sequence optimization: a `RandomMutation` which takes the best performing sequence and randomly mutates it by selecting a position at random, and altering for another element of the alphabet.\n",
    "\n",
    ":::{note}\n",
    "\n",
    "There's nothing special about `RandomMutation` here. You could drop-in any solver you implement as long as it\n",
    "\n",
    "1. Inherits from `AbstractSolver` in `poli_baselines.core.abstract_solver`, and it\n",
    "2. implements the abstract method `next_candidate() -> np.ndarray`.\n",
    "\n",
    "[Check this tutorial on creating solvers for more details](../../the_basics/defining_a_problem_solver.md).\n",
    "\n",
    ":::"
   ]
  },
  {
   "cell_type": "code",
   "execution_count": 4,
   "metadata": {},
   "outputs": [],
   "source": [
    "from poli_baselines.solvers.simple.random_mutation import RandomMutation\n",
    "\n",
    "y0 = f(x0)\n",
    "\n",
    "solver = RandomMutation(\n",
    "    black_box=f,\n",
    "    x0=x0,\n",
    "    y0=y0,\n",
    ")"
   ]
  },
  {
   "cell_type": "markdown",
   "metadata": {},
   "source": [
    "**And that's it!** You can optimize the objective function passed as `black_box` by just calling the `.solve(n_iters)` method: (be careful, this might take a while)"
   ]
  },
  {
   "cell_type": "code",
   "execution_count": 5,
   "metadata": {
    "tags": [
     "hide-output"
    ]
   },
   "outputs": [
    {
     "data": {
      "text/plain": [
       "(array([['E', 'E', 'D', 'N', 'M', 'A', 'I', 'I', 'K', 'E', 'F', 'M', 'R',\n",
       "         'F', 'K', 'T', 'H', 'M', 'E', 'G', 'S', 'V', 'N', 'G', 'H', 'E',\n",
       "         'F', 'E', 'I', 'E', 'G', 'E', 'G', 'E', 'G', 'R', 'P', 'Y', 'E',\n",
       "         'G', 'T', 'Q', 'T', 'A', 'K', 'L', 'K', 'V', 'T', 'K', 'G', 'G',\n",
       "         'P', 'L', 'P', 'F', 'A', 'W', 'D', 'I', 'L', 'S', 'P', 'Q', 'F',\n",
       "         'S', 'K', 'A', 'Y', 'V', 'K', 'H', 'P', 'A', 'D', 'I', 'P', 'D',\n",
       "         'Y', 'L', 'K', 'L', 'S', 'F', 'P', 'E', 'G', 'F', 'K', 'W', 'E',\n",
       "         'R', 'V', 'M', 'N', 'F', 'E', 'D', 'G', 'G', 'V', 'V', 'T', 'V',\n",
       "         'T', 'Q', 'D', 'S', 'S', 'L', 'Q', 'D', 'G', 'E', 'F', 'I', 'Y',\n",
       "         'K', 'V', 'K', 'L', 'R', 'G', 'T', 'N', 'F', 'P', 'S', 'D', 'G',\n",
       "         'P', 'V', 'M', 'Q', 'K', 'K', 'T', 'M', 'G', 'W', 'E', 'A', 'C',\n",
       "         'S', 'E', 'R', 'M', 'Y', 'P', 'E', 'D', 'G', 'A', 'L', 'K', 'G',\n",
       "         'E', 'M', 'K', 'M', 'R', 'L', 'K', 'L', 'K', 'D', 'G', 'G', 'H',\n",
       "         'Y', 'D', 'A', 'E', 'V', 'K', 'T', 'T', 'Y', 'K', 'A', 'K', 'K',\n",
       "         'P', 'V', 'Q', 'L', 'P', 'G', 'A', 'Y', 'N', 'T', 'N', 'T', 'K',\n",
       "         'L', 'D', 'I', 'T', 'S', 'H', 'N', 'E', 'D', 'Y', 'T', 'I', 'V',\n",
       "         'E', 'Q', 'Y', 'E', 'R', 'N', 'E', 'G', 'R', 'H', 'S', 'T', 'G',\n",
       "         'G', 'M', 'D', 'E', 'L', 'Y', 'K', '', '', '']], dtype='<U1'),\n",
       " array([9.41639]))"
      ]
     },
     "execution_count": 5,
     "metadata": {},
     "output_type": "execute_result"
    }
   ],
   "source": [
    "solver.solve(max_iter=3)"
   ]
  },
  {
   "cell_type": "markdown",
   "metadata": {},
   "source": [
    "## Checking the results"
   ]
  },
  {
   "cell_type": "markdown",
   "metadata": {},
   "source": [
    "After optimization, the results are stored inside `solver.history`, which is a dictionary with `\"x\"` and `\"y\"` keys. Let's check what the best optimization result was:"
   ]
  },
  {
   "cell_type": "code",
   "execution_count": 6,
   "metadata": {},
   "outputs": [
    {
     "name": "stdout",
     "output_type": "stream",
     "text": [
      "All y values: [array([[9.41639]]), array([[9.41639]]), array([[8.26382]]), array([[6.19869]])]\n",
      "best stability: [9.41639]\n",
      "Associated sequence: EEDNMAIIKEFMRFKTHMEGSVNGHEFEIEGEGEGRPYEGTQTAKLKVTKGGPLPFAWDILSPQFSKAYVKHPADIPDYLKLSFPEGFKWERVMNFEDGGVVTVTQDSSLQDGEFIYKVKLRGTNFPSDGPVMQKKTMGWEACSERMYPEDGALKGEMKMRLKLKDGGHYDAEVKTTYKAKKPVQLPGAYNTNTKLDITSHNEDYTIVEQYERNEGRHSTGGMDELYK\n"
     ]
    }
   ],
   "source": [
    "print(f\"All y values: {solver.history['y']}\")\n",
    "print(f\"best stability: {solver.get_best_performance()}\")\n",
    "print(f\"Associated sequence: {''.join(solver.get_best_solution().flatten())}\")"
   ]
  }
 ],
 "metadata": {
  "kernelspec": {
   "display_name": "poli-dev",
   "language": "python",
   "name": "python3"
  },
  "language_info": {
   "codemirror_mode": {
    "name": "ipython",
    "version": 3
   },
   "file_extension": ".py",
   "mimetype": "text/x-python",
   "name": "python",
   "nbconvert_exporter": "python",
   "pygments_lexer": "ipython3",
   "version": "3.10.15"
  }
 },
 "nbformat": 4,
 "nbformat_minor": 2
}