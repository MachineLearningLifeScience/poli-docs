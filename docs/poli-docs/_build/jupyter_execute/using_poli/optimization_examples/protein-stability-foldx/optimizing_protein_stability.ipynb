{
 "cells": [
  {
   "cell_type": "markdown",
   "metadata": {},
   "source": [
    "# Optimizing protein stability using random mutations"
   ]
  },
  {
   "cell_type": "markdown",
   "metadata": {},
   "source": [
    "In this example, we optimize the thermal stability of mutations from a wildtype protein. To do so, we use the `foldx_stability` problem.\n",
    "\n",
    ":::{warning}\n",
    "\n",
    "In the particular case of `foldx`-related black boxes, you will need to have it properly installed. [Check our documentation on installing foldx](../../../understanding_foldx/00-installing-foldx.md).\n",
    "\n",
    "You can also install all of the dependencies to run it using\n",
    "\n",
    "```\n",
    "pip install poli-core[foldx]\n",
    "```\n",
    "\n",
    "If you have done everything correclty, you should be able to run\n",
    "\n",
    "```bash\n",
    "~/foldx/foldx --version\n",
    "```\n",
    "\n",
    ":::"
   ]
  },
  {
   "cell_type": "markdown",
   "metadata": {},
   "source": [
    "## Optimizing `mRouge`"
   ]
  },
  {
   "cell_type": "markdown",
   "metadata": {},
   "source": [
    "In this example, we will focus on optimizing [`mRouge`, also known as `3NED`](https://www.rcsb.org/structure/3NED), one of the red fluorescent proteins explored in `LaMBO` {cite:p}`stanton2022accelerating`. Before optimization, we need to download the file and \"repair\" it (see [single mutations using foldx](../../understanding_foldx/01-single-mutation-using-foldx/index.ipynb)).\n",
    "\n",
    "We assume that the repaired file is already here."
   ]
  },
  {
   "cell_type": "code",
   "execution_count": 1,
   "metadata": {},
   "outputs": [
    {
     "name": "stdout",
     "output_type": "stream",
     "text": [
      "3ned_Repair.pdb                    optimizing_protein_stability.ipynb\r\n"
     ]
    }
   ],
   "source": [
    "!ls"
   ]
  },
  {
   "cell_type": "code",
   "execution_count": 2,
   "metadata": {},
   "outputs": [
    {
     "data": {
      "text/plain": [
       "True"
      ]
     },
     "execution_count": 2,
     "metadata": {},
     "output_type": "execute_result"
    }
   ],
   "source": [
    "from pathlib import Path\n",
    "\n",
    "wildtype_pdb_path = Path(\"./3ned_Repair.pdb\").resolve()\n",
    "wildtype_pdb_path.exists()  # Should say True"
   ]
  },
  {
   "cell_type": "markdown",
   "metadata": {},
   "source": [
    "## Defining the objective function"
   ]
  },
  {
   "cell_type": "markdown",
   "metadata": {},
   "source": [
    "In this tutorial, we optimize the stability of `mRogue` using the `foldx_stability` black box. The first step is creating it:"
   ]
  },
  {
   "cell_type": "code",
   "execution_count": 3,
   "metadata": {
    "tags": [
     "hide-output"
    ]
   },
   "outputs": [
    {
     "name": "stdout",
     "output_type": "stream",
     "text": [
      "poli 🧪: Starting the function foldx_stability as an isolated process.\n"
     ]
    }
   ],
   "source": [
    "from poli.objective_repository import FoldXStabilityProblemFactory\n",
    "\n",
    "problem_factory = FoldXStabilityProblemFactory()\n",
    "\n",
    "problem = problem_factory.create(\n",
    "    wildtype_pdb_path=wildtype_pdb_path\n",
    ")\n",
    "f, x0 = problem.black_box, problem.x0"
   ]
  },
  {
   "cell_type": "markdown",
   "metadata": {},
   "source": [
    "`problem_factory.create` returns a `Problem` instance. Problems have the following useful attributes:\n",
    "\n",
    "1. a black-box function in `problem.black_box`. In this case, it is a `FoldXStabilityBlackBox`.\n",
    "2. an initial design  in `problem.x0: np.ndarray`, and\n",
    "3. All the relevant information about the black box (e.g. whether it's deterministic, what the alphabet is...) in `problem.info: BlackBoxInformation`."
   ]
  },
  {
   "cell_type": "markdown",
   "metadata": {},
   "source": [
    "These are all the ingredients required for an abstract solver to work. The next section shows how to use a baseline solver, which can be easily replaced by any other solver you implement (as long as it inherits from the `AbstractSolver` in `poli_baselines.core.abstract_solver`)."
   ]
  },
  {
   "cell_type": "markdown",
   "metadata": {},
   "source": [
    "## Optimizing using a `RandomMutation` solver"
   ]
  },
  {
   "cell_type": "markdown",
   "metadata": {},
   "source": [
    "In this tutorial we use the simplest baseline for discrete sequence optimization: a `RandomMutation` which takes the best performing sequence and randomly mutates it by selecting a position at random, and altering for another element of the alphabet.\n",
    "\n",
    ":::{note}\n",
    "\n",
    "There's nothing special about `RandomMutation` here. You could drop-in any solver you implement as long as it\n",
    "\n",
    "1. Inherits from `AbstractSolver` in `poli_baselines.core.abstract_solver`, and it\n",
    "2. implements the abstract method `next_candidate() -> np.ndarray`.\n",
    "\n",
    "[Check this tutorial on creating solvers for more details](../../the_basics/defining_a_problem_solver.md).\n",
    "\n",
    ":::"
   ]
  },
  {
   "cell_type": "code",
   "execution_count": 4,
   "metadata": {},
   "outputs": [
    {
     "ename": "TypeError",
     "evalue": "unsupported operand type(s) for |: 'types.GenericAlias' and 'NoneType'",
     "output_type": "error",
     "traceback": [
      "\u001b[0;31m---------------------------------------------------------------------------\u001b[0m",
      "\u001b[0;31mTypeError\u001b[0m                                 Traceback (most recent call last)",
      "Cell \u001b[0;32mIn[4], line 1\u001b[0m\n\u001b[0;32m----> 1\u001b[0m \u001b[38;5;28;01mfrom\u001b[39;00m \u001b[38;5;21;01mpoli_baselines\u001b[39;00m\u001b[38;5;21;01m.\u001b[39;00m\u001b[38;5;21;01msolvers\u001b[39;00m\u001b[38;5;21;01m.\u001b[39;00m\u001b[38;5;21;01msimple\u001b[39;00m\u001b[38;5;21;01m.\u001b[39;00m\u001b[38;5;21;01mrandom_mutation\u001b[39;00m \u001b[38;5;28;01mimport\u001b[39;00m RandomMutation\n\u001b[1;32m      3\u001b[0m y0 \u001b[38;5;241m=\u001b[39m f(x0)\n\u001b[1;32m      5\u001b[0m solver \u001b[38;5;241m=\u001b[39m RandomMutation(\n\u001b[1;32m      6\u001b[0m     black_box\u001b[38;5;241m=\u001b[39mf,\n\u001b[1;32m      7\u001b[0m     x0\u001b[38;5;241m=\u001b[39mx0,\n\u001b[1;32m      8\u001b[0m     y0\u001b[38;5;241m=\u001b[39my0,\n\u001b[1;32m      9\u001b[0m )\n",
      "File \u001b[0;32m~/Projects/poli-baselines/src/poli_baselines/solvers/simple/random_mutation.py:22\u001b[0m\n\u001b[1;32m     17\u001b[0m \u001b[38;5;28;01mfrom\u001b[39;00m \u001b[38;5;21;01mpoli\u001b[39;00m\u001b[38;5;21;01m.\u001b[39;00m\u001b[38;5;21;01mcore\u001b[39;00m\u001b[38;5;21;01m.\u001b[39;00m\u001b[38;5;21;01mabstract_black_box\u001b[39;00m \u001b[38;5;28;01mimport\u001b[39;00m AbstractBlackBox\n\u001b[1;32m     19\u001b[0m \u001b[38;5;28;01mfrom\u001b[39;00m \u001b[38;5;21;01mpoli_baselines\u001b[39;00m\u001b[38;5;21;01m.\u001b[39;00m\u001b[38;5;21;01mcore\u001b[39;00m\u001b[38;5;21;01m.\u001b[39;00m\u001b[38;5;21;01mstep_by_step_solver\u001b[39;00m \u001b[38;5;28;01mimport\u001b[39;00m StepByStepSolver\n\u001b[0;32m---> 22\u001b[0m \u001b[38;5;28;01mclass\u001b[39;00m \u001b[38;5;21;01mRandomMutation\u001b[39;00m(StepByStepSolver):\n\u001b[1;32m     23\u001b[0m     \u001b[38;5;28;01mdef\u001b[39;00m \u001b[38;5;21m__init__\u001b[39m(\n\u001b[1;32m     24\u001b[0m         \u001b[38;5;28mself\u001b[39m,\n\u001b[1;32m     25\u001b[0m         black_box: AbstractBlackBox,\n\u001b[0;32m   (...)\u001b[0m\n\u001b[1;32m     33\u001b[0m         tokenizer: Callable[[\u001b[38;5;28mstr\u001b[39m], \u001b[38;5;28mlist\u001b[39m[\u001b[38;5;28mstr\u001b[39m]] \u001b[38;5;241m|\u001b[39m \u001b[38;5;28;01mNone\u001b[39;00m \u001b[38;5;241m=\u001b[39m \u001b[38;5;28;01mNone\u001b[39;00m,\n\u001b[1;32m     34\u001b[0m     ):\n\u001b[1;32m     35\u001b[0m         \u001b[38;5;28;01mif\u001b[39;00m x0\u001b[38;5;241m.\u001b[39mndim \u001b[38;5;241m==\u001b[39m \u001b[38;5;241m1\u001b[39m:\n",
      "File \u001b[0;32m~/Projects/poli-baselines/src/poli_baselines/solvers/simple/random_mutation.py:32\u001b[0m, in \u001b[0;36mRandomMutation\u001b[0;34m()\u001b[0m\n\u001b[1;32m     22\u001b[0m \u001b[38;5;28;01mclass\u001b[39;00m \u001b[38;5;21;01mRandomMutation\u001b[39;00m(StepByStepSolver):\n\u001b[1;32m     23\u001b[0m     \u001b[38;5;28;01mdef\u001b[39;00m \u001b[38;5;21m__init__\u001b[39m(\n\u001b[1;32m     24\u001b[0m         \u001b[38;5;28mself\u001b[39m,\n\u001b[1;32m     25\u001b[0m         black_box: AbstractBlackBox,\n\u001b[1;32m     26\u001b[0m         x0: np\u001b[38;5;241m.\u001b[39mndarray,\n\u001b[1;32m     27\u001b[0m         y0: np\u001b[38;5;241m.\u001b[39mndarray,\n\u001b[1;32m     28\u001b[0m         n_mutations: \u001b[38;5;28mint\u001b[39m \u001b[38;5;241m=\u001b[39m \u001b[38;5;241m1\u001b[39m,\n\u001b[1;32m     29\u001b[0m         top_k: \u001b[38;5;28mint\u001b[39m \u001b[38;5;241m=\u001b[39m \u001b[38;5;241m1\u001b[39m,\n\u001b[1;32m     30\u001b[0m         batch_size: \u001b[38;5;28mint\u001b[39m \u001b[38;5;241m=\u001b[39m \u001b[38;5;241m1\u001b[39m,\n\u001b[1;32m     31\u001b[0m         greedy: \u001b[38;5;28mbool\u001b[39m \u001b[38;5;241m=\u001b[39m \u001b[38;5;28;01mTrue\u001b[39;00m,\n\u001b[0;32m---> 32\u001b[0m         alphabet: \u001b[38;5;28;43mlist\u001b[39;49m\u001b[43m[\u001b[49m\u001b[38;5;28;43mstr\u001b[39;49m\u001b[43m]\u001b[49m\u001b[43m \u001b[49m\u001b[38;5;241;43m|\u001b[39;49m\u001b[43m \u001b[49m\u001b[38;5;28;43;01mNone\u001b[39;49;00m \u001b[38;5;241m=\u001b[39m \u001b[38;5;28;01mNone\u001b[39;00m,\n\u001b[1;32m     33\u001b[0m         tokenizer: Callable[[\u001b[38;5;28mstr\u001b[39m], \u001b[38;5;28mlist\u001b[39m[\u001b[38;5;28mstr\u001b[39m]] \u001b[38;5;241m|\u001b[39m \u001b[38;5;28;01mNone\u001b[39;00m \u001b[38;5;241m=\u001b[39m \u001b[38;5;28;01mNone\u001b[39;00m,\n\u001b[1;32m     34\u001b[0m     ):\n\u001b[1;32m     35\u001b[0m         \u001b[38;5;28;01mif\u001b[39;00m x0\u001b[38;5;241m.\u001b[39mndim \u001b[38;5;241m==\u001b[39m \u001b[38;5;241m1\u001b[39m:\n\u001b[1;32m     36\u001b[0m             \u001b[38;5;28;01mif\u001b[39;00m tokenizer \u001b[38;5;129;01mis\u001b[39;00m \u001b[38;5;28;01mNone\u001b[39;00m:\n",
      "\u001b[0;31mTypeError\u001b[0m: unsupported operand type(s) for |: 'types.GenericAlias' and 'NoneType'"
     ]
    }
   ],
   "source": [
    "from poli_baselines.solvers.simple.random_mutation import RandomMutation\n",
    "\n",
    "y0 = f(x0)\n",
    "\n",
    "solver = RandomMutation(\n",
    "    black_box=f,\n",
    "    x0=x0,\n",
    "    y0=y0,\n",
    ")"
   ]
  },
  {
   "cell_type": "markdown",
   "metadata": {},
   "source": [
    "**And that's it!** You can optimize the objective function passed as `black_box` by just calling the `.solve(n_iters)` method: (be careful, this might take a while)"
   ]
  },
  {
   "cell_type": "code",
   "execution_count": 7,
   "metadata": {
    "tags": [
     "hide-output"
    ]
   },
   "outputs": [],
   "source": [
    "solver.solve(max_iter=3)"
   ]
  },
  {
   "cell_type": "markdown",
   "metadata": {},
   "source": [
    "## Checking the results"
   ]
  },
  {
   "cell_type": "markdown",
   "metadata": {},
   "source": [
    "After optimization, the results are stored inside `solver.history`, which is a dictionary with `\"x\"` and `\"y\"` keys. Let's check what the best optimization result was:"
   ]
  },
  {
   "cell_type": "code",
   "execution_count": 8,
   "metadata": {},
   "outputs": [
    {
     "name": "stdout",
     "output_type": "stream",
     "text": [
      "All y values: [array([[9.41639]]), array([[7.3365]]), array([[9.87284]]), array([[4.63237]])]\n",
      "best stability: [9.87284]\n",
      "Associated sequence: EEDNMAIIKEFMRFKTHMEGSVNGHEFEIEGEGEGRPYEGTQTAKLKVTKGGPLPFAWDILSPQFSKAYVKHPADIPDYLKLSFPEGFKWERVMNFEDGGVVTVTQDSSLQDGEFIYKVKLIGTNFPSDGPVMQKKTMGWEACSERMYPEDGALKGEMKMRLKLKDGGHYDAEVKTTYKAKKPVQLPGAYNTNTKLDITSHNEDYTIVEQYERNEGRHSTGGMDELYK\n"
     ]
    }
   ],
   "source": [
    "print(f\"All y values: {solver.history['y']}\")\n",
    "print(f\"best stability: {solver.get_best_performance()}\")\n",
    "print(f\"Associated sequence: {''.join(solver.get_best_solution().flatten())}\")"
   ]
  }
 ],
 "metadata": {
  "kernelspec": {
   "display_name": "poli-dev",
   "language": "python",
   "name": "python3"
  },
  "language_info": {
   "codemirror_mode": {
    "name": "ipython",
    "version": 3
   },
   "file_extension": ".py",
   "mimetype": "text/x-python",
   "name": "python",
   "nbconvert_exporter": "python",
   "pygments_lexer": "ipython3",
   "version": "3.9.18"
  }
 },
 "nbformat": 4,
 "nbformat_minor": 2
}