{
 "cells": [
  {
   "cell_type": "markdown",
   "metadata": {},
   "source": [
    "# Optimizing protein stability using random mutations"
   ]
  },
  {
   "cell_type": "markdown",
   "metadata": {},
   "source": [
    "## Stability optimization is a registered problem\n"
   ]
  },
  {
   "cell_type": "markdown",
   "metadata": {},
   "source": [
    "`poli`'s registry has a `get_problems()` method which returns the objective functions already compiled. It works by loading up a `config.rc` file sitting inside `src/poli/core`."
   ]
  },
  {
   "cell_type": "code",
   "execution_count": 1,
   "metadata": {},
   "outputs": [
    {
     "data": {
      "text/plain": [
       "['aloha',\n",
       " 'dockstring',\n",
       " 'drd3_docking',\n",
       " 'foldx_rfp_lambo',\n",
       " 'foldx_sasa',\n",
       " 'foldx_stability',\n",
       " 'foldx_stability_and_sasa',\n",
       " 'gfp_cbas',\n",
       " 'gfp_select',\n",
       " 'penalized_logp_lambo',\n",
       " 'rasp',\n",
       " 'rdkit_logp',\n",
       " 'rdkit_qed',\n",
       " 'rfp_foldx_stability_and_sasa',\n",
       " 'sa_tdc',\n",
       " 'super_mario_bros',\n",
       " 'toy_continuous_problem',\n",
       " 'white_noise']"
      ]
     },
     "execution_count": 1,
     "metadata": {},
     "output_type": "execute_result"
    }
   ],
   "source": [
    "from poli.core.registry import get_problems\n",
    "get_problems(only_available=False)"
   ]
  },
  {
   "cell_type": "markdown",
   "metadata": {},
   "source": [
    "As you can see, `foldx_stability` is already available in the repository.\n",
    "\n",
    "Let's stick with it as a problem name:"
   ]
  },
  {
   "cell_type": "code",
   "execution_count": 2,
   "metadata": {},
   "outputs": [],
   "source": [
    "problem_name = \"foldx_stability\""
   ]
  },
  {
   "cell_type": "markdown",
   "metadata": {},
   "source": [
    "## Optimizing `mRouge`"
   ]
  },
  {
   "cell_type": "markdown",
   "metadata": {},
   "source": [
    "In this example, we will focus on optimizing [`mRouge`, also known as `3NED`](https://www.rcsb.org/structure/3NED), one of the red fluorescent proteins explored in `LaMBO` {cite:p}`stanton2022accelerating`. Before optimization, we need to download the file and \"repair\" it (see [single mutations using foldx](../../understanding_foldx/01-single-mutation-using-foldx/index.ipynb)).\n",
    "\n",
    "We assume that the repaired file is already here."
   ]
  },
  {
   "cell_type": "code",
   "execution_count": 3,
   "metadata": {},
   "outputs": [
    {
     "name": "stdout",
     "output_type": "stream",
     "text": [
      "3ned_Repair.pdb                    optimizing_protein_stability.ipynb\r\n"
     ]
    }
   ],
   "source": [
    "!ls"
   ]
  },
  {
   "cell_type": "code",
   "execution_count": 4,
   "metadata": {},
   "outputs": [
    {
     "data": {
      "text/plain": [
       "True"
      ]
     },
     "execution_count": 4,
     "metadata": {},
     "output_type": "execute_result"
    }
   ],
   "source": [
    "from pathlib import Path\n",
    "\n",
    "wildtype_pdb_path = Path(\"./3ned_Repair.pdb\").resolve()\n",
    "wildtype_pdb_path.exists()  # Should say True"
   ]
  },
  {
   "cell_type": "markdown",
   "metadata": {},
   "source": [
    "## Defining the objective function"
   ]
  },
  {
   "cell_type": "markdown",
   "metadata": {},
   "source": [
    "In this tutorial, we optimize the stability of `mRogue` using the `foldx_stability` problem factory. The first step is creating the problem:\n",
    "\n",
    ":::{warning}\n",
    "\n",
    "In general, it is a good idea to check how to create instances of individual problems in their documentation, since they might need extra inputs.\n",
    "\n",
    "For example, [`foldx_stability` only needs one extra keyword argument: a single/list of `wildtype_pdb_path`](../../objective_repository/foldx_stability.md). `poli` will hopefully remind you what you forgot with its error messages.\n",
    "\n",
    ":::"
   ]
  },
  {
   "cell_type": "code",
   "execution_count": 5,
   "metadata": {
    "tags": [
     "hide-output"
    ]
   },
   "outputs": [
    {
     "name": "stdout",
     "output_type": "stream",
     "text": [
      "poli 🧪: creating an isolated black box function.\n",
      "poli 🧪: starting the isolated objective process.\n"
     ]
    }
   ],
   "source": [
    "from poli import objective_factory\n",
    "\n",
    "f, x0, y0 = objective_factory.create(\n",
    "    name=\"foldx_stability\",\n",
    "    wildtype_pdb_path=wildtype_pdb_path\n",
    ")"
   ]
  },
  {
   "cell_type": "markdown",
   "metadata": {},
   "source": [
    "`objective_factory.create` returns five things:\n",
    "\n",
    "1. a `problem_info` with a description of the problem, including useful attributes like `alphabet` or `max_sequence_length`.\n",
    "2. a black-box function `f: AbstractBlackBox` from `poli`.\n",
    "3. an initial design `x0: np.ndarray`, and\n",
    "4. an initial evaluation `y0: np.ndarray`.\n",
    "5. `run_info`, or the output of the observer's initialization (see more [in our chapter about making observers](../../the_basics/defining_an_observer.ipynb))."
   ]
  },
  {
   "cell_type": "markdown",
   "metadata": {},
   "source": [
    "These are all the ingredients required for an abstract solver to work. The next section shows how to use a baseline solver, which can be easily replaced by any other solver you implement (as long as it inherits from the `AbstractSolver` in `poli_baselines.core.abstract_solver`)."
   ]
  },
  {
   "cell_type": "markdown",
   "metadata": {},
   "source": [
    "## Optimizing using a `RandomMutation` solver"
   ]
  },
  {
   "cell_type": "markdown",
   "metadata": {},
   "source": [
    "In this tutorial we use the simplest baseline for discrete sequence optimization: a `RandomMutation` which takes the best performing sequence and randomly mutates it by selecting a position at random, and altering for another element of the alphabet.\n",
    "\n",
    ":::{note}\n",
    "\n",
    "There's nothing special about `RandomMutation` here. You could drop-in any solver you implement as long as it\n",
    "\n",
    "1. Inherits from `AbstractSolver` in `poli_baselines.core.abstract_solver`, and it\n",
    "2. implements the abstract method `next_candidate() -> np.ndarray`.\n",
    "\n",
    "[Check this tutorial on creating solvers for more details](../../the_basics/defining_a_problem_solver.md).\n",
    "\n",
    ":::"
   ]
  },
  {
   "cell_type": "code",
   "execution_count": 6,
   "metadata": {},
   "outputs": [
    {
     "name": "stderr",
     "output_type": "stream",
     "text": [
      "/Users/sjt972/anaconda3/envs/poli-docs2/lib/python3.9/site-packages/tqdm/auto.py:21: TqdmWarning: IProgress not found. Please update jupyter and ipywidgets. See https://ipywidgets.readthedocs.io/en/stable/user_install.html\n",
      "  from .autonotebook import tqdm as notebook_tqdm\n"
     ]
    }
   ],
   "source": [
    "from poli_baselines.solvers.simple.random_mutation import RandomMutation\n",
    "solver = RandomMutation(\n",
    "    black_box=f,\n",
    "    x0=x0,\n",
    "    y0=y0,\n",
    ")"
   ]
  },
  {
   "cell_type": "markdown",
   "metadata": {},
   "source": [
    "**And that's it!** You can optimize the objective function passed as `black_box` by just calling the `.solve(n_iters)` method: (be careful, this might take a while)"
   ]
  },
  {
   "cell_type": "code",
   "execution_count": 7,
   "metadata": {
    "tags": [
     "hide-output"
    ]
   },
   "outputs": [],
   "source": [
    "solver.solve(max_iter=3)"
   ]
  },
  {
   "cell_type": "markdown",
   "metadata": {},
   "source": [
    "## Checking the results"
   ]
  },
  {
   "cell_type": "markdown",
   "metadata": {},
   "source": [
    "After optimization, the results are stored inside `solver.history`, which is a dictionary with `\"x\"` and `\"y\"` keys. Let's check what the best optimization result was:"
   ]
  },
  {
   "cell_type": "code",
   "execution_count": 8,
   "metadata": {},
   "outputs": [
    {
     "name": "stdout",
     "output_type": "stream",
     "text": [
      "All y values: [array([[9.41639]]), array([[5.56267]]), array([[0.846902]]), array([[9.39441]])]\n",
      "best stability: [9.41639]\n",
      "Associated sequence: EEDNMAIIKEFMRFKTHMEGSVNGHEFEIEGEGEGRPYEGTQTAKLKVTKGGPLPFAWDILSPQFSKAYVKHPADIPDYLKLSFPEGFKWERVMNFEDGGVVTVTQDSSLQDGEFIYKVKLRGTNFPSDGPVMQKKTMGWEACSERMYPEDGALKGEMKMRLKLKDGGHYDAEVKTTYKAKKPVQLPGAYNTNTKLDITSHNEDYTIVEQYERNEGRHSTGGMDELYK\n"
     ]
    }
   ],
   "source": [
    "print(f\"All y values: {solver.history['y']}\")\n",
    "print(f\"best stability: {solver.get_best_performance()}\")\n",
    "print(f\"Associated sequence: {''.join(solver.get_best_solution().flatten())}\")"
   ]
  }
 ],
 "metadata": {
  "kernelspec": {
   "display_name": "poli-dev",
   "language": "python",
   "name": "python3"
  },
  "language_info": {
   "codemirror_mode": {
    "name": "ipython",
    "version": 3
   },
   "file_extension": ".py",
   "mimetype": "text/x-python",
   "name": "python",
   "nbconvert_exporter": "python",
   "pygments_lexer": "ipython3",
   "version": "3.9.18"
  }
 },
 "nbformat": 4,
 "nbformat_minor": 2
}