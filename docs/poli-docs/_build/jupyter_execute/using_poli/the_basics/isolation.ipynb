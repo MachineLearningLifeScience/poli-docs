{
 "cells": [
  {
   "cell_type": "markdown",
   "metadata": {},
   "source": [
    "# Isolating black box objective functions"
   ]
  },
  {
   "cell_type": "markdown",
   "metadata": {
    "vscode": {
     "languageId": "plaintext"
    }
   },
   "source": [
    "Each black-box objective function in `poli` lives inside a `conda` environment. For example:\n",
    "- the `foldx` stability objective lives inside `poli__protein`, which has `biopython`, `pdb-tools` and other libraries that are required to interface well with proteins and their representations.\n",
    "- the `dockstring` objective lives inside `poli__dockstring`, which includes babel as part of its installation.\n",
    "\n",
    "There are two ways of running objective functions: **having the right dependencies**, or **in isolation**."
   ]
  },
  {
   "cell_type": "markdown",
   "metadata": {},
   "source": [
    "## Running objective functions in isolation"
   ]
  },
  {
   "cell_type": "markdown",
   "metadata": {},
   "source": [
    "Let's say that your current environment doesn't have the package `dockstring` installed. You can still run the objective function:"
   ]
  },
  {
   "cell_type": "code",
   "execution_count": 1,
   "metadata": {},
   "outputs": [],
   "source": [
    "# No output: we don't have it installed.\n",
    "!pip freeze | grep dockstring"
   ]
  },
  {
   "cell_type": "code",
   "execution_count": 2,
   "metadata": {},
   "outputs": [
    {
     "name": "stdout",
     "output_type": "stream",
     "text": [
      "poli 🧪: creating an isolated black box function.\n",
      "poli 🧪: starting the isolated objective process.\n"
     ]
    },
    {
     "name": "stdout",
     "output_type": "stream",
     "text": [
      "Traceback (most recent call last):\n",
      "  File \"/Users/sjt972/Projects/poli/src/poli/objective.py\", line 135, in run\n",
      "    objective_factory: AbstractProblemFactory = dynamically_instantiate(\n",
      "  File \"/Users/sjt972/Projects/poli/src/poli/objective.py\", line 102, in dynamically_instantiate\n",
      "    raise e\n",
      "  File \"/Users/sjt972/Projects/poli/src/poli/objective.py\", line 92, in dynamically_instantiate\n",
      "    exec(command)\n",
      "  File \"<string>\", line 1, in <module>\n",
      "ModuleNotFoundError: No module named 'register'\n",
      "\n"
     ]
    },
    {
     "name": "stderr",
     "output_type": "stream",
     "text": [
      "CRITICAL:root:Path: /opt/homebrew/bin:/Users/sjt972/anaconda3/envs/poli__dockstring/bin:/Users/sjt972/anaconda3/condabin:/Users/sjt972/autodock_vina_1_1_2_mac_catalina_64bit/bin:/usr/local/bin:/System/Cryptexes/App/usr/bin:/usr/bin:/bin:/usr/sbin:/sbin:/var/run/com.apple.security.cryptexd/codex.system/bootstrap/usr/local/bin:/var/run/com.apple.security.cryptexd/codex.system/bootstrap/usr/bin:/var/run/com.apple.security.cryptexd/codex.system/bootstrap/usr/appleinternal/bin:/Library/TeX/texbin:/usr/local/go/bin:/Users/sjt972/.cargo/bin:/opt/homebrew/bin:/Users/sjt972/autodock_vina_1_1_2_mac_catalina_64bit/bin:/usr/local/bin:/System/Cryptexes/App/usr/bin:/usr/bin:/bin:/usr/sbin:/sbin:/var/run/com.apple.security.cryptexd/codex.system/bootstrap/usr/local/bin:/var/run/com.apple.security.cryptexd/codex.system/bootstrap/usr/bin:/var/run/com.apple.security.cryptexd/codex.system/bootstrap/usr/appleinternal/bin:/Library/TeX/texbin:/usr/local/go/bin:/opt/homebrew/bin:/Users/sjt972/anaconda3/bin:/Users/sjt972/anaconda3/condabin:/Users/sjt972/autodock_vina_1_1_2_mac_catalina_64bit/bin:/Users/sjt972/.cargo/bin:/Users/sjt972/anaconda3/bin\n",
      "CRITICAL:root:Python path: ['/Users/sjt972/Projects/poli/src/poli', '/Users/sjt972/Projects/poli-docs/docs/poli-docs/using_poli/the_basics', '/Users/sjt972/anaconda3/envs/poli-docs2/lib/python3.9/site-packages/poli/objective_repository/dockstring', '/Users/sjt972/anaconda3/envs/poli__dockstring/lib/python39.zip', '/Users/sjt972/anaconda3/envs/poli__dockstring/lib/python3.9', '/Users/sjt972/anaconda3/envs/poli__dockstring/lib/python3.9/lib-dynload', '/Users/sjt972/anaconda3/envs/poli__dockstring/lib/python3.9/site-packages', '/Users/sjt972/Projects/poli/src', '', '/Users/sjt972/anaconda3/envs/poli-docs2/lib/python3.9/site-packages/poli/objective_repository/dockstring']\n",
      "CRITICAL:root:Path: :/Users/sjt972/anaconda3/envs/poli-docs2/lib/python3.9/site-packages/poli/objective_repository/dockstring\n",
      "CRITICAL:root:Path: :/Users/sjt972/anaconda3/envs/poli-docs2/lib/python3.9/site-packages/poli/objective_repository/dockstring\n",
      "Traceback (most recent call last):\n",
      "  File \"/Users/sjt972/Projects/poli/src/poli/objective.py\", line 176, in <module>\n",
      "    run(factory_kwargs[0], args.objective_name, args.port, args.password)\n",
      "  File \"/Users/sjt972/Projects/poli/src/poli/objective.py\", line 145, in run\n",
      "    raise e\n",
      "  File \"/Users/sjt972/Projects/poli/src/poli/objective.py\", line 135, in run\n",
      "    objective_factory: AbstractProblemFactory = dynamically_instantiate(\n",
      "  File \"/Users/sjt972/Projects/poli/src/poli/objective.py\", line 102, in dynamically_instantiate\n",
      "    raise e\n",
      "  File \"/Users/sjt972/Projects/poli/src/poli/objective.py\", line 92, in dynamically_instantiate\n",
      "    exec(command)\n",
      "  File \"<string>\", line 1, in <module>\n",
      "ModuleNotFoundError: No module named 'register'\n"
     ]
    },
    {
     "ename": "ModuleNotFoundError",
     "evalue": "No module named 'register'",
     "output_type": "error",
     "traceback": [
      "\u001b[0;31m---------------------------------------------------------------------------\u001b[0m",
      "\u001b[0;31mModuleNotFoundError\u001b[0m                       Traceback (most recent call last)",
      "Cell \u001b[0;32mIn[2], line 3\u001b[0m\n\u001b[1;32m      1\u001b[0m \u001b[38;5;28;01mfrom\u001b[39;00m \u001b[38;5;21;01mpoli\u001b[39;00m \u001b[38;5;28;01mimport\u001b[39;00m create\n\u001b[0;32m----> 3\u001b[0m f, x0, y0 \u001b[38;5;241m=\u001b[39m \u001b[43mcreate\u001b[49m\u001b[43m(\u001b[49m\n\u001b[1;32m      4\u001b[0m \u001b[43m    \u001b[49m\u001b[43mname\u001b[49m\u001b[38;5;241;43m=\u001b[39;49m\u001b[38;5;124;43m\"\u001b[39;49m\u001b[38;5;124;43mdockstring\u001b[39;49m\u001b[38;5;124;43m\"\u001b[39;49m\u001b[43m,\u001b[49m\n\u001b[1;32m      5\u001b[0m \u001b[43m    \u001b[49m\u001b[43mtarget_name\u001b[49m\u001b[38;5;241;43m=\u001b[39;49m\u001b[38;5;124;43m\"\u001b[39;49m\u001b[38;5;124;43mdrd2\u001b[39;49m\u001b[38;5;124;43m\"\u001b[39;49m\u001b[43m  \u001b[49m\u001b[38;5;66;43;03m# The target protein.\u001b[39;49;00m\n\u001b[1;32m      6\u001b[0m \u001b[43m)\u001b[49m\n",
      "File \u001b[0;32m~/Projects/poli/src/poli/objective_factory.py:439\u001b[0m, in \u001b[0;36mcreate\u001b[0;34m(name, seed, observer_init_info, observer, force_register, force_isolation, batch_size, parallelize, num_workers, evaluation_budget, quiet, **kwargs_for_factory)\u001b[0m\n\u001b[1;32m    437\u001b[0m \u001b[38;5;28;01mif\u001b[39;00m \u001b[38;5;129;01mnot\u001b[39;00m quiet:\n\u001b[1;32m    438\u001b[0m     \u001b[38;5;28mprint\u001b[39m(\u001b[38;5;124mf\u001b[39m\u001b[38;5;124m\"\u001b[39m\u001b[38;5;124mpoli 🧪: creating an isolated black box function.\u001b[39m\u001b[38;5;124m\"\u001b[39m)\n\u001b[0;32m--> 439\u001b[0m f, x0, y0 \u001b[38;5;241m=\u001b[39m \u001b[43m__create_as_isolated_process\u001b[49m\u001b[43m(\u001b[49m\n\u001b[1;32m    440\u001b[0m \u001b[43m    \u001b[49m\u001b[43mname\u001b[49m\u001b[43m,\u001b[49m\n\u001b[1;32m    441\u001b[0m \u001b[43m    \u001b[49m\u001b[43mseed\u001b[49m\u001b[38;5;241;43m=\u001b[39;49m\u001b[43mseed\u001b[49m\u001b[43m,\u001b[49m\n\u001b[1;32m    442\u001b[0m \u001b[43m    \u001b[49m\u001b[43mbatch_size\u001b[49m\u001b[38;5;241;43m=\u001b[39;49m\u001b[43mbatch_size\u001b[49m\u001b[43m,\u001b[49m\n\u001b[1;32m    443\u001b[0m \u001b[43m    \u001b[49m\u001b[43mparallelize\u001b[49m\u001b[38;5;241;43m=\u001b[39;49m\u001b[43mparallelize\u001b[49m\u001b[43m,\u001b[49m\n\u001b[1;32m    444\u001b[0m \u001b[43m    \u001b[49m\u001b[43mnum_workers\u001b[49m\u001b[38;5;241;43m=\u001b[39;49m\u001b[43mnum_workers\u001b[49m\u001b[43m,\u001b[49m\n\u001b[1;32m    445\u001b[0m \u001b[43m    \u001b[49m\u001b[43mevaluation_budget\u001b[49m\u001b[38;5;241;43m=\u001b[39;49m\u001b[43mevaluation_budget\u001b[49m\u001b[43m,\u001b[49m\n\u001b[1;32m    446\u001b[0m \u001b[43m    \u001b[49m\u001b[43mquiet\u001b[49m\u001b[38;5;241;43m=\u001b[39;49m\u001b[43mquiet\u001b[49m\u001b[43m,\u001b[49m\n\u001b[1;32m    447\u001b[0m \u001b[43m    \u001b[49m\u001b[38;5;241;43m*\u001b[39;49m\u001b[38;5;241;43m*\u001b[39;49m\u001b[43mkwargs_for_factory\u001b[49m\u001b[43m,\u001b[49m\n\u001b[1;32m    448\u001b[0m \u001b[43m\u001b[49m\u001b[43m)\u001b[49m\n\u001b[1;32m    449\u001b[0m problem_information \u001b[38;5;241m=\u001b[39m f\u001b[38;5;241m.\u001b[39minfo\n\u001b[1;32m    451\u001b[0m \u001b[38;5;66;03m# instantiate observer (if desired)\u001b[39;00m\n",
      "File \u001b[0;32m~/Projects/poli/src/poli/objective_factory.py:278\u001b[0m, in \u001b[0;36m__create_as_isolated_process\u001b[0;34m(name, seed, batch_size, parallelize, num_workers, evaluation_budget, quiet, **kwargs_for_factory)\u001b[0m\n\u001b[1;32m    276\u001b[0m     e, tb \u001b[38;5;241m=\u001b[39m msg\n\u001b[1;32m    277\u001b[0m     \u001b[38;5;28mprint\u001b[39m(tb)\n\u001b[0;32m--> 278\u001b[0m     \u001b[38;5;28;01mraise\u001b[39;00m e\n\u001b[1;32m    279\u001b[0m \u001b[38;5;28;01melse\u001b[39;00m:\n\u001b[1;32m    280\u001b[0m     \u001b[38;5;28;01mraise\u001b[39;00m \u001b[38;5;167;01mValueError\u001b[39;00m(\n\u001b[1;32m    281\u001b[0m         \u001b[38;5;124mf\u001b[39m\u001b[38;5;124m\"\u001b[39m\u001b[38;5;124mInternal error: received \u001b[39m\u001b[38;5;132;01m{\u001b[39;00mmsg_type\u001b[38;5;132;01m}\u001b[39;00m\u001b[38;5;124m when expecting SETUP or EXCEPTION\u001b[39m\u001b[38;5;124m\"\u001b[39m\n\u001b[1;32m    282\u001b[0m     )\n",
      "\u001b[0;31mModuleNotFoundError\u001b[0m: No module named 'register'"
     ]
    }
   ],
   "source": [
    "from poli import create\n",
    "\n",
    "f, x0, y0 = create(\n",
    "    name=\"dockstring\",\n",
    "    target_name=\"drd2\"  # The target protein.\n",
    ")"
   ]
  },
  {
   "cell_type": "markdown",
   "metadata": {},
   "source": [
    "As you can see, `poli` warns us that it is creating the conda environment associated with the black box function, and it is creating an isolated process where the objective can be run.\n",
    "\n",
    "This can be verified by checking the type of `f`:"
   ]
  },
  {
   "cell_type": "code",
   "execution_count": 8,
   "metadata": {},
   "outputs": [
    {
     "name": "stdout",
     "output_type": "stream",
     "text": [
      "ExternalBlackBox(L=inf, num_evaluations=0)\n"
     ]
    }
   ],
   "source": [
    "print(f)"
   ]
  },
  {
   "cell_type": "markdown",
   "metadata": {},
   "source": [
    "This black box is an `ExternalBlackBox`, meaning that it is listening to an isolated process running `python` inside the `poli__dockstring` environment."
   ]
  },
  {
   "cell_type": "markdown",
   "metadata": {},
   "source": [
    "We can still evaluate `f` like normal:"
   ]
  },
  {
   "cell_type": "code",
   "execution_count": 10,
   "metadata": {},
   "outputs": [
    {
     "name": "stderr",
     "output_type": "stream",
     "text": [
      "/Users/sjt972/anaconda3/envs/poli__dockstring/lib/python3.9/site-packages/dockstring/utils.py:77: DockstringWarning: Although Mac use is supported, docking scores on Mac do not always perfectly match scores from Linux. Therefore, extra care should be taken when comparing results to other platforms. In particular, the baselines in the DOCKSTRING paper were computed on Linux, so please do not directly compare your docking scores to the scores reported on the paper.\n",
      "  warnings.warn(\n"
     ]
    },
    {
     "data": {
      "text/plain": [
       "array([[11.9]])"
      ]
     },
     "execution_count": 10,
     "metadata": {},
     "output_type": "execute_result"
    }
   ],
   "source": [
    "f(x0)"
   ]
  },
  {
   "cell_type": "code",
   "execution_count": 11,
   "metadata": {},
   "outputs": [
    {
     "name": "stdout",
     "output_type": "stream",
     "text": [
      "ExternalBlackBox(L=inf, num_evaluations=1)\n"
     ]
    }
   ],
   "source": [
    "print(f)"
   ]
  },
  {
   "cell_type": "markdown",
   "metadata": {},
   "source": [
    "## When you have the right dependencies..."
   ]
  },
  {
   "cell_type": "markdown",
   "metadata": {},
   "source": [
    "However, when you have the right dependencies, the `create` method returns the actual objective function. Let's use for example `rdkit_logp`:"
   ]
  },
  {
   "cell_type": "code",
   "execution_count": 12,
   "metadata": {},
   "outputs": [
    {
     "name": "stdout",
     "output_type": "stream",
     "text": [
      "poli 🧪: Creating the objective from the repository.\n"
     ]
    }
   ],
   "source": [
    "f_logp, x0_logp, y0_logp = create(\n",
    "    name=\"rdkit_logp\"\n",
    ")"
   ]
  },
  {
   "cell_type": "markdown",
   "metadata": {},
   "source": [
    "Now, if we print `f_logp`, we can see that the create method returned the actual objective black box."
   ]
  },
  {
   "cell_type": "code",
   "execution_count": 13,
   "metadata": {},
   "outputs": [
    {
     "name": "stdout",
     "output_type": "stream",
     "text": [
      "LogPBlackBox(L=inf, num_evaluations=1)\n"
     ]
    }
   ],
   "source": [
    "print(f_logp)"
   ]
  },
  {
   "cell_type": "markdown",
   "metadata": {},
   "source": [
    "## Conclusions"
   ]
  },
  {
   "cell_type": "markdown",
   "metadata": {},
   "source": [
    "- `poli` is able to instantiate objective functions inside isolated environments.\n",
    "- If the dependencies are met, the objective function is created directly instead."
   ]
  },
  {
   "cell_type": "markdown",
   "metadata": {},
   "source": [
    "## Read more"
   ]
  },
  {
   "cell_type": "markdown",
   "metadata": {},
   "source": [
    "You can check the individual dependencies of each black box inside their implementation, or in [their documentation](../objective_repository/all_objectives.md)."
   ]
  }
 ],
 "metadata": {
  "kernelspec": {
   "display_name": "poli-docs",
   "language": "python",
   "name": "python3"
  },
  "language_info": {
   "codemirror_mode": {
    "name": "ipython",
    "version": 3
   },
   "file_extension": ".py",
   "mimetype": "text/x-python",
   "name": "python",
   "nbconvert_exporter": "python",
   "pygments_lexer": "ipython3",
   "version": "3.9.18"
  }
 },
 "nbformat": 4,
 "nbformat_minor": 2
}