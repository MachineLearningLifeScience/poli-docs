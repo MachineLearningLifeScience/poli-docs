{
 "cells": [
  {
   "cell_type": "markdown",
   "metadata": {},
   "source": [
    "# Isolating black box objective functions"
   ]
  },
  {
   "cell_type": "markdown",
   "metadata": {
    "vscode": {
     "languageId": "plaintext"
    }
   },
   "source": [
    "Each black-box objective function in `poli` lives inside a `conda` environment. For example:\n",
    "- the `foldx` stability objective lives inside `poli__protein`, which has `biopython`, `pdb-tools` and other libraries that are required to interface well with proteins and their representations.\n",
    "- the `dockstring` objective lives inside `poli__dockstring`, which includes babel as part of its installation.\n",
    "\n",
    "`poli` provides a way of running these objective functions **in isolation**."
   ]
  },
  {
   "cell_type": "markdown",
   "metadata": {},
   "source": [
    "## Running objective functions in isolation"
   ]
  },
  {
   "cell_type": "markdown",
   "metadata": {},
   "source": [
    "Let's say that your current environment doesn't have the package `dockstring` installed. You can still run the objective function:"
   ]
  },
  {
   "cell_type": "code",
   "execution_count": 1,
   "metadata": {},
   "outputs": [],
   "source": [
    "# No output: we don't have it installed.\n",
    "!pip freeze | grep dockstring"
   ]
  },
  {
   "cell_type": "code",
   "execution_count": 2,
   "metadata": {},
   "outputs": [
    {
     "name": "stdout",
     "output_type": "stream",
     "text": [
      "poli 🧪: creating environment poli__dockstring from dockstring/environment.yml\n",
      "poli 🧪: poli__dockstring already exists.\n",
      "poli 🧪: running registration of dockstring__isolated from environment poli__dockstring\n"
     ]
    },
    {
     "name": "stderr",
     "output_type": "stream",
     "text": [
      "/Users/sjt972/Projects/poli/src/poli/core/util/isolation/instancing.py:129: UserWarning: Environment poli__dockstring already exists. Will not create it.\n",
      "  warnings.warn(f\"Environment {env_name} already exists. Will not create it.\")\n",
      "/Users/sjt972/Projects/poli/src/poli/core/util/isolation/instancing.py:140: UserWarning: Running the following command: conda run -n poli__dockstring python /Users/sjt972/Projects/poli/src/poli/objective_repository/dockstring/isolated_function.py. \n",
      "  warnings.warn(\"Running the following command: %s. \" % command)\n"
     ]
    },
    {
     "name": "stdout",
     "output_type": "stream",
     "text": [
      "poli 🧪: Starting the function dockstring as an isolated process.\n"
     ]
    }
   ],
   "source": [
    "from poli.objective_repository import DockstringBlackBox\n",
    "\n",
    "f = DockstringBlackBox(target_name=\"DRD2\")"
   ]
  },
  {
   "cell_type": "markdown",
   "metadata": {},
   "source": [
    "As you can see, `poli` warns us that it is creating the conda environment associated with the black box function, and it is creating an isolated process where the objective can be run."
   ]
  },
  {
   "cell_type": "markdown",
   "metadata": {},
   "source": [
    "We can still evaluate `f` like normal:"
   ]
  },
  {
   "cell_type": "code",
   "execution_count": 3,
   "metadata": {},
   "outputs": [
    {
     "name": "stderr",
     "output_type": "stream",
     "text": [
      "/Users/sjt972/anaconda3/envs/poli__dockstring/lib/python3.9/site-packages/dockstring/utils.py:77: DockstringWarning: Although Mac use is supported, docking scores on Mac do not always perfectly match scores from Linux. Therefore, extra care should be taken when comparing results to other platforms. In particular, the baselines in the DOCKSTRING paper were computed on Linux, so please do not directly compare your docking scores to the scores reported on the paper.\n",
      "  warnings.warn(\n"
     ]
    },
    {
     "data": {
      "text/plain": [
       "array([[11.9]])"
      ]
     },
     "execution_count": 3,
     "metadata": {},
     "output_type": "execute_result"
    }
   ],
   "source": [
    "import numpy as np\n",
    "\n",
    "# The example from dockstring's documentation: risperidone.\n",
    "x0 = np.array([\"CC1=C(C(=O)N2CCCCC2=N1)CCN3CCC(CC3)C4=NOC5=C4C=CC(=C5)F\"])\n",
    "\n",
    "f(x0)"
   ]
  },
  {
   "cell_type": "markdown",
   "metadata": {},
   "source": [
    "## (Optional) What is happening under the hood?"
   ]
  },
  {
   "cell_type": "markdown",
   "metadata": {},
   "source": [
    "Each black box/problem implements all its complicated logic inside an `AbstractIsolatedFunction`, which lives in a different submodule inside the problem's folder.\n",
    "\n",
    "When we create a black box instance (like `f = DockstringBlackBox(target_name=\"DRD2\")` here), one of two things happen:\n",
    "1. If we are able to import this isolated function, we do it directly and store it in `f.inner_function`,\n",
    "2. If we are not able to import it (say, because we don't have the right dependencies in our current environment), poli starts an isolated process running with a pre-defined conda environment, and still stores it in `f.inner_function`. Calls to this isolated process are handled using `multiprocess`."
   ]
  },
  {
   "cell_type": "markdown",
   "metadata": {},
   "source": [
    "## Read more"
   ]
  },
  {
   "cell_type": "markdown",
   "metadata": {},
   "source": [
    "You can check the individual dependencies of each black box inside their implementation, or in [their documentation](../objective_repository/all_objectives.md)."
   ]
  }
 ],
 "metadata": {
  "kernelspec": {
   "display_name": "poli-docs",
   "language": "python",
   "name": "python3"
  },
  "language_info": {
   "codemirror_mode": {
    "name": "ipython",
    "version": 3
   },
   "file_extension": ".py",
   "mimetype": "text/x-python",
   "name": "python",
   "nbconvert_exporter": "python",
   "pygments_lexer": "ipython3",
   "version": "3.9.18"
  }
 },
 "nbformat": 4,
 "nbformat_minor": 2
}