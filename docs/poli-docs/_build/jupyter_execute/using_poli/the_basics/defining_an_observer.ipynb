{
 "cells": [
  {
   "cell_type": "markdown",
   "metadata": {},
   "source": [
    "# Defining an observer"
   ]
  },
  {
   "cell_type": "markdown",
   "metadata": {},
   "source": [
    "In the previous chapter we discussed how to create and optimize objective functions using `poli` and `poli-baselines`. These objective functions are usually part of an optimization experiment, in which logging is essential. For example, you might be comparing the sample efficiency/the quality of two different black box optimization algorithms. Logging the results would then be essential for the comparison.\n",
    "\n",
    "`poli` provides logging via **observers**. An observer can be attached to a black box function, such that every single call to the function gets logged. This chapter explains how to write observers, and provides a simple example using an observer that saves/updates local `json` files at each evaluation.\n",
    "\n",
    ":::{admonition} Want a more complex example?\n",
    "\n",
    "If you are interested in more complex observers (using e.g. [MLFlow](https://mlflow.org/docs/latest/index.html) or [Weights and Biases](https://wandb.ai)), check the `examples` folder in `poli`. There you will find how to define and use simple observers using these two logging libraries.\n",
    "\n",
    ":::\n"
   ]
  },
  {
   "cell_type": "markdown",
   "metadata": {},
   "source": [
    "## An abstract observer"
   ]
  },
  {
   "cell_type": "markdown",
   "metadata": {},
   "source": [
    "All observers inherit from an `AbstractObserver` (which you can find on `poli/core/util/abstract_observer.py`). The abstract methods you need to overwrite are:\n",
    "- `initialize_observer(problem_info: ProblemSetupInformation, caller_info: object, x0: np.ndarray, y0: np.ndarray, seed: int) -> object`, which gets called as part of the set-up of the objective function (when `objective_factory.create` is called).\n",
    "- `observe(x: np.ndarray, y: np.ndarray, context: object) -> None`, which gets called every time your optimization algorithms query the objective function.\n",
    "- `finish()`, which gets called either by the user, or by the object deletion at the end of the script."
   ]
  },
  {
   "cell_type": "markdown",
   "metadata": {},
   "source": [
    "## An instance: a simple observer"
   ]
  },
  {
   "cell_type": "markdown",
   "metadata": {},
   "source": [
    "Let's define a simple observer that saves or updates a local json file every time the objective function is called. We can start by defining the skeleton of our observer:"
   ]
  },
  {
   "cell_type": "code",
   "execution_count": 1,
   "metadata": {},
   "outputs": [],
   "source": [
    "import numpy as np\n",
    "\n",
    "from poli.core.problem_setup_information import ProblemSetupInformation\n",
    "from poli.core.util.abstract_observer import AbstractObserver\n",
    "\n",
    "class SimpleObserver(AbstractObserver):\n",
    "    def __init__(self):\n",
    "        ...\n",
    "\n",
    "    def initialize_observer(\n",
    "        self,\n",
    "        problem_setup_info: ProblemSetupInformation,\n",
    "        caller_info: object,\n",
    "        x0: np.ndarray,\n",
    "        y0: np.ndarray,\n",
    "        seed: int\n",
    "    ) -> object:\n",
    "        ...\n",
    "    \n",
    "    def observe(self, x: np.ndarray, y: np.ndarray, context=None) -> None:\n",
    "        ...\n",
    "\n",
    "    def finish(self) -> None:\n",
    "        ..."
   ]
  },
  {
   "cell_type": "markdown",
   "metadata": {},
   "source": [
    "### Initializing the observer"
   ]
  },
  {
   "cell_type": "markdown",
   "metadata": {},
   "source": [
    "Usually, at `init` time we might need to create some folders (or log into services like `wandb`). In this example, let's use the `__init__` to create a folder adjacent to this file called `results`, and a unique identifier for this experiment using `uuid4`. Let's use the `initialize_observer` to log the metadata of this individual experiment."
   ]
  },
  {
   "cell_type": "code",
   "execution_count": 2,
   "metadata": {},
   "outputs": [],
   "source": [
    "from pathlib import Path\n",
    "from uuid import uuid4\n",
    "import json\n",
    "\n",
    "import numpy as np\n",
    "\n",
    "from poli.core.problem_setup_information import ProblemSetupInformation\n",
    "from poli.core.util.abstract_observer import AbstractObserver\n",
    "\n",
    "THIS_DIR = Path().resolve()\n",
    "\n",
    "class SimpleObserver(AbstractObserver):\n",
    "    def __init__(self):\n",
    "        # Creating a unique id for this experiment in\n",
    "        # particular:\n",
    "        experiment_id = str(uuid4())\n",
    "        self.experiment_id = experiment_id\n",
    "\n",
    "        # Creating a local directory for the results\n",
    "        experiment_path = THIS_DIR / \"results\" / experiment_id\n",
    "        experiment_path.mkdir(exist_ok=True, parents=True)\n",
    "        \n",
    "        self.experiment_path = experiment_path\n",
    "    \n",
    "    def initialize_observer(\n",
    "        self,\n",
    "        problem_setup_info: ProblemSetupInformation,\n",
    "        caller_info: object,\n",
    "        x0: np.ndarray,\n",
    "        y0: np.ndarray,\n",
    "        seed: int\n",
    "    ) -> object:\n",
    "\n",
    "        # Saving the metadata for this experiment\n",
    "        metadata = problem_setup_info.as_dict()\n",
    "\n",
    "        # Adding the information the user wanted to provide\n",
    "        # (Recall that this caller info gets forwarded\n",
    "        # from the objective_factory.create function)\n",
    "        metadata[\"caller_info\"] = caller_info\n",
    "\n",
    "        # Saving the initial evaluations and seed\n",
    "        metadata[\"x0\"] = x0.tolist()\n",
    "        metadata[\"y0\"] = y0.tolist()\n",
    "        metadata[\"seed\"] = seed\n",
    "\n",
    "        # Saving the metadata\n",
    "        with open(self.experiment_path / \"metadata.json\", \"w\") as f:\n",
    "            json.dump(metadata, f)\n",
    "    \n",
    "    # The rest of the class\n",
    "    ..."
   ]
  },
  {
   "cell_type": "markdown",
   "metadata": {},
   "source": [
    "### The core of the logging: `observe`"
   ]
  },
  {
   "cell_type": "markdown",
   "metadata": {},
   "source": [
    "The `observe` method will be called every time the user/algorithm queries the objective function (if you are curious, you can check the `AbstractBlackBox` in `poli`).\n",
    "\n",
    "In our case, we will simply append the x and y to a file called `results.txt`.\n",
    "\n",
    ":::{warning}\n",
    "\n",
    "Remember that this is a simple example! We are essentially re-inventing the wheel. You should write more complex logic for logging, or use libraries like `tensorboard`, `mlflow` or `wandb`.\n",
    "\n",
    ":::"
   ]
  },
  {
   "cell_type": "code",
   "execution_count": 3,
   "metadata": {},
   "outputs": [],
   "source": [
    "from pathlib import Path\n",
    "from uuid import uuid4\n",
    "import json\n",
    "\n",
    "import numpy as np\n",
    "\n",
    "from poli.core.problem_setup_information import ProblemSetupInformation\n",
    "from poli.core.util.abstract_observer import AbstractObserver\n",
    "\n",
    "THIS_DIR = Path().resolve()\n",
    "\n",
    "class SimpleObserver(AbstractObserver):\n",
    "    # The init and initialize_observer methods\n",
    "    ...\n",
    "    \n",
    "    def observe(self, x: np.ndarray, y: np.ndarray, context=None) -> None:\n",
    "        # Appending these results to the results file.\n",
    "        with open(self.experiment_path / \"results.txt\", \"a\") as fp:\n",
    "            fp.write(f\"{x.tolist()}\\t{y.tolist()}\\n\")"
   ]
  },
  {
   "cell_type": "markdown",
   "metadata": {},
   "source": [
    "### Putting it all together"
   ]
  },
  {
   "cell_type": "markdown",
   "metadata": {},
   "source": [
    "In this next snippet, we put everything together into the final version. Notice how this simple example doesn't require any complex logic for `finish`. In other scenarios, you might want to finish the experiment by terminating your active run on `mlflow` or `wandb`."
   ]
  },
  {
   "cell_type": "code",
   "execution_count": 4,
   "metadata": {
    "tags": [
     "hide-cell"
    ]
   },
   "outputs": [],
   "source": [
    "from pathlib import Path\n",
    "from uuid import uuid4\n",
    "import json\n",
    "\n",
    "import numpy as np\n",
    "\n",
    "from poli.core.problem_setup_information import ProblemSetupInformation\n",
    "from poli.core.util.abstract_observer import AbstractObserver\n",
    "\n",
    "THIS_DIR = Path().resolve()\n",
    "\n",
    "class SimpleObserver(AbstractObserver):\n",
    "    def __init__(self):\n",
    "        # Creating a unique id for this experiment in\n",
    "        # particular:\n",
    "        experiment_id = str(uuid4())\n",
    "        self.experiment_id = experiment_id\n",
    "\n",
    "        # Creating a local directory for the results\n",
    "        experiment_path = THIS_DIR / \"results\" / experiment_id\n",
    "        experiment_path.mkdir(exist_ok=True, parents=True)\n",
    "        \n",
    "        self.experiment_path = experiment_path\n",
    "    \n",
    "    def initialize_observer(\n",
    "        self,\n",
    "        problem_setup_info: ProblemSetupInformation,\n",
    "        caller_info: object,\n",
    "        x0: np.ndarray,\n",
    "        y0: np.ndarray,\n",
    "        seed: int\n",
    "    ) -> object:\n",
    "\n",
    "        # Saving the metadata for this experiment\n",
    "        metadata = problem_setup_info.as_dict()\n",
    "\n",
    "        # Adding the information the user wanted to provide\n",
    "        # (Recall that this caller info gets forwarded\n",
    "        # from the objective_factory.create function)\n",
    "        metadata[\"caller_info\"] = caller_info\n",
    "\n",
    "        # Saving the initial evaluations and seed\n",
    "        metadata[\"x0\"] = x0.tolist()\n",
    "        metadata[\"y0\"] = y0.tolist()\n",
    "        metadata[\"seed\"] = seed\n",
    "\n",
    "        # Saving the metadata\n",
    "        with open(self.experiment_path / \"metadata.json\", \"w\") as f:\n",
    "            json.dump(metadata, f)\n",
    "    \n",
    "    def observe(self, x: np.ndarray, y: np.ndarray, context=None) -> None:\n",
    "        # Appending these results to the results file.\n",
    "        with open(self.experiment_path / \"results.txt\", \"a\") as fp:\n",
    "            fp.write(f\"{x.tolist()}\\t{y.tolist()}\\n\")"
   ]
  },
  {
   "cell_type": "markdown",
   "metadata": {},
   "source": [
    "## Logging a couple queries of `aloha`"
   ]
  },
  {
   "cell_type": "markdown",
   "metadata": {},
   "source": [
    "Using the `aloha` toy problem, let's check that our observer logic works as expected:"
   ]
  },
  {
   "cell_type": "code",
   "execution_count": 5,
   "metadata": {
    "tags": [
     "hide-output"
    ]
   },
   "outputs": [
    {
     "name": "stdout",
     "output_type": "stream",
     "text": [
      "poli 🧪: Creating the objective aloha from the repository.\n",
      "poli 🧪: initializing the observer.\n"
     ]
    }
   ],
   "source": [
    "from poli import objective_factory\n",
    "\n",
    "# We create an instance of the observer\n",
    "observer = SimpleObserver()\n",
    "\n",
    "# We instantiate the objective function\n",
    "problem = objective_factory.create(\n",
    "    name=\"aloha\",\n",
    "    observer=observer,\n",
    ")\n",
    "f, x0 = problem.black_box, problem.x0"
   ]
  },
  {
   "cell_type": "markdown",
   "metadata": {},
   "source": [
    "At this point, the observer `__init__` call created a folder called `results` right next to this file, and we can load up the metadata just to be sure:"
   ]
  },
  {
   "cell_type": "code",
   "execution_count": 6,
   "metadata": {},
   "outputs": [
    {
     "name": "stdout",
     "output_type": "stream",
     "text": [
      "{'name': 'aloha', 'max_sequence_length': 5, 'aligned': True, 'fixed_length': True, 'deterministic': True, 'discrete': True, 'fidelity': None, 'alphabet': ['A', 'B', 'C', 'D', 'E', 'F', 'G', 'H', 'I', 'J', 'K', 'L', 'M', 'N', 'O', 'P', 'Q', 'R', 'S', 'T', 'U', 'V', 'W', 'X', 'Y', 'Z'], 'log_transform_recommended': False, 'padding_token': '', 'caller_info': None, 'x0': [['A', 'L', 'O', 'O', 'F']], 'y0': [[3]], 'seed': None}\n"
     ]
    }
   ],
   "source": [
    "with open(observer.experiment_path / \"metadata.json\") as fp:\n",
    "    print(json.load(fp))"
   ]
  },
  {
   "cell_type": "markdown",
   "metadata": {},
   "source": [
    "Let's query the objective function at three points, and check whether the results were saved accordingly: "
   ]
  },
  {
   "cell_type": "code",
   "execution_count": 7,
   "metadata": {},
   "outputs": [
    {
     "name": "stdout",
     "output_type": "stream",
     "text": [
      "[[0]]\n",
      "[[1]]\n",
      "[[5]]\n"
     ]
    }
   ],
   "source": [
    "print(f(np.array([list(\"MIGUE\")])))\n",
    "print(f(np.array([list(\"FLEAS\")])))\n",
    "print(f(np.array([list(\"ALOHA\")])))"
   ]
  },
  {
   "cell_type": "markdown",
   "metadata": {},
   "source": [
    "We can verify by loading up and printing the `results.txt` file:"
   ]
  },
  {
   "cell_type": "code",
   "execution_count": 8,
   "metadata": {},
   "outputs": [
    {
     "name": "stdout",
     "output_type": "stream",
     "text": [
      "[['A', 'L', 'O', 'O', 'F']]\t[[3]]\n",
      "[['M', 'I', 'G', 'U', 'E']]\t[[0]]\n",
      "[['F', 'L', 'E', 'A', 'S']]\t[[1]]\n",
      "[['A', 'L', 'O', 'H', 'A']]\t[[5]]\n",
      "\n"
     ]
    }
   ],
   "source": [
    "with open(observer.experiment_path / \"results.txt\") as fp:\n",
    "    print(fp.read())"
   ]
  },
  {
   "cell_type": "markdown",
   "metadata": {},
   "source": [
    "## Conclusion"
   ]
  },
  {
   "cell_type": "markdown",
   "metadata": {},
   "source": [
    "This small tutorial showcases the logic behind observers, which are the main way in which `poli` logs results. We saw\n",
    "\n",
    "1. the structure of an `AbstractObserver`, and which abstract methods need to be overwritten.\n",
    "2. how `initialize_observer` is called, and\n",
    "3. how each query to the objective function is observed.\n",
    "\n",
    ":::{tip}\n",
    "\n",
    "If you are interested in using more complex logic for your logging, you can check the `examples` folder in `poli`, as they include two observers using `mlflow` and `wandb`.\n",
    "\n",
    "`poli` is also able to isolate observers, and the `examples` folder also includes a description of how.\n",
    "\n",
    ":::\n"
   ]
  }
 ],
 "metadata": {
  "kernelspec": {
   "display_name": "poli-base",
   "language": "python",
   "name": "python3"
  },
  "language_info": {
   "codemirror_mode": {
    "name": "ipython",
    "version": 3
   },
   "file_extension": ".py",
   "mimetype": "text/x-python",
   "name": "python",
   "nbconvert_exporter": "python",
   "pygments_lexer": "ipython3",
   "version": "3.9.18"
  }
 },
 "nbformat": 4,
 "nbformat_minor": 2
}