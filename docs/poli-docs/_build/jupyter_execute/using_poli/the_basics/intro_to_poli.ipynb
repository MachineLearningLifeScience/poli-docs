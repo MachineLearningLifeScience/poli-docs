{
 "cells": [
  {
   "cell_type": "markdown",
   "metadata": {},
   "source": [
    "# What is poli?"
   ]
  },
  {
   "cell_type": "markdown",
   "metadata": {},
   "source": [
    "```{contents}\n",
    "```\n",
    "\n",
    "`poli` is a library for creating and calling black box objective functions, with a special focus on *discrete* sequence optimization. It stands for *Protein Objectives Library*, since some of the work done on drug design and protein engineering is done through representing proteins and small molecules as discrete sequences.\n",
    "\n",
    "We also build `poli-baselines` on top, allowing you to define black box optimization algorithms for discrete sequences.\n",
    "\n",
    "These next chapters detail a basic example of how to use `poli` and `poli-baselines`.\n",
    "\n",
    "The rest of this intro details the usual development loops we assume you'll follow when using `poli` and `poli-baselines`:"
   ]
  },
  {
   "cell_type": "markdown",
   "metadata": {},
   "source": [
    "## The usual development loop"
   ]
  },
  {
   "cell_type": "markdown",
   "metadata": {},
   "source": [
    "Black-box optimization algorithms inside `poli-baselines` are treated as **solvers**, and the discrete objective functions of `poli` are described as **problems**.\n",
    "\n",
    "We propose to you the following process for using `poli-baselines`' optimizers, or developing your own:"
   ]
  },
  {
   "cell_type": "markdown",
   "metadata": {},
   "source": [
    "### Identify the objective function"
   ]
  },
  {
   "cell_type": "markdown",
   "metadata": {},
   "source": [
    "Start by identify the black-box objective function you want to optimize, and check if it's already registered in `poli`, or available in `poli`'s objective repository.\n",
    "\n",
    "This can be done by running"
   ]
  },
  {
   "cell_type": "code",
   "execution_count": 1,
   "metadata": {},
   "outputs": [
    {
     "name": "stdout",
     "output_type": "stream",
     "text": [
      "['albuterol_similarity', 'aloha', 'amlodipine_mpo', 'celecoxib_rediscovery', 'deco_hop', 'dockstring', 'drd2_docking', 'drd3_docking', 'ehrlich', 'ehrlich_holo', 'fexofenadine_mpo', 'foldx_rfp_lambo', 'foldx_sasa', 'foldx_stability', 'foldx_stability_and_sasa', 'gfp_cbas', 'gfp_select', 'gsk3_beta', 'isomer_c7h8n2o2', 'isomer_c9h10n2o2pf2cl', 'jnk3', 'median_1', 'median_2', 'mestranol_similarity', 'osimetrinib_mpo', 'penalized_logp_lambo', 'perindopril_mpo', 'ranolazine_mpo', 'rasp', 'rdkit_logp', 'rdkit_qed', 'rfp_foldx_stability', 'rfp_foldx_stability_and_sasa', 'rfp_rasp', 'rmf_landscape', 'rosetta_energy', 'sa_tdc', 'scaffold_hop', 'sitagliptin_mpo', 'super_mario_bros', 'thiothixene_rediscovery', 'toy_continuous_problem', 'troglitazone_rediscovery', 'valsartan_smarts', 'white_noise', 'zaleplon_mpo']\n"
     ]
    }
   ],
   "source": [
    "from poli import get_problems\n",
    "print(get_problems())"
   ]
  },
  {
   "cell_type": "markdown",
   "metadata": {},
   "source": [
    "The output is a list of problems you may be able to run."
   ]
  },
  {
   "cell_type": "markdown",
   "metadata": {},
   "source": [
    ":::{note}\n",
    "\n",
    "Most black box functions run out-of-the-box, but some have more requirements, like installing external dependencies. Check [the page on all objective functions](../objective_repository/all_objectives.md) and click on the objective function you are interested in to get a detailed set of instructions on how to install and run it.\n",
    "\n",
    ":::\n",
    "\n",
    "In what follows, we will use the `white_noise` objective function. You could drop-in another function if desired."
   ]
  },
  {
   "cell_type": "code",
   "execution_count": 2,
   "metadata": {},
   "outputs": [],
   "source": [
    "# One way to create a white noise problem/black box\n",
    "from poli import objective_factory\n",
    "\n",
    "problem = objective_factory.create(name=\"white_noise\")\n",
    "f, x0 = problem.black_box, problem.x0\n",
    "\n",
    "# Another way\n",
    "from poli.objective_repository import WhiteNoiseBlackBox\n",
    "\n",
    "f = WhiteNoiseBlackBox()"
   ]
  },
  {
   "cell_type": "markdown",
   "metadata": {},
   "source": [
    "At this point, you can call `f` on arrays of shape `[b, L]`. In the specific case of `white_noise`, `L` can be any positive integer."
   ]
  },
  {
   "cell_type": "markdown",
   "metadata": {},
   "source": [
    "### Using a solver, or creating your own"
   ]
  },
  {
   "cell_type": "markdown",
   "metadata": {},
   "source": [
    "`poli-baselines` also comes with black-box optimizers out-of-the-box. You can find them inside the library.\n",
    "\n",
    "For example, let's use the `RandomMutation` solver, which takes the initial `x0` and randomly mutates it according to the alphabet provided in `problem_info`."
   ]
  },
  {
   "cell_type": "code",
   "execution_count": 3,
   "metadata": {},
   "outputs": [
    {
     "ename": "TypeError",
     "evalue": "unsupported operand type(s) for |: 'types.GenericAlias' and 'NoneType'",
     "output_type": "error",
     "traceback": [
      "\u001b[0;31m---------------------------------------------------------------------------\u001b[0m",
      "\u001b[0;31mTypeError\u001b[0m                                 Traceback (most recent call last)",
      "Cell \u001b[0;32mIn[3], line 1\u001b[0m\n\u001b[0;32m----> 1\u001b[0m \u001b[38;5;28;01mfrom\u001b[39;00m \u001b[38;5;21;01mpoli_baselines\u001b[39;00m\u001b[38;5;21;01m.\u001b[39;00m\u001b[38;5;21;01msolvers\u001b[39;00m\u001b[38;5;21;01m.\u001b[39;00m\u001b[38;5;21;01msimple\u001b[39;00m\u001b[38;5;21;01m.\u001b[39;00m\u001b[38;5;21;01mrandom_mutation\u001b[39;00m \u001b[38;5;28;01mimport\u001b[39;00m RandomMutation\n\u001b[1;32m      3\u001b[0m y0 \u001b[38;5;241m=\u001b[39m f(x0)\n\u001b[1;32m      5\u001b[0m solver \u001b[38;5;241m=\u001b[39m RandomMutation(\n\u001b[1;32m      6\u001b[0m     black_box\u001b[38;5;241m=\u001b[39mf,\n\u001b[1;32m      7\u001b[0m     x0\u001b[38;5;241m=\u001b[39mx0,\n\u001b[1;32m      8\u001b[0m     y0\u001b[38;5;241m=\u001b[39my0,\n\u001b[1;32m      9\u001b[0m )\n",
      "File \u001b[0;32m~/Projects/poli-baselines/src/poli_baselines/solvers/simple/random_mutation.py:22\u001b[0m\n\u001b[1;32m     17\u001b[0m \u001b[38;5;28;01mfrom\u001b[39;00m \u001b[38;5;21;01mpoli\u001b[39;00m\u001b[38;5;21;01m.\u001b[39;00m\u001b[38;5;21;01mcore\u001b[39;00m\u001b[38;5;21;01m.\u001b[39;00m\u001b[38;5;21;01mabstract_black_box\u001b[39;00m \u001b[38;5;28;01mimport\u001b[39;00m AbstractBlackBox\n\u001b[1;32m     19\u001b[0m \u001b[38;5;28;01mfrom\u001b[39;00m \u001b[38;5;21;01mpoli_baselines\u001b[39;00m\u001b[38;5;21;01m.\u001b[39;00m\u001b[38;5;21;01mcore\u001b[39;00m\u001b[38;5;21;01m.\u001b[39;00m\u001b[38;5;21;01mstep_by_step_solver\u001b[39;00m \u001b[38;5;28;01mimport\u001b[39;00m StepByStepSolver\n\u001b[0;32m---> 22\u001b[0m \u001b[38;5;28;01mclass\u001b[39;00m \u001b[38;5;21;01mRandomMutation\u001b[39;00m(StepByStepSolver):\n\u001b[1;32m     23\u001b[0m     \u001b[38;5;28;01mdef\u001b[39;00m \u001b[38;5;21m__init__\u001b[39m(\n\u001b[1;32m     24\u001b[0m         \u001b[38;5;28mself\u001b[39m,\n\u001b[1;32m     25\u001b[0m         black_box: AbstractBlackBox,\n\u001b[0;32m   (...)\u001b[0m\n\u001b[1;32m     33\u001b[0m         tokenizer: Callable[[\u001b[38;5;28mstr\u001b[39m], \u001b[38;5;28mlist\u001b[39m[\u001b[38;5;28mstr\u001b[39m]] \u001b[38;5;241m|\u001b[39m \u001b[38;5;28;01mNone\u001b[39;00m \u001b[38;5;241m=\u001b[39m \u001b[38;5;28;01mNone\u001b[39;00m,\n\u001b[1;32m     34\u001b[0m     ):\n\u001b[1;32m     35\u001b[0m         \u001b[38;5;28;01mif\u001b[39;00m x0\u001b[38;5;241m.\u001b[39mndim \u001b[38;5;241m==\u001b[39m \u001b[38;5;241m1\u001b[39m:\n",
      "File \u001b[0;32m~/Projects/poli-baselines/src/poli_baselines/solvers/simple/random_mutation.py:32\u001b[0m, in \u001b[0;36mRandomMutation\u001b[0;34m()\u001b[0m\n\u001b[1;32m     22\u001b[0m \u001b[38;5;28;01mclass\u001b[39;00m \u001b[38;5;21;01mRandomMutation\u001b[39;00m(StepByStepSolver):\n\u001b[1;32m     23\u001b[0m     \u001b[38;5;28;01mdef\u001b[39;00m \u001b[38;5;21m__init__\u001b[39m(\n\u001b[1;32m     24\u001b[0m         \u001b[38;5;28mself\u001b[39m,\n\u001b[1;32m     25\u001b[0m         black_box: AbstractBlackBox,\n\u001b[1;32m     26\u001b[0m         x0: np\u001b[38;5;241m.\u001b[39mndarray,\n\u001b[1;32m     27\u001b[0m         y0: np\u001b[38;5;241m.\u001b[39mndarray,\n\u001b[1;32m     28\u001b[0m         n_mutations: \u001b[38;5;28mint\u001b[39m \u001b[38;5;241m=\u001b[39m \u001b[38;5;241m1\u001b[39m,\n\u001b[1;32m     29\u001b[0m         top_k: \u001b[38;5;28mint\u001b[39m \u001b[38;5;241m=\u001b[39m \u001b[38;5;241m1\u001b[39m,\n\u001b[1;32m     30\u001b[0m         batch_size: \u001b[38;5;28mint\u001b[39m \u001b[38;5;241m=\u001b[39m \u001b[38;5;241m1\u001b[39m,\n\u001b[1;32m     31\u001b[0m         greedy: \u001b[38;5;28mbool\u001b[39m \u001b[38;5;241m=\u001b[39m \u001b[38;5;28;01mTrue\u001b[39;00m,\n\u001b[0;32m---> 32\u001b[0m         alphabet: \u001b[38;5;28;43mlist\u001b[39;49m\u001b[43m[\u001b[49m\u001b[38;5;28;43mstr\u001b[39;49m\u001b[43m]\u001b[49m\u001b[43m \u001b[49m\u001b[38;5;241;43m|\u001b[39;49m\u001b[43m \u001b[49m\u001b[38;5;28;43;01mNone\u001b[39;49;00m \u001b[38;5;241m=\u001b[39m \u001b[38;5;28;01mNone\u001b[39;00m,\n\u001b[1;32m     33\u001b[0m         tokenizer: Callable[[\u001b[38;5;28mstr\u001b[39m], \u001b[38;5;28mlist\u001b[39m[\u001b[38;5;28mstr\u001b[39m]] \u001b[38;5;241m|\u001b[39m \u001b[38;5;28;01mNone\u001b[39;00m \u001b[38;5;241m=\u001b[39m \u001b[38;5;28;01mNone\u001b[39;00m,\n\u001b[1;32m     34\u001b[0m     ):\n\u001b[1;32m     35\u001b[0m         \u001b[38;5;28;01mif\u001b[39;00m x0\u001b[38;5;241m.\u001b[39mndim \u001b[38;5;241m==\u001b[39m \u001b[38;5;241m1\u001b[39m:\n\u001b[1;32m     36\u001b[0m             \u001b[38;5;28;01mif\u001b[39;00m tokenizer \u001b[38;5;129;01mis\u001b[39;00m \u001b[38;5;28;01mNone\u001b[39;00m:\n",
      "\u001b[0;31mTypeError\u001b[0m: unsupported operand type(s) for |: 'types.GenericAlias' and 'NoneType'"
     ]
    }
   ],
   "source": [
    "from poli_baselines.solvers.simple.random_mutation import RandomMutation\n",
    "\n",
    "y0 = f(x0)\n",
    "\n",
    "solver = RandomMutation(\n",
    "    black_box=f,\n",
    "    x0=x0,\n",
    "    y0=y0,\n",
    ")\n",
    "\n",
    "print(f\"x0: {x0}\")\n",
    "print(f\"y0: {y0}\")"
   ]
  },
  {
   "cell_type": "markdown",
   "metadata": {},
   "source": [
    "Solvers implement a `solve(max_iter: int)` method, which runs the optimization for the provided budget.\n",
    "\n",
    "In the specific example of `RandomMutation`, each step proposes a new candidate by choosing an element from the alphabet at random, and mutating a random position. This alphabet is part of the black box information:"
   ]
  },
  {
   "cell_type": "code",
   "execution_count": 8,
   "metadata": {},
   "outputs": [
    {
     "name": "stdout",
     "output_type": "stream",
     "text": [
      "BlackBoxInformation(name=white_noise, max_sequence_length=inf, aligned=False, fixed_length=False, discrete=True)\n",
      "['0', '1', '2', '3', '4', '5', '6', '7', '8', '9']\n"
     ]
    }
   ],
   "source": [
    "print(f.info)\n",
    "print(f.info.alphabet)"
   ]
  },
  {
   "cell_type": "markdown",
   "metadata": {},
   "source": [
    "**If you are interested in building your own solver**, check out [the chapter detailing how `RandomMutation` is implemented](./defining_a_problem_solver.md) or [our guide for contributing a new solver](../../contributing/a_new_solver.md)."
   ]
  },
  {
   "cell_type": "markdown",
   "metadata": {},
   "source": [
    "### Optimizing"
   ]
  },
  {
   "cell_type": "markdown",
   "metadata": {},
   "source": [
    "Once you have a black box objective function `f` and a solver on top, the optimization is quite easy:"
   ]
  },
  {
   "cell_type": "code",
   "execution_count": 9,
   "metadata": {},
   "outputs": [],
   "source": [
    "solver.solve(max_iter=100)"
   ]
  },
  {
   "cell_type": "code",
   "execution_count": 10,
   "metadata": {},
   "outputs": [
    {
     "name": "stdout",
     "output_type": "stream",
     "text": [
      "[['1' '4' '5']]\n"
     ]
    }
   ],
   "source": [
    "print(solver.get_best_solution())"
   ]
  },
  {
   "cell_type": "markdown",
   "metadata": {},
   "source": [
    "Of course, this example is trivial. We dive deeper in the next chapters."
   ]
  },
  {
   "cell_type": "markdown",
   "metadata": {},
   "source": [
    "## Conclusion"
   ]
  },
  {
   "cell_type": "markdown",
   "metadata": {},
   "source": [
    "This chapter discusses the usual development loop using `poli` and `poli-baselines`:\n",
    "1. Start by identifying/building your objective function,\n",
    "2. continue by creating/using a solver in `poli_baselines`, and\n",
    "3. use the `solve` method to run a number of iterations from the solver.\n",
    "\n",
    "The next three chapters talk about another trivial example, diving deeper in the process of defining your own objective functions and solvers. You can continue there, or by checking [the currently implemented repository of objective functions inside `poli`](../objective_repository/all_objectives.md)."
   ]
  }
 ],
 "metadata": {
  "kernelspec": {
   "display_name": "Python 3 (ipykernel)",
   "language": "python",
   "name": "python3"
  },
  "language_info": {
   "codemirror_mode": {
    "name": "ipython",
    "version": 3
   },
   "file_extension": ".py",
   "mimetype": "text/x-python",
   "name": "python",
   "nbconvert_exporter": "python",
   "pygments_lexer": "ipython3",
   "version": "3.9.18"
  }
 },
 "nbformat": 4,
 "nbformat_minor": 4
}