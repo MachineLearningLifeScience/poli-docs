{
 "cells": [
  {
   "cell_type": "markdown",
   "metadata": {},
   "source": [
    "# What is poli?"
   ]
  },
  {
   "cell_type": "markdown",
   "metadata": {},
   "source": [
    "```{contents}\n",
    "```\n",
    "\n",
    "`poli` is a library for creating and calling black box objective functions, with a special focus on *discrete* sequence optimization. It stands for *Protein Objectives Library*, since some of the work done on drug design and protein engineering is done through representing proteins and small molecules as discrete sequences.\n",
    "\n",
    "We also build `poli-baselines` on top, allowing you to define black box optimization algorithms for discrete sequences.\n",
    "\n",
    "These next chapters detail a basic example of how to use `poli` and `poli-baselines`.\n",
    "\n",
    "The rest of this intro details the usual development loops we assume you'll follow when using `poli` and `poli-baselines`:"
   ]
  },
  {
   "cell_type": "markdown",
   "metadata": {},
   "source": [
    "## The usual development loop"
   ]
  },
  {
   "cell_type": "markdown",
   "metadata": {},
   "source": [
    "Black-box optimization algorithms inside `poli-baselines` are treated as **solvers**, and the discrete objective functions of `poli` are described as **problems**.\n",
    "\n",
    "We propose to you the following process for using `poli-baselines`' optimizers, or developing your own:"
   ]
  },
  {
   "cell_type": "markdown",
   "metadata": {},
   "source": [
    "### Identify the objective function"
   ]
  },
  {
   "cell_type": "markdown",
   "metadata": {},
   "source": [
    "Start by identify the black-box objective function you want to optimize, and check if it's already registered in `poli`, or available in `poli`'s objective repository.\n",
    "\n",
    "This can be done by running"
   ]
  },
  {
   "cell_type": "code",
   "execution_count": 1,
   "metadata": {},
   "outputs": [
    {
     "name": "stdout",
     "output_type": "stream",
     "text": [
      "['albuterol_similarity', 'aloha', 'amlodipine_mpo', 'celecoxib_rediscovery', 'deco_hop', 'dockstring', 'drd2_docking', 'drd3_docking', 'ehrlich', 'ehrlich_holo', 'fexofenadine_mpo', 'foldx_rfp_lambo', 'foldx_sasa', 'foldx_stability', 'foldx_stability_and_sasa', 'gfp_cbas', 'gfp_select', 'gsk3_beta', 'isomer_c7h8n2o2', 'isomer_c9h10n2o2pf2cl', 'jnk3', 'median_1', 'median_2', 'mestranol_similarity', 'osimetrinib_mpo', 'penalized_logp_lambo', 'perindopril_mpo', 'ranolazine_mpo', 'rasp', 'rdkit_logp', 'rdkit_qed', 'rfp_foldx_stability', 'rfp_foldx_stability_and_sasa', 'rfp_rasp', 'rmf_landscape', 'rosetta_energy', 'sa_tdc', 'scaffold_hop', 'sitagliptin_mpo', 'super_mario_bros', 'thiothixene_rediscovery', 'toy_continuous_problem', 'troglitazone_rediscovery', 'valsartan_smarts', 'white_noise', 'zaleplon_mpo']\n"
     ]
    }
   ],
   "source": [
    "from poli import get_problems\n",
    "print(get_problems())"
   ]
  },
  {
   "cell_type": "markdown",
   "metadata": {},
   "source": [
    "The output is a list of problems you may be able to run."
   ]
  },
  {
   "cell_type": "markdown",
   "metadata": {},
   "source": [
    ":::{note}\n",
    "\n",
    "Most black box functions run out-of-the-box, but some have more requirements, like installing external dependencies. Check [the page on all objective functions](../objective_repository/all_objectives.md) and click on the objective function you are interested in to get a detailed set of instructions on how to install and run it.\n",
    "\n",
    ":::\n",
    "\n",
    "In what follows, we will use the `white_noise` objective function. You could drop-in another function if desired."
   ]
  },
  {
   "cell_type": "code",
   "execution_count": 2,
   "metadata": {},
   "outputs": [],
   "source": [
    "# One way to create a white noise problem/black box\n",
    "from poli import objective_factory\n",
    "\n",
    "problem = objective_factory.create(name=\"white_noise\")\n",
    "f, x0 = problem.black_box, problem.x0\n",
    "\n",
    "# Another way\n",
    "from poli.objective_repository import WhiteNoiseBlackBox\n",
    "\n",
    "f = WhiteNoiseBlackBox()"
   ]
  },
  {
   "cell_type": "markdown",
   "metadata": {},
   "source": [
    "At this point, you can call `f` on arrays of shape `[b, L]`. In the specific case of `white_noise`, `L` can be any positive integer."
   ]
  },
  {
   "cell_type": "markdown",
   "metadata": {},
   "source": [
    "### Using a solver, or creating your own"
   ]
  },
  {
   "cell_type": "markdown",
   "metadata": {},
   "source": [
    "`poli-baselines` also comes with black-box optimizers out-of-the-box. You can find them inside the library.\n",
    "\n",
    "For example, let's use the `RandomMutation` solver, which takes the initial `x0` and randomly mutates it according to the alphabet provided in `problem_info`."
   ]
  },
  {
   "cell_type": "code",
   "execution_count": 3,
   "metadata": {},
   "outputs": [
    {
     "name": "stdout",
     "output_type": "stream",
     "text": [
      "x0: [['1' '2' '3']]\n",
      "y0: [[-1.74420618]]\n"
     ]
    }
   ],
   "source": [
    "from poli_baselines.solvers.simple.random_mutation import RandomMutation\n",
    "\n",
    "y0 = f(x0)\n",
    "\n",
    "solver = RandomMutation(\n",
    "    black_box=f,\n",
    "    x0=x0,\n",
    "    y0=y0,\n",
    ")\n",
    "\n",
    "print(f\"x0: {x0}\")\n",
    "print(f\"y0: {y0}\")"
   ]
  },
  {
   "cell_type": "markdown",
   "metadata": {},
   "source": [
    "Solvers implement a `solve(max_iter: int)` method, which runs the optimization for the provided budget.\n",
    "\n",
    "In the specific example of `RandomMutation`, each step proposes a new candidate by choosing an element from the alphabet at random, and mutating a random position. This alphabet is part of the black box information:"
   ]
  },
  {
   "cell_type": "code",
   "execution_count": 4,
   "metadata": {},
   "outputs": [
    {
     "name": "stdout",
     "output_type": "stream",
     "text": [
      "BlackBoxInformation(name=white_noise, max_sequence_length=inf, aligned=False, fixed_length=False, discrete=True)\n",
      "['0', '1', '2', '3', '4', '5', '6', '7', '8', '9']\n"
     ]
    }
   ],
   "source": [
    "print(f.info)\n",
    "print(f.info.alphabet)"
   ]
  },
  {
   "cell_type": "markdown",
   "metadata": {},
   "source": [
    "**If you are interested in building your own solver**, check out [the chapter detailing how `RandomMutation` is implemented](./defining_a_problem_solver.md) or [our guide for contributing a new solver](../../contributing/a_new_solver.md)."
   ]
  },
  {
   "cell_type": "markdown",
   "metadata": {},
   "source": [
    "### Optimizing"
   ]
  },
  {
   "cell_type": "markdown",
   "metadata": {},
   "source": [
    "Once you have a black box objective function `f` and a solver on top, the optimization is quite easy:"
   ]
  },
  {
   "cell_type": "code",
   "execution_count": 5,
   "metadata": {},
   "outputs": [
    {
     "data": {
      "text/plain": [
       "(array([['1', '7', '4']], dtype='<U1'), array([3.40581673]))"
      ]
     },
     "execution_count": 5,
     "metadata": {},
     "output_type": "execute_result"
    }
   ],
   "source": [
    "solver.solve(max_iter=100)"
   ]
  },
  {
   "cell_type": "code",
   "execution_count": 6,
   "metadata": {},
   "outputs": [
    {
     "name": "stdout",
     "output_type": "stream",
     "text": [
      "[['1' '7' '4']]\n"
     ]
    }
   ],
   "source": [
    "print(solver.get_best_solution())"
   ]
  },
  {
   "cell_type": "markdown",
   "metadata": {},
   "source": [
    "Of course, this example is trivial. We dive deeper in the next chapters."
   ]
  },
  {
   "cell_type": "markdown",
   "metadata": {},
   "source": [
    "## Conclusion"
   ]
  },
  {
   "cell_type": "markdown",
   "metadata": {},
   "source": [
    "This chapter discusses the usual development loop using `poli` and `poli-baselines`:\n",
    "1. Start by identifying/building your objective function,\n",
    "2. continue by creating/using a solver in `poli_baselines`, and\n",
    "3. use the `solve` method to run a number of iterations from the solver.\n",
    "\n",
    "The next three chapters talk about another trivial example, diving deeper in the process of defining your own objective functions and solvers. You can continue there, or by checking [the currently implemented repository of objective functions inside `poli`](../objective_repository/all_objectives.md)."
   ]
  }
 ],
 "metadata": {
  "kernelspec": {
   "display_name": "Python 3 (ipykernel)",
   "language": "python",
   "name": "python3"
  },
  "language_info": {
   "codemirror_mode": {
    "name": "ipython",
    "version": 3
   },
   "file_extension": ".py",
   "mimetype": "text/x-python",
   "name": "python",
   "nbconvert_exporter": "python",
   "pygments_lexer": "ipython3",
   "version": "3.10.15"
  }
 },
 "nbformat": 4,
 "nbformat_minor": 4
}