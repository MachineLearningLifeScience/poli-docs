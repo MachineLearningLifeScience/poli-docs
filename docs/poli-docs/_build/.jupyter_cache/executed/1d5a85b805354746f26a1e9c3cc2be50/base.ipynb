{
 "cells": [
  {
   "cell_type": "code",
   "execution_count": 1,
   "metadata": {},
   "outputs": [
    {
     "data": {
      "text/plain": [
       "['aloha',\n",
       " 'dockstring',\n",
       " 'drd3_docking',\n",
       " 'foldx_rfp_lambo',\n",
       " 'foldx_sasa',\n",
       " 'foldx_stability',\n",
       " 'foldx_stability_and_sasa',\n",
       " 'gfp_cbas',\n",
       " 'gfp_select',\n",
       " 'penalized_logp_lambo',\n",
       " 'rasp',\n",
       " 'rdkit_logp',\n",
       " 'rdkit_qed',\n",
       " 'sa_tdc',\n",
       " 'simple__',\n",
       " 'super_mario_bros',\n",
       " 'toy_continuous_problem',\n",
       " 'white_noise']"
      ]
     },
     "execution_count": 1,
     "metadata": {},
     "output_type": "execute_result"
    }
   ],
   "source": [
    "from poli.core.registry import get_problems\n",
    "get_problems(include_repository=True)"
   ]
  },
  {
   "cell_type": "code",
   "execution_count": 2,
   "metadata": {},
   "outputs": [],
   "source": [
    "problem_name = \"foldx_stability\""
   ]
  },
  {
   "cell_type": "code",
   "execution_count": 3,
   "metadata": {},
   "outputs": [
    {
     "name": "stdout",
     "output_type": "stream",
     "text": [
      "3ned_Repair.pdb                    optimizing_protein_stability.ipynb\r\n"
     ]
    }
   ],
   "source": [
    "!ls"
   ]
  },
  {
   "cell_type": "code",
   "execution_count": 4,
   "metadata": {},
   "outputs": [
    {
     "data": {
      "text/plain": [
       "True"
      ]
     },
     "execution_count": 4,
     "metadata": {},
     "output_type": "execute_result"
    }
   ],
   "source": [
    "from pathlib import Path\n",
    "\n",
    "wildtype_pdb_path = Path(\"./3ned_Repair.pdb\").resolve()\n",
    "wildtype_pdb_path.exists()  # Should say True"
   ]
  },
  {
   "cell_type": "code",
   "execution_count": 5,
   "metadata": {
    "tags": [
     "hide-output"
    ]
   },
   "outputs": [
    {
     "name": "stdout",
     "output_type": "stream",
     "text": [
      "poli 🧪: Creating the objective from the repository.\n"
     ]
    },
    {
     "name": "stdout",
     "output_type": "stream",
     "text": [
      "   ********************************************\n",
      "   ***                                      ***\n",
      "   ***             FoldX 5 (c)            ***\n",
      "   ***                                      ***\n",
      "   ***     code by the FoldX Consortium     ***\n",
      "   ***                                      ***\n",
      "   ***     Jesper Borg, Frederic Rousseau   ***\n",
      "   ***    Joost Schymkowitz, Luis Serrano   ***\n",
      "   ***    Peter Vanhee, Erik Verschueren    ***\n",
      "   ***     Lies Baeten, Javier Delgado      ***\n",
      "   ***       and Francois Stricher          ***\n",
      "   *** and any other of the 9! permutations ***\n",
      "   ***   based on an original concept by    ***\n",
      "   ***   Raphael Guerois and Luis Serrano   ***\n",
      "   ********************************************\n",
      "\n",
      "1 models read: 3ned_Repair.pdb\n",
      "1 models read: 3ned_Repair.pdb\n"
     ]
    },
    {
     "name": "stdout",
     "output_type": "stream",
     "text": [
      "\n",
      "BackHbond       =               -178.70\n",
      "SideHbond       =               -76.61\n",
      "Energy_VdW      =               -267.80\n",
      "Electro         =               -13.75\n",
      "Energy_SolvP    =               374.21\n",
      "Energy_SolvH    =               -351.07\n",
      "Energy_vdwclash =               6.28\n",
      "energy_torsion  =               7.33\n",
      "backbone_vdwclash=              65.17\n",
      "Entropy_sidec   =               146.42\n",
      "Entropy_mainc   =               340.27\n",
      "water bonds     =               0.00\n",
      "helix dipole    =               0.00\n",
      "loop_entropy    =               0.00\n",
      "cis_bond        =               2.25\n",
      "disulfide       =               0.00\n",
      "kn electrostatic=               0.00\n",
      "partial covalent interactions = 0.00\n",
      "Energy_Ionisation =             1.77\n",
      "Entropy Complex =               0.00\n",
      "-----------------------------------------------------------\n",
      "Total          = \t\t\t\t  -9.41\n",
      "\n"
     ]
    },
    {
     "name": "stdout",
     "output_type": "stream",
     "text": [
      "\n",
      "BackHbond       =               -178.70\n",
      "SideHbond       =               -76.61\n",
      "Energy_VdW      =               -267.80\n",
      "Electro         =               -13.75\n",
      "Energy_SolvP    =               374.21\n",
      "Energy_SolvH    =               -351.07\n",
      "Energy_vdwclash =               6.28\n",
      "energy_torsion  =               7.33\n",
      "backbone_vdwclash=              65.17\n",
      "Entropy_sidec   =               146.42\n",
      "Entropy_mainc   =               340.27\n",
      "water bonds     =               0.00\n",
      "helix dipole    =               0.00\n",
      "loop_entropy    =               0.00\n",
      "cis_bond        =               2.25\n",
      "disulfide       =               0.00\n",
      "kn electrostatic=               0.00\n",
      "partial covalent interactions = 0.00\n",
      "Energy_Ionisation =             1.77\n",
      "Entropy Complex =               0.00\n",
      "-----------------------------------------------------------\n",
      "Total          = \t\t\t\t  -9.41\n",
      "\n",
      "Starting BuildModel\n",
      "Reading EA1E;\n",
      "Residue to Mutate GLUA1 has residue index 0\n",
      "Mutating residue = GLUA1 into GLU\n"
     ]
    },
    {
     "name": "stdout",
     "output_type": "stream",
     "text": [
      "Your file run OK\n",
      "End time of FoldX: Fri Jan 19 09:18:37 2024\n",
      "Total time spend: 2.67 seconds.\n",
      "validated file \"3ned_Repair_1.pdb\" => successfully finished\n",
      "Cleaning BuildModel...DONE\n"
     ]
    }
   ],
   "source": [
    "from poli import objective_factory\n",
    "\n",
    "problem_info, f, x0, y0, run_info = objective_factory.create(\n",
    "    name=\"foldx_stability\",\n",
    "    caller_info=None,\n",
    "    observer=None,\n",
    "    wildtype_pdb_path=wildtype_pdb_path\n",
    ")"
   ]
  },
  {
   "cell_type": "code",
   "execution_count": 6,
   "metadata": {},
   "outputs": [],
   "source": [
    "from poli_baselines.solvers.simple.random_mutation import RandomMutation\n",
    "solver = RandomMutation(\n",
    "    black_box=f,\n",
    "    x0=x0,\n",
    "    y0=y0,\n",
    ")"
   ]
  },
  {
   "cell_type": "code",
   "execution_count": 7,
   "metadata": {
    "tags": [
     "hide-output"
    ]
   },
   "outputs": [
    {
     "name": "stdout",
     "output_type": "stream",
     "text": [
      "   ********************************************\n",
      "   ***                                      ***\n",
      "   ***             FoldX 5 (c)            ***\n",
      "   ***                                      ***\n",
      "   ***     code by the FoldX Consortium     ***\n",
      "   ***                                      ***\n",
      "   ***     Jesper Borg, Frederic Rousseau   ***\n",
      "   ***    Joost Schymkowitz, Luis Serrano   ***\n",
      "   ***    Peter Vanhee, Erik Verschueren    ***\n",
      "   ***     Lies Baeten, Javier Delgado      ***\n",
      "   ***       and Francois Stricher          ***\n",
      "   *** and any other of the 9! permutations ***\n",
      "   ***   based on an original concept by    ***\n",
      "   ***   Raphael Guerois and Luis Serrano   ***\n",
      "   ********************************************\n",
      "\n",
      "1 models read: 3ned_Repair.pdb\n",
      "1 models read: 3ned_Repair.pdb\n"
     ]
    },
    {
     "name": "stdout",
     "output_type": "stream",
     "text": [
      "\n",
      "BackHbond       =               -178.70\n",
      "SideHbond       =               -76.61\n",
      "Energy_VdW      =               -267.80\n",
      "Electro         =               -13.75\n",
      "Energy_SolvP    =               374.21\n",
      "Energy_SolvH    =               -351.07\n",
      "Energy_vdwclash =               6.28\n",
      "energy_torsion  =               7.33\n",
      "backbone_vdwclash=              65.17\n",
      "Entropy_sidec   =               146.42\n",
      "Entropy_mainc   =               340.21\n",
      "water bonds     =               0.00\n",
      "helix dipole    =               0.00\n",
      "loop_entropy    =               0.00\n",
      "cis_bond        =               2.25\n",
      "disulfide       =               0.00\n",
      "kn electrostatic=               0.00\n",
      "partial covalent interactions = 0.00\n",
      "Energy_Ionisation =             1.77\n",
      "Entropy Complex =               0.00\n",
      "-----------------------------------------------------------\n",
      "Total          = \t\t\t\t  -9.46\n",
      "\n"
     ]
    },
    {
     "name": "stdout",
     "output_type": "stream",
     "text": [
      "\n",
      "BackHbond       =               -178.70\n",
      "SideHbond       =               -76.61\n",
      "Energy_VdW      =               -267.80\n",
      "Electro         =               -13.75\n",
      "Energy_SolvP    =               374.21\n",
      "Energy_SolvH    =               -351.07\n",
      "Energy_vdwclash =               6.28\n",
      "energy_torsion  =               7.33\n",
      "backbone_vdwclash=              65.17\n",
      "Entropy_sidec   =               146.42\n",
      "Entropy_mainc   =               340.21\n",
      "water bonds     =               0.00\n",
      "helix dipole    =               0.00\n",
      "loop_entropy    =               0.00\n",
      "cis_bond        =               2.25\n",
      "disulfide       =               0.00\n",
      "kn electrostatic=               0.00\n",
      "partial covalent interactions = 0.00\n",
      "Energy_Ionisation =             1.77\n",
      "Entropy Complex =               0.00\n",
      "-----------------------------------------------------------\n",
      "Total          = \t\t\t\t  -9.46\n",
      "\n",
      "Starting BuildModel\n",
      "Reading IA119L;\n",
      "Residue to Mutate ILEA119 has residue index 118\n",
      "Mutating residue = ILEA119 into LEU\n"
     ]
    },
    {
     "name": "stdout",
     "output_type": "stream",
     "text": [
      "Your file run OK\n",
      "End time of FoldX: Fri Jan 19 09:18:49 2024\n",
      "Total time spend: 8.69 seconds.\n",
      "validated file \"3ned_Repair_1.pdb\" => successfully finished\n",
      "Cleaning BuildModel...DONE\n"
     ]
    },
    {
     "name": "stdout",
     "output_type": "stream",
     "text": [
      "   ********************************************\n",
      "   ***                                      ***\n",
      "   ***             FoldX 5 (c)            ***\n",
      "   ***                                      ***\n",
      "   ***     code by the FoldX Consortium     ***\n",
      "   ***                                      ***\n",
      "   ***     Jesper Borg, Frederic Rousseau   ***\n",
      "   ***    Joost Schymkowitz, Luis Serrano   ***\n",
      "   ***    Peter Vanhee, Erik Verschueren    ***\n",
      "   ***     Lies Baeten, Javier Delgado      ***\n",
      "   ***       and Francois Stricher          ***\n",
      "   *** and any other of the 9! permutations ***\n",
      "   ***   based on an original concept by    ***\n",
      "   ***   Raphael Guerois and Luis Serrano   ***\n",
      "   ********************************************\n",
      "\n",
      "1 models read: 3ned_Repair.pdb\n",
      "1 models read: 3ned_Repair.pdb\n"
     ]
    },
    {
     "name": "stdout",
     "output_type": "stream",
     "text": [
      "\n",
      "BackHbond       =               -178.70\n",
      "SideHbond       =               -76.61\n",
      "Energy_VdW      =               -267.80\n",
      "Electro         =               -13.75\n",
      "Energy_SolvP    =               374.21\n",
      "Energy_SolvH    =               -351.07\n",
      "Energy_vdwclash =               6.28\n",
      "energy_torsion  =               7.33\n",
      "backbone_vdwclash=              65.17\n",
      "Entropy_sidec   =               146.42\n",
      "Entropy_mainc   =               340.27\n",
      "water bonds     =               0.00\n",
      "helix dipole    =               0.00\n",
      "loop_entropy    =               0.00\n",
      "cis_bond        =               2.25\n",
      "disulfide       =               0.00\n",
      "kn electrostatic=               0.00\n",
      "partial covalent interactions = 0.00\n",
      "Energy_Ionisation =             1.77\n",
      "Entropy Complex =               0.00\n",
      "-----------------------------------------------------------\n",
      "Total          = \t\t\t\t  -9.41\n",
      "\n"
     ]
    },
    {
     "name": "stdout",
     "output_type": "stream",
     "text": [
      "\n",
      "BackHbond       =               -178.70\n",
      "SideHbond       =               -76.61\n",
      "Energy_VdW      =               -267.80\n",
      "Electro         =               -13.75\n",
      "Energy_SolvP    =               374.21\n",
      "Energy_SolvH    =               -351.07\n",
      "Energy_vdwclash =               6.28\n",
      "energy_torsion  =               7.33\n",
      "backbone_vdwclash=              65.17\n",
      "Entropy_sidec   =               146.42\n",
      "Entropy_mainc   =               340.27\n",
      "water bonds     =               0.00\n",
      "helix dipole    =               0.00\n",
      "loop_entropy    =               0.00\n",
      "cis_bond        =               2.25\n",
      "disulfide       =               0.00\n",
      "kn electrostatic=               0.00\n",
      "partial covalent interactions = 0.00\n",
      "Energy_Ionisation =             1.77\n",
      "Entropy Complex =               0.00\n",
      "-----------------------------------------------------------\n",
      "Total          = \t\t\t\t  -9.41\n",
      "\n",
      "Starting BuildModel\n",
      "Reading NA23C;\n",
      "Residue to Mutate ASNA23 has residue index 22\n",
      "Mutating residue = ASNA23 into CYS\n"
     ]
    },
    {
     "name": "stdout",
     "output_type": "stream",
     "text": [
      "Your file run OK\n",
      "End time of FoldX: Fri Jan 19 09:18:51 2024\n",
      "Total time spend: 1.53 seconds.\n",
      "validated file \"3ned_Repair_1.pdb\" => successfully finished\n",
      "Cleaning BuildModel...DONE\n"
     ]
    },
    {
     "name": "stdout",
     "output_type": "stream",
     "text": [
      "   ********************************************\n",
      "   ***                                      ***\n",
      "   ***             FoldX 5 (c)            ***\n",
      "   ***                                      ***\n",
      "   ***     code by the FoldX Consortium     ***\n",
      "   ***                                      ***\n",
      "   ***     Jesper Borg, Frederic Rousseau   ***\n",
      "   ***    Joost Schymkowitz, Luis Serrano   ***\n",
      "   ***    Peter Vanhee, Erik Verschueren    ***\n",
      "   ***     Lies Baeten, Javier Delgado      ***\n",
      "   ***       and Francois Stricher          ***\n",
      "   *** and any other of the 9! permutations ***\n",
      "   ***   based on an original concept by    ***\n",
      "   ***   Raphael Guerois and Luis Serrano   ***\n",
      "   ********************************************\n",
      "\n",
      "1 models read: 3ned_Repair.pdb\n",
      "1 models read: 3ned_Repair.pdb\n"
     ]
    },
    {
     "name": "stdout",
     "output_type": "stream",
     "text": [
      "\n",
      "BackHbond       =               -178.70\n",
      "SideHbond       =               -76.61\n",
      "Energy_VdW      =               -267.80\n",
      "Electro         =               -13.75\n",
      "Energy_SolvP    =               374.21\n",
      "Energy_SolvH    =               -351.07\n",
      "Energy_vdwclash =               6.28\n",
      "energy_torsion  =               7.33\n",
      "backbone_vdwclash=              65.17\n",
      "Entropy_sidec   =               146.42\n",
      "Entropy_mainc   =               340.27\n",
      "water bonds     =               0.00\n",
      "helix dipole    =               0.00\n",
      "loop_entropy    =               0.00\n",
      "cis_bond        =               2.25\n",
      "disulfide       =               0.00\n",
      "kn electrostatic=               0.00\n",
      "partial covalent interactions = 0.00\n",
      "Energy_Ionisation =             1.77\n",
      "Entropy Complex =               0.00\n",
      "-----------------------------------------------------------\n",
      "Total          = \t\t\t\t  -9.41\n",
      "\n"
     ]
    },
    {
     "name": "stdout",
     "output_type": "stream",
     "text": [
      "\n",
      "BackHbond       =               -178.70\n",
      "SideHbond       =               -76.61\n",
      "Energy_VdW      =               -267.80\n",
      "Electro         =               -13.75\n",
      "Energy_SolvP    =               374.21\n",
      "Energy_SolvH    =               -351.07\n",
      "Energy_vdwclash =               6.28\n",
      "energy_torsion  =               7.33\n",
      "backbone_vdwclash=              65.17\n",
      "Entropy_sidec   =               146.42\n",
      "Entropy_mainc   =               340.27\n",
      "water bonds     =               0.00\n",
      "helix dipole    =               0.00\n",
      "loop_entropy    =               0.00\n",
      "cis_bond        =               2.25\n",
      "disulfide       =               0.00\n",
      "kn electrostatic=               0.00\n",
      "partial covalent interactions = 0.00\n",
      "Energy_Ionisation =             1.77\n",
      "Entropy Complex =               0.00\n",
      "-----------------------------------------------------------\n",
      "Total          = \t\t\t\t  -9.41\n",
      "\n",
      "Starting BuildModel\n",
      "Reading GA126Q;\n",
      "Residue to Mutate GLYA126 has residue index 125\n",
      "Mutating residue = GLYA126 into GLN\n"
     ]
    },
    {
     "name": "stdout",
     "output_type": "stream",
     "text": [
      "Your file run OK\n",
      "End time of FoldX: Fri Jan 19 09:18:57 2024\n",
      "Total time spend: 4.86 seconds.\n",
      "validated file \"3ned_Repair_1.pdb\" => successfully finished\n",
      "Cleaning BuildModel...DONE\n"
     ]
    }
   ],
   "source": [
    "solver.solve(max_iter=3)"
   ]
  },
  {
   "cell_type": "code",
   "execution_count": 8,
   "metadata": {},
   "outputs": [
    {
     "name": "stdout",
     "output_type": "stream",
     "text": [
      "All y values: [array([[9.41639]]), array([[8.99477]]), array([[8.42085]]), array([[3.16703]])]\n",
      "best stability: [9.41639]\n",
      "Associated sequence: EEDNMAIIKEFMRFKTHMEGSVNGHEFEIEGEGEGRPYEGTQTAKLKVTKGGPLPFAWDILSPQFSKAYVKHPADIPDYLKLSFPEGFKWERVMNFEDGGVVTVTQDSSLQDGEFIYKVKLRGTNFPSDGPVMQKKTMGWEACSERMYPEDGALKGEMKMRLKLKDGGHYDAEVKTTYKAKKPVQLPGAYNTNTKLDITSHNEDYTIVEQYERNEGRHSTGGMDELYK\n"
     ]
    }
   ],
   "source": [
    "print(f\"All y values: {solver.history['y']}\")\n",
    "print(f\"best stability: {solver.get_best_performance()}\")\n",
    "print(f\"Associated sequence: {''.join(solver.get_best_solution().flatten())}\")"
   ]
  }
 ],
 "metadata": {
  "kernelspec": {
   "display_name": "poli-dev",
   "language": "python",
   "name": "python3"
  },
  "language_info": {
   "codemirror_mode": {
    "name": "ipython",
    "version": 3
   },
   "file_extension": ".py",
   "mimetype": "text/x-python",
   "name": "python",
   "nbconvert_exporter": "python",
   "pygments_lexer": "ipython3",
   "version": "3.9.18"
  }
 },
 "nbformat": 4,
 "nbformat_minor": 2
}