{
 "cells": [
  {
   "cell_type": "code",
   "execution_count": 1,
   "metadata": {},
   "outputs": [
    {
     "data": {
      "text/plain": [
       "['aloha',\n",
       " 'dockstring',\n",
       " 'drd3_docking',\n",
       " 'foldx_rfp_lambo',\n",
       " 'foldx_sasa',\n",
       " 'foldx_stability',\n",
       " 'foldx_stability_and_sasa',\n",
       " 'gfp_cbas',\n",
       " 'gfp_select',\n",
       " 'penalized_logp_lambo',\n",
       " 'rasp',\n",
       " 'rdkit_logp',\n",
       " 'rdkit_qed',\n",
       " 'rfp_foldx_stability_and_sasa',\n",
       " 'sa_tdc',\n",
       " 'super_mario_bros',\n",
       " 'toy_continuous_problem',\n",
       " 'white_noise']"
      ]
     },
     "execution_count": 1,
     "metadata": {},
     "output_type": "execute_result"
    }
   ],
   "source": [
    "from poli.core.registry import get_problems\n",
    "get_problems(only_available=False)"
   ]
  },
  {
   "cell_type": "code",
   "execution_count": 2,
   "metadata": {},
   "outputs": [],
   "source": [
    "problem_name = \"foldx_stability\""
   ]
  },
  {
   "cell_type": "code",
   "execution_count": 3,
   "metadata": {},
   "outputs": [
    {
     "name": "stdout",
     "output_type": "stream",
     "text": [
      "3ned_Repair.pdb                    optimizing_protein_stability.ipynb\r\n"
     ]
    }
   ],
   "source": [
    "!ls"
   ]
  },
  {
   "cell_type": "code",
   "execution_count": 4,
   "metadata": {},
   "outputs": [
    {
     "data": {
      "text/plain": [
       "True"
      ]
     },
     "execution_count": 4,
     "metadata": {},
     "output_type": "execute_result"
    }
   ],
   "source": [
    "from pathlib import Path\n",
    "\n",
    "wildtype_pdb_path = Path(\"./3ned_Repair.pdb\").resolve()\n",
    "wildtype_pdb_path.exists()  # Should say True"
   ]
  },
  {
   "cell_type": "code",
   "execution_count": 5,
   "metadata": {
    "tags": [
     "hide-output"
    ]
   },
   "outputs": [
    {
     "name": "stdout",
     "output_type": "stream",
     "text": [
      "poli 🧪: creating an isolated black box function.\n",
      "poli 🧪: starting the isolated objective process.\n"
     ]
    }
   ],
   "source": [
    "from poli import objective_factory\n",
    "\n",
    "f, x0, y0 = objective_factory.create(\n",
    "    name=\"foldx_stability\",\n",
    "    wildtype_pdb_path=wildtype_pdb_path\n",
    ")"
   ]
  },
  {
   "cell_type": "code",
   "execution_count": 6,
   "metadata": {},
   "outputs": [
    {
     "name": "stderr",
     "output_type": "stream",
     "text": [
      "/Users/sjt972/anaconda3/envs/poli-docs2/lib/python3.9/site-packages/tqdm/auto.py:21: TqdmWarning: IProgress not found. Please update jupyter and ipywidgets. See https://ipywidgets.readthedocs.io/en/stable/user_install.html\n",
      "  from .autonotebook import tqdm as notebook_tqdm\n"
     ]
    }
   ],
   "source": [
    "from poli_baselines.solvers.simple.random_mutation import RandomMutation\n",
    "solver = RandomMutation(\n",
    "    black_box=f,\n",
    "    x0=x0,\n",
    "    y0=y0,\n",
    ")"
   ]
  },
  {
   "cell_type": "code",
   "execution_count": 7,
   "metadata": {
    "tags": [
     "hide-output"
    ]
   },
   "outputs": [],
   "source": [
    "solver.solve(max_iter=3)"
   ]
  },
  {
   "cell_type": "code",
   "execution_count": 8,
   "metadata": {},
   "outputs": [
    {
     "name": "stdout",
     "output_type": "stream",
     "text": [
      "All y values: [array([[9.41639]]), array([[5.56267]]), array([[0.846902]]), array([[9.39441]])]\n",
      "best stability: [9.41639]\n",
      "Associated sequence: EEDNMAIIKEFMRFKTHMEGSVNGHEFEIEGEGEGRPYEGTQTAKLKVTKGGPLPFAWDILSPQFSKAYVKHPADIPDYLKLSFPEGFKWERVMNFEDGGVVTVTQDSSLQDGEFIYKVKLRGTNFPSDGPVMQKKTMGWEACSERMYPEDGALKGEMKMRLKLKDGGHYDAEVKTTYKAKKPVQLPGAYNTNTKLDITSHNEDYTIVEQYERNEGRHSTGGMDELYK\n"
     ]
    }
   ],
   "source": [
    "print(f\"All y values: {solver.history['y']}\")\n",
    "print(f\"best stability: {solver.get_best_performance()}\")\n",
    "print(f\"Associated sequence: {''.join(solver.get_best_solution().flatten())}\")"
   ]
  }
 ],
 "metadata": {
  "kernelspec": {
   "display_name": "poli-dev",
   "language": "python",
   "name": "python3"
  },
  "language_info": {
   "codemirror_mode": {
    "name": "ipython",
    "version": 3
   },
   "file_extension": ".py",
   "mimetype": "text/x-python",
   "name": "python",
   "nbconvert_exporter": "python",
   "pygments_lexer": "ipython3",
   "version": "3.9.18"
  }
 },
 "nbformat": 4,
 "nbformat_minor": 2
}