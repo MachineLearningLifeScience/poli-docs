{
 "cells": [
  {
   "cell_type": "code",
   "execution_count": 1,
   "metadata": {},
   "outputs": [
    {
     "name": "stdout",
     "output_type": "stream",
     "text": [
      "['aloha', 'foldx_rfp_lambo', 'foldx_sasa', 'foldx_stability', 'foldx_stability_and_sasa', 'gfp_select', 'penalized_logp_lambo', 'rdkit_logp', 'rdkit_qed', 'toy_continuous_problem', 'white_noise']\n"
     ]
    }
   ],
   "source": [
    "from poli import get_problems\n",
    "print(get_problems(only_available=True))"
   ]
  },
  {
   "cell_type": "code",
   "execution_count": 2,
   "metadata": {},
   "outputs": [
    {
     "name": "stdout",
     "output_type": "stream",
     "text": [
      "['aloha', 'dockstring', 'drd3_docking', 'foldx_rfp_lambo', 'foldx_sasa', 'foldx_stability', 'foldx_stability_and_sasa', 'gfp_cbas', 'gfp_select', 'penalized_logp_lambo', 'rasp', 'rdkit_logp', 'rdkit_qed', 'sa_tdc', 'super_mario_bros', 'toy_continuous_problem', 'white_noise']\n"
     ]
    }
   ],
   "source": [
    "print(get_problems(only_available=False))"
   ]
  },
  {
   "cell_type": "code",
   "execution_count": 3,
   "metadata": {},
   "outputs": [
    {
     "name": "stdout",
     "output_type": "stream",
     "text": [
      "poli 🧪: Creating the objective from the repository.\n"
     ]
    }
   ],
   "source": [
    "from poli import objective_factory\n",
    "\n",
    "problem_info, f, x0, y0, _ = objective_factory.create(name=\"white_noise\")"
   ]
  },
  {
   "cell_type": "code",
   "execution_count": 4,
   "metadata": {},
   "outputs": [
    {
     "name": "stdout",
     "output_type": "stream",
     "text": [
      "x0: [['1' '2' '3']]\n",
      "y0: [[0.57433265]]\n"
     ]
    }
   ],
   "source": [
    "from poli_baselines.solvers.simple.random_mutation import RandomMutation\n",
    "\n",
    "solver = RandomMutation(\n",
    "    black_box=f,\n",
    "    x0=x0,\n",
    "    y0=y0,\n",
    ")\n",
    "\n",
    "print(f\"x0: {x0}\")\n",
    "print(f\"y0: {y0}\")"
   ]
  },
  {
   "cell_type": "code",
   "execution_count": 5,
   "metadata": {},
   "outputs": [
    {
     "data": {
      "text/plain": [
       "array([['1', '4', '3']], dtype='<U1')"
      ]
     },
     "execution_count": 5,
     "metadata": {},
     "output_type": "execute_result"
    }
   ],
   "source": [
    "solver.next_candidate()"
   ]
  },
  {
   "cell_type": "code",
   "execution_count": 6,
   "metadata": {},
   "outputs": [
    {
     "data": {
      "text/plain": [
       "['0', '1', '2', '3', '4', '5', '6', '7', '8', '9']"
      ]
     },
     "execution_count": 6,
     "metadata": {},
     "output_type": "execute_result"
    }
   ],
   "source": [
    "solver.alphabet  # It's the same as f.info.alphabet"
   ]
  },
  {
   "cell_type": "code",
   "execution_count": 7,
   "metadata": {},
   "outputs": [],
   "source": [
    "solver.solve(max_iter=100)"
   ]
  },
  {
   "cell_type": "code",
   "execution_count": 8,
   "metadata": {},
   "outputs": [
    {
     "name": "stdout",
     "output_type": "stream",
     "text": [
      "[['6' '2' '6']]\n"
     ]
    }
   ],
   "source": [
    "print(solver.get_best_solution())"
   ]
  }
 ],
 "metadata": {
  "kernelspec": {
   "display_name": "Python 3 (ipykernel)",
   "language": "python",
   "name": "python3"
  },
  "language_info": {
   "codemirror_mode": {
    "name": "ipython",
    "version": 3
   },
   "file_extension": ".py",
   "mimetype": "text/x-python",
   "name": "python",
   "nbconvert_exporter": "python",
   "pygments_lexer": "ipython3",
   "version": "3.9.18"
  }
 },
 "nbformat": 4,
 "nbformat_minor": 4
}