{
 "cells": [
  {
   "cell_type": "code",
   "execution_count": 1,
   "metadata": {
    "tags": [
     "remove-output"
    ]
   },
   "outputs": [
    {
     "data": {
      "text/plain": [
       "PosixPath('/Users/sjt972/Projects/poli-docs/docs/poli-docs/understanding_foldx/01-single-mutation-using-foldx/tmp/rotabase.txt')"
      ]
     },
     "execution_count": 1,
     "metadata": {},
     "output_type": "execute_result"
    }
   ],
   "source": [
    "from pathlib import Path\n",
    "import shutil\n",
    "\n",
    "# The path to the folder where the FoldX files are located\n",
    "PATH_TO_FOLDX_FILES = Path().home() / \"foldx\"\n",
    "\n",
    "# The path to where this notebook is located\n",
    "THIS_DIR = Path().resolve()\n",
    "\n",
    "# Creating a working directory for foldx's files\n",
    "WORKING_DIR = THIS_DIR / \"tmp\"\n",
    "WORKING_DIR.mkdir(exist_ok=True)\n",
    "\n",
    "# Copying the rotabase.txt file to the working directory\n",
    "shutil.copyfile(PATH_TO_FOLDX_FILES / \"rotabase.txt\", WORKING_DIR / \"rotabase.txt\")\n"
   ]
  },
  {
   "cell_type": "code",
   "execution_count": 2,
   "metadata": {
    "tags": [
     "remove-output"
    ]
   },
   "outputs": [
    {
     "data": {
      "text/plain": [
       "(PosixPath('/Users/sjt972/Projects/poli-docs/docs/poli-docs/understanding_foldx/01-single-mutation-using-foldx/tmp/101m.pdb'),\n",
       " <http.client.HTTPMessage at 0x108184b20>)"
      ]
     },
     "execution_count": 2,
     "metadata": {},
     "output_type": "execute_result"
    }
   ],
   "source": [
    "import urllib.request\n",
    "\n",
    "# Downloading the PDB file\n",
    "web_address = \"https://files.rcsb.org/view/101M.pdb\"\n",
    "urllib.request.urlretrieve(\n",
    "    web_address,\n",
    "    WORKING_DIR / \"101m.pdb\"\n",
    ")"
   ]
  },
  {
   "cell_type": "code",
   "execution_count": 3,
   "metadata": {},
   "outputs": [],
   "source": [
    "# In case you choose a different pdb, you can change the name here\n",
    "pdb_name = \"101m\""
   ]
  },
  {
   "cell_type": "code",
   "execution_count": 4,
   "metadata": {
    "tags": [
     "hide-output"
    ]
   },
   "outputs": [],
   "source": [
    "import subprocess\n",
    "\n",
    "# Building the command for repairing the wildtype PDB\n",
    "if not (WORKING_DIR / \"101m_Repair.pdb\").exists():\n",
    "    repair_cmd = [\n",
    "        str(PATH_TO_FOLDX_FILES / \"foldx\"),\n",
    "        \"--pdb\",\n",
    "        \"101m.pdb\",\n",
    "        \"--command\",\n",
    "        \"RepairPDB\",\n",
    "        \"--water\",\n",
    "        \"-CRYSTAL\",\n",
    "        \"--pH\",\n",
    "        \"7.0\",\n",
    "    ]\n",
    "\n",
    "    # Running the repair command\n",
    "    subprocess.run(repair_cmd, cwd=WORKING_DIR)"
   ]
  },
  {
   "cell_type": "code",
   "execution_count": 5,
   "metadata": {
    "tags": [
     "remove-output"
    ]
   },
   "outputs": [
    {
     "name": "stderr",
     "output_type": "stream",
     "text": [
      "/Users/sjt972/anaconda3/envs/poli-docs-310/lib/python3.10/site-packages/Bio/PDB/Atom.py:241: PDBConstructionWarning: Used element 'N' for Atom (name=N) with given element ''\n",
      "  warnings.warn(msg, PDBConstructionWarning)\n",
      "/Users/sjt972/anaconda3/envs/poli-docs-310/lib/python3.10/site-packages/Bio/PDB/Atom.py:241: PDBConstructionWarning: Used element 'C' for Atom (name=CA) with given element ''\n",
      "  warnings.warn(msg, PDBConstructionWarning)\n",
      "/Users/sjt972/anaconda3/envs/poli-docs-310/lib/python3.10/site-packages/Bio/PDB/Atom.py:241: PDBConstructionWarning: Used element 'C' for Atom (name=C) with given element ''\n",
      "  warnings.warn(msg, PDBConstructionWarning)\n",
      "/Users/sjt972/anaconda3/envs/poli-docs-310/lib/python3.10/site-packages/Bio/PDB/Atom.py:241: PDBConstructionWarning: Used element 'O' for Atom (name=O) with given element ''\n",
      "  warnings.warn(msg, PDBConstructionWarning)\n",
      "/Users/sjt972/anaconda3/envs/poli-docs-310/lib/python3.10/site-packages/Bio/PDB/Atom.py:241: PDBConstructionWarning: Used element 'C' for Atom (name=CB) with given element ''\n",
      "  warnings.warn(msg, PDBConstructionWarning)\n",
      "/Users/sjt972/anaconda3/envs/poli-docs-310/lib/python3.10/site-packages/Bio/PDB/Atom.py:241: PDBConstructionWarning: Used element 'C' for Atom (name=CG) with given element ''\n",
      "  warnings.warn(msg, PDBConstructionWarning)\n",
      "/Users/sjt972/anaconda3/envs/poli-docs-310/lib/python3.10/site-packages/Bio/PDB/Atom.py:241: PDBConstructionWarning: Used element 'S' for Atom (name=SD) with given element ''\n",
      "  warnings.warn(msg, PDBConstructionWarning)\n",
      "/Users/sjt972/anaconda3/envs/poli-docs-310/lib/python3.10/site-packages/Bio/PDB/Atom.py:241: PDBConstructionWarning: Used element 'C' for Atom (name=CE) with given element ''\n",
      "  warnings.warn(msg, PDBConstructionWarning)\n",
      "/Users/sjt972/anaconda3/envs/poli-docs-310/lib/python3.10/site-packages/Bio/PDB/Atom.py:241: PDBConstructionWarning: Used element 'C' for Atom (name=CG1) with given element ''\n",
      "  warnings.warn(msg, PDBConstructionWarning)\n",
      "/Users/sjt972/anaconda3/envs/poli-docs-310/lib/python3.10/site-packages/Bio/PDB/Atom.py:241: PDBConstructionWarning: Used element 'C' for Atom (name=CG2) with given element ''\n",
      "  warnings.warn(msg, PDBConstructionWarning)\n",
      "/Users/sjt972/anaconda3/envs/poli-docs-310/lib/python3.10/site-packages/Bio/PDB/Atom.py:241: PDBConstructionWarning: Used element 'C' for Atom (name=CD1) with given element ''\n",
      "  warnings.warn(msg, PDBConstructionWarning)\n",
      "/Users/sjt972/anaconda3/envs/poli-docs-310/lib/python3.10/site-packages/Bio/PDB/Atom.py:241: PDBConstructionWarning: Used element 'C' for Atom (name=CD2) with given element ''\n",
      "  warnings.warn(msg, PDBConstructionWarning)\n",
      "/Users/sjt972/anaconda3/envs/poli-docs-310/lib/python3.10/site-packages/Bio/PDB/Atom.py:241: PDBConstructionWarning: Used element 'O' for Atom (name=OG) with given element ''\n",
      "  warnings.warn(msg, PDBConstructionWarning)\n",
      "/Users/sjt972/anaconda3/envs/poli-docs-310/lib/python3.10/site-packages/Bio/PDB/Atom.py:241: PDBConstructionWarning: Used element 'C' for Atom (name=CD) with given element ''\n",
      "  warnings.warn(msg, PDBConstructionWarning)\n",
      "/Users/sjt972/anaconda3/envs/poli-docs-310/lib/python3.10/site-packages/Bio/PDB/Atom.py:241: PDBConstructionWarning: Used element 'O' for Atom (name=OE1) with given element ''\n",
      "  warnings.warn(msg, PDBConstructionWarning)\n",
      "/Users/sjt972/anaconda3/envs/poli-docs-310/lib/python3.10/site-packages/Bio/PDB/Atom.py:241: PDBConstructionWarning: Used element 'O' for Atom (name=OE2) with given element ''\n",
      "  warnings.warn(msg, PDBConstructionWarning)\n",
      "/Users/sjt972/anaconda3/envs/poli-docs-310/lib/python3.10/site-packages/Bio/PDB/Atom.py:241: PDBConstructionWarning: Used element 'N' for Atom (name=NE1) with given element ''\n",
      "  warnings.warn(msg, PDBConstructionWarning)\n",
      "/Users/sjt972/anaconda3/envs/poli-docs-310/lib/python3.10/site-packages/Bio/PDB/Atom.py:241: PDBConstructionWarning: Used element 'C' for Atom (name=CE2) with given element ''\n",
      "  warnings.warn(msg, PDBConstructionWarning)\n",
      "/Users/sjt972/anaconda3/envs/poli-docs-310/lib/python3.10/site-packages/Bio/PDB/Atom.py:241: PDBConstructionWarning: Used element 'C' for Atom (name=CE3) with given element ''\n",
      "  warnings.warn(msg, PDBConstructionWarning)\n",
      "/Users/sjt972/anaconda3/envs/poli-docs-310/lib/python3.10/site-packages/Bio/PDB/Atom.py:241: PDBConstructionWarning: Used element 'C' for Atom (name=CZ2) with given element ''\n",
      "  warnings.warn(msg, PDBConstructionWarning)\n",
      "/Users/sjt972/anaconda3/envs/poli-docs-310/lib/python3.10/site-packages/Bio/PDB/Atom.py:241: PDBConstructionWarning: Used element 'C' for Atom (name=CZ3) with given element ''\n",
      "  warnings.warn(msg, PDBConstructionWarning)\n",
      "/Users/sjt972/anaconda3/envs/poli-docs-310/lib/python3.10/site-packages/Bio/PDB/Atom.py:241: PDBConstructionWarning: Used element 'C' for Atom (name=CH2) with given element ''\n",
      "  warnings.warn(msg, PDBConstructionWarning)\n",
      "/Users/sjt972/anaconda3/envs/poli-docs-310/lib/python3.10/site-packages/Bio/PDB/Atom.py:241: PDBConstructionWarning: Used element 'N' for Atom (name=NE2) with given element ''\n",
      "  warnings.warn(msg, PDBConstructionWarning)\n",
      "/Users/sjt972/anaconda3/envs/poli-docs-310/lib/python3.10/site-packages/Bio/PDB/Atom.py:241: PDBConstructionWarning: Used element 'N' for Atom (name=ND1) with given element ''\n",
      "  warnings.warn(msg, PDBConstructionWarning)\n",
      "/Users/sjt972/anaconda3/envs/poli-docs-310/lib/python3.10/site-packages/Bio/PDB/Atom.py:241: PDBConstructionWarning: Used element 'C' for Atom (name=CE1) with given element ''\n",
      "  warnings.warn(msg, PDBConstructionWarning)\n",
      "/Users/sjt972/anaconda3/envs/poli-docs-310/lib/python3.10/site-packages/Bio/PDB/Atom.py:241: PDBConstructionWarning: Used element 'N' for Atom (name=NZ) with given element ''\n",
      "  warnings.warn(msg, PDBConstructionWarning)\n",
      "/Users/sjt972/anaconda3/envs/poli-docs-310/lib/python3.10/site-packages/Bio/PDB/Atom.py:241: PDBConstructionWarning: Used element 'O' for Atom (name=OD1) with given element ''\n",
      "  warnings.warn(msg, PDBConstructionWarning)\n",
      "/Users/sjt972/anaconda3/envs/poli-docs-310/lib/python3.10/site-packages/Bio/PDB/Atom.py:241: PDBConstructionWarning: Used element 'O' for Atom (name=OD2) with given element ''\n",
      "  warnings.warn(msg, PDBConstructionWarning)\n",
      "/Users/sjt972/anaconda3/envs/poli-docs-310/lib/python3.10/site-packages/Bio/PDB/Atom.py:241: PDBConstructionWarning: Used element 'N' for Atom (name=NE) with given element ''\n",
      "  warnings.warn(msg, PDBConstructionWarning)\n",
      "/Users/sjt972/anaconda3/envs/poli-docs-310/lib/python3.10/site-packages/Bio/PDB/Atom.py:241: PDBConstructionWarning: Used element 'C' for Atom (name=CZ) with given element ''\n",
      "  warnings.warn(msg, PDBConstructionWarning)\n",
      "/Users/sjt972/anaconda3/envs/poli-docs-310/lib/python3.10/site-packages/Bio/PDB/Atom.py:241: PDBConstructionWarning: Used element 'N' for Atom (name=NH1) with given element ''\n",
      "  warnings.warn(msg, PDBConstructionWarning)\n",
      "/Users/sjt972/anaconda3/envs/poli-docs-310/lib/python3.10/site-packages/Bio/PDB/Atom.py:241: PDBConstructionWarning: Used element 'N' for Atom (name=NH2) with given element ''\n",
      "  warnings.warn(msg, PDBConstructionWarning)\n",
      "/Users/sjt972/anaconda3/envs/poli-docs-310/lib/python3.10/site-packages/Bio/PDB/Atom.py:241: PDBConstructionWarning: Used element 'O' for Atom (name=OG1) with given element ''\n",
      "  warnings.warn(msg, PDBConstructionWarning)\n",
      "/Users/sjt972/anaconda3/envs/poli-docs-310/lib/python3.10/site-packages/Bio/PDB/Atom.py:241: PDBConstructionWarning: Used element 'O' for Atom (name=OH) with given element ''\n",
      "  warnings.warn(msg, PDBConstructionWarning)\n",
      "/Users/sjt972/anaconda3/envs/poli-docs-310/lib/python3.10/site-packages/Bio/PDB/Atom.py:241: PDBConstructionWarning: Used element 'N' for Atom (name=ND2) with given element ''\n",
      "  warnings.warn(msg, PDBConstructionWarning)\n",
      "/Users/sjt972/anaconda3/envs/poli-docs-310/lib/python3.10/site-packages/Bio/PDB/Atom.py:241: PDBConstructionWarning: Used element 'O' for Atom (name=OXT) with given element ''\n",
      "  warnings.warn(msg, PDBConstructionWarning)\n"
     ]
    }
   ],
   "source": [
    "from Bio import PDB\n",
    "\n",
    "parser = PDB.PDBParser()\n",
    "structure = parser.get_structure(\"pdb\", WORKING_DIR / \"101m_Repair.pdb\")\n",
    "residues = list(structure.get_residues())"
   ]
  },
  {
   "cell_type": "code",
   "execution_count": 6,
   "metadata": {},
   "outputs": [
    {
     "name": "stdout",
     "output_type": "stream",
     "text": [
      "Residue's name: MET\n",
      "The sequence index: 0\n",
      "Chain id: A\n"
     ]
    }
   ],
   "source": [
    "first_residue = residues[0]\n",
    "print(f\"Residue's name: {first_residue.resname}\")\n",
    "print(f\"The sequence index: {first_residue.id[1]}\")\n",
    "print(f\"Chain id: {first_residue.get_parent().id}\")"
   ]
  },
  {
   "cell_type": "code",
   "execution_count": 7,
   "metadata": {},
   "outputs": [
    {
     "name": "stdout",
     "output_type": "stream",
     "text": [
      "Residue as one letter: M\n"
     ]
    }
   ],
   "source": [
    "from Bio.SeqUtils import seq1\n",
    "\n",
    "print(f\"Residue as one letter: {seq1(first_residue.resname)}\")"
   ]
  },
  {
   "cell_type": "code",
   "execution_count": 8,
   "metadata": {},
   "outputs": [],
   "source": [
    "mutation_list = [\n",
    "    {\n",
    "        \"residue_idx\": 0,\n",
    "        \"to\": \"G\",\n",
    "    }\n",
    "]"
   ]
  },
  {
   "cell_type": "code",
   "execution_count": 9,
   "metadata": {},
   "outputs": [],
   "source": [
    "with open(WORKING_DIR / \"individual_list.txt\", \"w\") as f:\n",
    "    for mutation in mutation_list:\n",
    "        # We get the initial residue from the PDB file, this is a Residue type.\n",
    "        # You can check the documentation of these inside Biopython.\n",
    "        residue = residues[mutation[\"residue_idx\"]]\n",
    "\n",
    "        # The original residue lies in residue.resname. This is the 3-letter code.\n",
    "        # To tranform it into the 1-letter code, we use seq1 from Bio.SeqUtils.\n",
    "        original_residue = seq1(residue.resname)\n",
    "\n",
    "        # We can read the position as the second position of the ID:\n",
    "        # residue.id = (' ', position_in_chain, ' ')\n",
    "        position = residue.id[1]\n",
    "\n",
    "        # The chain ID can be read from the parent of the residue\n",
    "        chain_id = residue.get_parent().id\n",
    "\n",
    "        # The line we need to write, then, is:\n",
    "        f.write(f\"{original_residue}{chain_id}{position}{mutation['to']};\" + \"\\n\")"
   ]
  },
  {
   "cell_type": "code",
   "execution_count": 10,
   "metadata": {},
   "outputs": [],
   "source": [
    "foldx_cmd = [\n",
    "    str(PATH_TO_FOLDX_FILES / \"foldx\"),\n",
    "    \"--pdb\",\n",
    "    \"101m_Repair.pdb\",\n",
    "    \"--command\",\n",
    "    \"BuildModel\",\n",
    "    \"--mutant-file\",\n",
    "    str(WORKING_DIR / \"individual_list.txt\"),\n",
    "    \"--water\",\n",
    "    \"-CRYSTAL\",\n",
    "    \"--pH\",\n",
    "    \"7.0\",\n",
    "]"
   ]
  },
  {
   "cell_type": "code",
   "execution_count": 11,
   "metadata": {
    "tags": [
     "hide-output"
    ]
   },
   "outputs": [
    {
     "name": "stdout",
     "output_type": "stream",
     "text": [
      "   ********************************************\n",
      "   ***                                      ***\n",
      "   ***             FoldX 5 (c)            ***\n",
      "   ***                                      ***\n",
      "   ***     code by the FoldX Consortium     ***\n",
      "   ***                                      ***\n",
      "   ***     Jesper Borg, Frederic Rousseau   ***\n",
      "   ***    Joost Schymkowitz, Luis Serrano   ***\n",
      "   ***    Peter Vanhee, Erik Verschueren    ***\n",
      "   ***     Lies Baeten, Javier Delgado      ***\n",
      "   ***       and Francois Stricher          ***\n",
      "   *** and any other of the 9! permutations ***\n",
      "   ***   based on an original concept by    ***\n",
      "   ***   Raphael Guerois and Luis Serrano   ***\n",
      "   ********************************************\n",
      "\n",
      "1 models read: 101m_Repair.pdb\n",
      "1 models read: 101m_Repair.pdb\n"
     ]
    },
    {
     "name": "stdout",
     "output_type": "stream",
     "text": [
      "\n",
      "BackHbond       =               -142.58\n",
      "SideHbond       =               -48.61\n",
      "Energy_VdW      =               -179.63\n",
      "Electro         =               -8.33\n",
      "Energy_SolvP    =               245.28\n",
      "Energy_SolvH    =               -238.89\n",
      "Energy_vdwclash =               3.42\n",
      "energy_torsion  =               6.70\n",
      "backbone_vdwclash=              158.16\n",
      "Entropy_sidec   =               105.87\n",
      "Entropy_mainc   =               231.69\n",
      "water bonds     =               0.00\n",
      "helix dipole    =               -8.75\n",
      "loop_entropy    =               0.00\n",
      "cis_bond        =               0.00\n",
      "disulfide       =               0.00\n",
      "kn electrostatic=               0.00\n",
      "partial covalent interactions = 0.00\n",
      "Energy_Ionisation =             1.56\n",
      "Entropy Complex =               0.00\n",
      "-----------------------------------------------------------\n",
      "Total          = \t\t\t\t  -32.28\n",
      "\n"
     ]
    },
    {
     "name": "stdout",
     "output_type": "stream",
     "text": [
      "\n",
      "BackHbond       =               -142.58\n",
      "SideHbond       =               -48.61\n",
      "Energy_VdW      =               -179.63\n",
      "Electro         =               -8.33\n",
      "Energy_SolvP    =               245.28\n",
      "Energy_SolvH    =               -238.89\n",
      "Energy_vdwclash =               3.42\n",
      "energy_torsion  =               6.70\n",
      "backbone_vdwclash=              158.16\n",
      "Entropy_sidec   =               105.87\n",
      "Entropy_mainc   =               231.69\n",
      "water bonds     =               0.00\n",
      "helix dipole    =               -8.75\n",
      "loop_entropy    =               0.00\n",
      "cis_bond        =               0.00\n",
      "disulfide       =               0.00\n",
      "kn electrostatic=               0.00\n",
      "partial covalent interactions = 0.00\n",
      "Energy_Ionisation =             1.56\n",
      "Entropy Complex =               0.00\n",
      "-----------------------------------------------------------\n",
      "Total          = \t\t\t\t  -32.28\n",
      "\n",
      "Starting BuildModel\n",
      "Reading MA0G;\n",
      "Residue to Mutate META0 has residue index 0\n",
      "Mutating residue = META0 into GLY\n"
     ]
    },
    {
     "name": "stdout",
     "output_type": "stream",
     "text": [
      "Your file run OK\n",
      "End time of FoldX: Thu Nov 28 16:54:12 2024\n",
      "Total time spend: 18.86 seconds.\n",
      "validated file \"101m_Repair_1.pdb\" => successfully finished\n",
      "Cleaning BuildModel...DONE\n"
     ]
    },
    {
     "data": {
      "text/plain": [
       "CompletedProcess(args=['/Users/sjt972/foldx/foldx', '--pdb', '101m_Repair.pdb', '--command', 'BuildModel', '--mutant-file', '/Users/sjt972/Projects/poli-docs/docs/poli-docs/understanding_foldx/01-single-mutation-using-foldx/tmp/individual_list.txt', '--water', '-CRYSTAL', '--pH', '7.0'], returncode=0)"
      ]
     },
     "execution_count": 11,
     "metadata": {},
     "output_type": "execute_result"
    }
   ],
   "source": [
    "subprocess.run(foldx_cmd, cwd=WORKING_DIR)"
   ]
  },
  {
   "cell_type": "code",
   "execution_count": 12,
   "metadata": {},
   "outputs": [],
   "source": [
    "# The details of these can be found in:\n",
    "# https://foldxsuite.crg.eu/command/BuildModel\n",
    "\n",
    "column_names = [\n",
    "    \"Pdb\",\n",
    "    \"total energy\",\n",
    "    \"Backbone Hbond\",\n",
    "    \"Sidechain Hbond\",\n",
    "    \"Van der Waals\",\n",
    "    \"Electrostatics\",\n",
    "    \"Solvation Polar\",\n",
    "    \"Solvation Hydrophobic\",\n",
    "    \"Van der Waals clashes\",\n",
    "    \"entropy sidechain\",\n",
    "    \"entropy mainchain\",\n",
    "    \"sloop_entropy\", \n",
    "    \"mloop_entropy\",\n",
    "    \"cis_bond\",\n",
    "    \"torsional clash\",\n",
    "    \"backbone clash\",\n",
    "    \"helix dipole\",\n",
    "    \"water bridge\",\n",
    "    \"disulfide\",\n",
    "    \"electrostatic kon\",\n",
    "    \"partial covalent bonds\",\n",
    "    \"energy Ionisation\",\n",
    "    \"Entropy Complex\"\n",
    "]"
   ]
  },
  {
   "cell_type": "code",
   "execution_count": 13,
   "metadata": {},
   "outputs": [],
   "source": [
    "import pandas as pd\n",
    "\n",
    "with open(WORKING_DIR / f\"Raw_{pdb_name}_Repair.fxout\") as f:\n",
    "    lines = f.readlines()\n",
    "\n",
    "# The important data is in the last two lines\n",
    "df = pd.DataFrame(\n",
    "    [line.split() for line in lines[-2:]],\n",
    "    columns=column_names\n",
    ")"
   ]
  },
  {
   "cell_type": "code",
   "execution_count": 14,
   "metadata": {},
   "outputs": [
    {
     "data": {
      "text/html": [
       "<div>\n",
       "<style scoped>\n",
       "    .dataframe tbody tr th:only-of-type {\n",
       "        vertical-align: middle;\n",
       "    }\n",
       "\n",
       "    .dataframe tbody tr th {\n",
       "        vertical-align: top;\n",
       "    }\n",
       "\n",
       "    .dataframe thead th {\n",
       "        text-align: right;\n",
       "    }\n",
       "</style>\n",
       "<table border=\"1\" class=\"dataframe\">\n",
       "  <thead>\n",
       "    <tr style=\"text-align: right;\">\n",
       "      <th></th>\n",
       "      <th>Pdb</th>\n",
       "      <th>total energy</th>\n",
       "    </tr>\n",
       "  </thead>\n",
       "  <tbody>\n",
       "    <tr>\n",
       "      <th>0</th>\n",
       "      <td>101m_Repair_1.pdb</td>\n",
       "      <td>-31.7457</td>\n",
       "    </tr>\n",
       "    <tr>\n",
       "      <th>1</th>\n",
       "      <td>WT_101m_Repair_1.pdb</td>\n",
       "      <td>-34.3436</td>\n",
       "    </tr>\n",
       "  </tbody>\n",
       "</table>\n",
       "</div>"
      ],
      "text/plain": [
       "                    Pdb total energy\n",
       "0     101m_Repair_1.pdb     -31.7457\n",
       "1  WT_101m_Repair_1.pdb     -34.3436"
      ]
     },
     "execution_count": 14,
     "metadata": {},
     "output_type": "execute_result"
    }
   ],
   "source": [
    "df[[\"Pdb\", \"total energy\"]]"
   ]
  },
  {
   "cell_type": "code",
   "execution_count": 15,
   "metadata": {},
   "outputs": [
    {
     "name": "stdout",
     "output_type": "stream",
     "text": [
      "Wildtype SASA: 8407.731560227876\n",
      "Mutant SASA: 8439.063468009845\n"
     ]
    }
   ],
   "source": [
    "from Bio.PDB import SASA\n",
    "\n",
    "# Let's load up the structure again, for both the wildtype and the mutant\n",
    "parser = PDB.PDBParser(QUIET=True)\n",
    "wt_structure = parser.get_structure(\"pdb\", WORKING_DIR / \"101m_Repair.pdb\")\n",
    "mut_structure = parser.get_structure(\"pdb1\", WORKING_DIR / \"101m_Repair_1.pdb\")\n",
    "\n",
    "# Now, we can create a SASA computer\n",
    "sasa = SASA.ShrakeRupley()\n",
    "\n",
    "# We can attach, to each structure, its SASA\n",
    "sasa.compute(wt_structure, level=\"S\")\n",
    "sasa.compute(mut_structure, level=\"S\")\n",
    "\n",
    "print(f\"Wildtype SASA: {wt_structure.sasa}\")\n",
    "print(f\"Mutant SASA: {mut_structure.sasa}\")"
   ]
  }
 ],
 "metadata": {
  "kernelspec": {
   "display_name": "poli-dev",
   "language": "python",
   "name": "python3"
  },
  "language_info": {
   "codemirror_mode": {
    "name": "ipython",
    "version": 3
   },
   "file_extension": ".py",
   "mimetype": "text/x-python",
   "name": "python",
   "nbconvert_exporter": "python",
   "pygments_lexer": "ipython3",
   "version": "3.10.15"
  }
 },
 "nbformat": 4,
 "nbformat_minor": 2
}