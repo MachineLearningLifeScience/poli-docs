{
 "cells": [
  {
   "cell_type": "code",
   "execution_count": 1,
   "metadata": {},
   "outputs": [],
   "source": [
    "import numpy as np\n",
    "\n",
    "from poli.core.problem_setup_information import ProblemSetupInformation\n",
    "from poli.core.util.abstract_observer import AbstractObserver\n",
    "\n",
    "class SimpleObserver(AbstractObserver):\n",
    "    def __init__(self):\n",
    "        ...\n",
    "\n",
    "    def initialize_observer(\n",
    "        self,\n",
    "        problem_setup_info: ProblemSetupInformation,\n",
    "        caller_info: object,\n",
    "        x0: np.ndarray,\n",
    "        y0: np.ndarray,\n",
    "        seed: int\n",
    "    ) -> object:\n",
    "        ...\n",
    "    \n",
    "    def observe(self, x: np.ndarray, y: np.ndarray, context=None) -> None:\n",
    "        ...\n",
    "\n",
    "    def finish(self) -> None:\n",
    "        ..."
   ]
  },
  {
   "cell_type": "code",
   "execution_count": 2,
   "metadata": {},
   "outputs": [],
   "source": [
    "from pathlib import Path\n",
    "from uuid import uuid4\n",
    "import json\n",
    "\n",
    "import numpy as np\n",
    "\n",
    "from poli.core.problem_setup_information import ProblemSetupInformation\n",
    "from poli.core.util.abstract_observer import AbstractObserver\n",
    "\n",
    "THIS_DIR = Path().resolve()\n",
    "\n",
    "class SimpleObserver(AbstractObserver):\n",
    "    def __init__(self):\n",
    "        # Creating a unique id for this experiment in\n",
    "        # particular:\n",
    "        experiment_id = str(uuid4())\n",
    "        self.experiment_id = experiment_id\n",
    "\n",
    "        # Creating a local directory for the results\n",
    "        experiment_path = THIS_DIR / \"results\" / experiment_id\n",
    "        experiment_path.mkdir(exist_ok=True, parents=True)\n",
    "        \n",
    "        self.experiment_path = experiment_path\n",
    "    \n",
    "    def initialize_observer(\n",
    "        self,\n",
    "        problem_setup_info: ProblemSetupInformation,\n",
    "        caller_info: object,\n",
    "        x0: np.ndarray,\n",
    "        y0: np.ndarray,\n",
    "        seed: int\n",
    "    ) -> object:\n",
    "\n",
    "        # Saving the metadata for this experiment\n",
    "        metadata = problem_setup_info.as_dict()\n",
    "\n",
    "        # Adding the information the user wanted to provide\n",
    "        # (Recall that this caller info gets forwarded\n",
    "        # from the objective_factory.create function)\n",
    "        metadata[\"caller_info\"] = caller_info\n",
    "\n",
    "        # Saving the initial evaluations and seed\n",
    "        metadata[\"x0\"] = x0.tolist()\n",
    "        metadata[\"y0\"] = y0.tolist()\n",
    "        metadata[\"seed\"] = seed\n",
    "\n",
    "        # Saving the metadata\n",
    "        with open(self.experiment_path / \"metadata.json\", \"w\") as f:\n",
    "            json.dump(metadata, f)\n",
    "    \n",
    "    # The rest of the class\n",
    "    ..."
   ]
  },
  {
   "cell_type": "code",
   "execution_count": 3,
   "metadata": {},
   "outputs": [],
   "source": [
    "from pathlib import Path\n",
    "from uuid import uuid4\n",
    "import json\n",
    "\n",
    "import numpy as np\n",
    "\n",
    "from poli.core.problem_setup_information import ProblemSetupInformation\n",
    "from poli.core.util.abstract_observer import AbstractObserver\n",
    "\n",
    "THIS_DIR = Path().resolve()\n",
    "\n",
    "class SimpleObserver(AbstractObserver):\n",
    "    # The init and initialize_observer methods\n",
    "    ...\n",
    "    \n",
    "    def observe(self, x: np.ndarray, y: np.ndarray, context=None) -> None:\n",
    "        # Appending these results to the results file.\n",
    "        with open(self.experiment_path / \"results.txt\", \"a\") as fp:\n",
    "            fp.write(f\"{x.tolist()}\\t{y.tolist()}\\n\")"
   ]
  },
  {
   "cell_type": "code",
   "execution_count": 4,
   "metadata": {
    "tags": [
     "hide-cell"
    ]
   },
   "outputs": [],
   "source": [
    "from pathlib import Path\n",
    "from uuid import uuid4\n",
    "import json\n",
    "\n",
    "import numpy as np\n",
    "\n",
    "from poli.core.problem_setup_information import ProblemSetupInformation\n",
    "from poli.core.util.abstract_observer import AbstractObserver\n",
    "\n",
    "THIS_DIR = Path().resolve()\n",
    "\n",
    "class SimpleObserver(AbstractObserver):\n",
    "    def __init__(self):\n",
    "        # Creating a unique id for this experiment in\n",
    "        # particular:\n",
    "        experiment_id = str(uuid4())\n",
    "        self.experiment_id = experiment_id\n",
    "\n",
    "        # Creating a local directory for the results\n",
    "        experiment_path = THIS_DIR / \"results\" / experiment_id\n",
    "        experiment_path.mkdir(exist_ok=True, parents=True)\n",
    "        \n",
    "        self.experiment_path = experiment_path\n",
    "    \n",
    "    def initialize_observer(\n",
    "        self,\n",
    "        problem_setup_info: ProblemSetupInformation,\n",
    "        caller_info: object,\n",
    "        x0: np.ndarray,\n",
    "        y0: np.ndarray,\n",
    "        seed: int\n",
    "    ) -> object:\n",
    "\n",
    "        # Saving the metadata for this experiment\n",
    "        metadata = problem_setup_info.as_dict()\n",
    "\n",
    "        # Adding the information the user wanted to provide\n",
    "        # (Recall that this caller info gets forwarded\n",
    "        # from the objective_factory.create function)\n",
    "        metadata[\"caller_info\"] = caller_info\n",
    "\n",
    "        # Saving the initial evaluations and seed\n",
    "        metadata[\"x0\"] = x0.tolist()\n",
    "        metadata[\"y0\"] = y0.tolist()\n",
    "        metadata[\"seed\"] = seed\n",
    "\n",
    "        # Saving the metadata\n",
    "        with open(self.experiment_path / \"metadata.json\", \"w\") as f:\n",
    "            json.dump(metadata, f)\n",
    "    \n",
    "    def observe(self, x: np.ndarray, y: np.ndarray, context=None) -> None:\n",
    "        # Appending these results to the results file.\n",
    "        with open(self.experiment_path / \"results.txt\", \"a\") as fp:\n",
    "            fp.write(f\"{x.tolist()}\\t{y.tolist()}\\n\")"
   ]
  },
  {
   "cell_type": "code",
   "execution_count": 5,
   "metadata": {
    "tags": [
     "hide-output"
    ]
   },
   "outputs": [
    {
     "name": "stderr",
     "output_type": "stream",
     "text": [
      "/Users/sjt972/anaconda3/envs/poli-docs/lib/python3.9/site-packages/tqdm/auto.py:21: TqdmWarning: IProgress not found. Please update jupyter and ipywidgets. See https://ipywidgets.readthedocs.io/en/stable/user_install.html\n",
      "  from .autonotebook import tqdm as notebook_tqdm\n"
     ]
    },
    {
     "name": "stderr",
     "output_type": "stream",
     "text": [
      "2023-12-22 12:10:31,253\tINFO util.py:154 -- Missing packages: ['ipywidgets']. Run `pip install -U ipywidgets`, then restart the notebook server for rich notebook output.\n"
     ]
    },
    {
     "name": "stdout",
     "output_type": "stream",
     "text": [
      "WARNING:tensorflow:From /Users/sjt972/anaconda3/envs/poli-docs/lib/python3.9/site-packages/tensorflow/python/compat/v2_compat.py:108: disable_resource_variables (from tensorflow.python.ops.variable_scope) is deprecated and will be removed in a future version.\n",
      "Instructions for updating:\n",
      "non-resource variables are not supported in the long term\n"
     ]
    }
   ],
   "source": [
    "from poli import objective_factory\n",
    "\n",
    "# We create an instance of the observer\n",
    "observer = SimpleObserver()\n",
    "\n",
    "# We instantiate the objective function\n",
    "problem_info, f, x0, y0, _ = objective_factory.create(\n",
    "    name=\"aloha\",\n",
    "    observer=observer,\n",
    ")"
   ]
  },
  {
   "cell_type": "code",
   "execution_count": 6,
   "metadata": {},
   "outputs": [
    {
     "name": "stdout",
     "output_type": "stream",
     "text": [
      "{'name': 'aloha', 'max_sequence_length': 5, 'aligned': True, 'alphabet': ['A', 'B', 'C', 'D', 'E', 'F', 'G', 'H', 'I', 'J', 'K', 'L', 'M', 'N', 'O', 'P', 'Q', 'R', 'S', 'T', 'U', 'V', 'W', 'X', 'Y', 'Z'], 'log_transform_recommended': False, 'caller_info': None, 'x0': [['A', 'L', 'O', 'O', 'F']], 'y0': [[3]], 'seed': None}\n"
     ]
    }
   ],
   "source": [
    "with open(observer.experiment_path / \"metadata.json\") as fp:\n",
    "    print(json.load(fp))"
   ]
  },
  {
   "cell_type": "code",
   "execution_count": 7,
   "metadata": {},
   "outputs": [
    {
     "name": "stdout",
     "output_type": "stream",
     "text": [
      "[[0]]\n",
      "[[1]]\n",
      "[[5]]\n"
     ]
    }
   ],
   "source": [
    "print(f(np.array([list(\"MIGUE\")])))\n",
    "print(f(np.array([list(\"FLEAS\")])))\n",
    "print(f(np.array([list(\"ALOHA\")])))"
   ]
  },
  {
   "cell_type": "code",
   "execution_count": 8,
   "metadata": {},
   "outputs": [
    {
     "name": "stdout",
     "output_type": "stream",
     "text": [
      "[['M', 'I', 'G', 'U', 'E']]\t[[0]]\n",
      "[['F', 'L', 'E', 'A', 'S']]\t[[1]]\n",
      "[['A', 'L', 'O', 'H', 'A']]\t[[5]]\n",
      "\n"
     ]
    }
   ],
   "source": [
    "with open(observer.experiment_path / \"results.txt\") as fp:\n",
    "    print(fp.read())"
   ]
  }
 ],
 "metadata": {
  "kernelspec": {
   "display_name": "poli-base",
   "language": "python",
   "name": "python3"
  },
  "language_info": {
   "codemirror_mode": {
    "name": "ipython",
    "version": 3
   },
   "file_extension": ".py",
   "mimetype": "text/x-python",
   "name": "python",
   "nbconvert_exporter": "python",
   "pygments_lexer": "ipython3",
   "version": "3.9.18"
  }
 },
 "nbformat": 4,
 "nbformat_minor": 2
}