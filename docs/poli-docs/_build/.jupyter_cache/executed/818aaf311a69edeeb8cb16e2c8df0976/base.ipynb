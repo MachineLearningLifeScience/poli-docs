{
 "cells": [
  {
   "cell_type": "code",
   "execution_count": 1,
   "metadata": {},
   "outputs": [
    {
     "name": "stdout",
     "output_type": "stream",
     "text": [
      "3ned_Repair.pdb                    optimizing_protein_stability.ipynb\r\n"
     ]
    }
   ],
   "source": [
    "!ls"
   ]
  },
  {
   "cell_type": "code",
   "execution_count": 2,
   "metadata": {},
   "outputs": [
    {
     "data": {
      "text/plain": [
       "True"
      ]
     },
     "execution_count": 2,
     "metadata": {},
     "output_type": "execute_result"
    }
   ],
   "source": [
    "from pathlib import Path\n",
    "\n",
    "wildtype_pdb_path = Path(\"./3ned_Repair.pdb\").resolve()\n",
    "wildtype_pdb_path.exists()  # Should say True"
   ]
  },
  {
   "cell_type": "code",
   "execution_count": 3,
   "metadata": {
    "tags": [
     "hide-output"
    ]
   },
   "outputs": [
    {
     "name": "stdout",
     "output_type": "stream",
     "text": [
      "poli 🧪: Starting the function foldx_stability as an isolated process.\n"
     ]
    }
   ],
   "source": [
    "from poli.objective_repository import FoldXStabilityProblemFactory\n",
    "\n",
    "problem_factory = FoldXStabilityProblemFactory()\n",
    "\n",
    "problem = problem_factory.create(\n",
    "    wildtype_pdb_path=wildtype_pdb_path\n",
    ")\n",
    "f, x0 = problem.black_box, problem.x0"
   ]
  },
  {
   "cell_type": "code",
   "execution_count": 4,
   "metadata": {},
   "outputs": [],
   "source": [
    "from poli_baselines.solvers.simple.random_mutation import RandomMutation\n",
    "\n",
    "y0 = f(x0)\n",
    "\n",
    "solver = RandomMutation(\n",
    "    black_box=f,\n",
    "    x0=x0,\n",
    "    y0=y0,\n",
    ")"
   ]
  },
  {
   "cell_type": "code",
   "execution_count": 5,
   "metadata": {
    "tags": [
     "hide-output"
    ]
   },
   "outputs": [
    {
     "data": {
      "text/plain": [
       "(array([['E', 'E', 'D', 'N', 'M', 'A', 'I', 'I', 'K', 'E', 'F', 'M', 'R',\n",
       "         'F', 'K', 'T', 'H', 'M', 'E', 'G', 'S', 'V', 'N', 'G', 'H', 'E',\n",
       "         'F', 'E', 'I', 'E', 'G', 'E', 'G', 'E', 'G', 'R', 'P', 'Y', 'E',\n",
       "         'G', 'T', 'Q', 'T', 'A', 'K', 'L', 'K', 'V', 'T', 'K', 'G', 'G',\n",
       "         'P', 'L', 'P', 'F', 'A', 'W', 'D', 'I', 'L', 'S', 'P', 'Q', 'F',\n",
       "         'S', 'K', 'A', 'Y', 'V', 'K', 'H', 'P', 'A', 'D', 'I', 'P', 'D',\n",
       "         'Y', 'L', 'K', 'L', 'S', 'F', 'P', 'E', 'G', 'F', 'K', 'W', 'E',\n",
       "         'R', 'V', 'M', 'N', 'F', 'E', 'D', 'G', 'G', 'V', 'V', 'T', 'V',\n",
       "         'T', 'Q', 'D', 'S', 'S', 'L', 'Q', 'D', 'G', 'E', 'F', 'I', 'Y',\n",
       "         'K', 'V', 'K', 'L', 'R', 'G', 'T', 'N', 'F', 'P', 'S', 'D', 'G',\n",
       "         'P', 'V', 'M', 'Q', 'K', 'K', 'T', 'M', 'G', 'W', 'E', 'A', 'C',\n",
       "         'S', 'E', 'R', 'M', 'Y', 'P', 'E', 'D', 'G', 'A', 'L', 'K', 'G',\n",
       "         'E', 'M', 'K', 'M', 'R', 'L', 'K', 'L', 'K', 'D', 'G', 'G', 'H',\n",
       "         'Y', 'D', 'A', 'E', 'V', 'K', 'T', 'T', 'Y', 'K', 'A', 'K', 'K',\n",
       "         'P', 'V', 'Q', 'L', 'P', 'G', 'A', 'Y', 'N', 'T', 'N', 'T', 'K',\n",
       "         'L', 'D', 'I', 'T', 'S', 'H', 'N', 'E', 'D', 'Y', 'T', 'I', 'V',\n",
       "         'E', 'Q', 'Y', 'E', 'R', 'N', 'E', 'G', 'R', 'H', 'S', 'T', 'G',\n",
       "         'G', 'M', 'D', 'E', 'L', 'Y', 'K', '', '', '']], dtype='<U1'),\n",
       " array([9.46959]))"
      ]
     },
     "execution_count": 5,
     "metadata": {},
     "output_type": "execute_result"
    }
   ],
   "source": [
    "solver.solve(max_iter=3)"
   ]
  },
  {
   "cell_type": "code",
   "execution_count": 6,
   "metadata": {},
   "outputs": [
    {
     "name": "stdout",
     "output_type": "stream",
     "text": [
      "All y values: [array([[9.46959]]), array([[8.99739]]), array([[9.41639]]), array([[3.1833]])]\n",
      "best stability: [9.46959]\n",
      "Associated sequence: EEDNMAIIKEFMRFKTHMEGSVNGHEFEIEGEGEGRPYEGTQTAKLKVTKGGPLPFAWDILSPQFSKAYVKHPADIPDYLKLSFPEGFKWERVMNFEDGGVVTVTQDSSLQDGEFIYKVKLRGTNFPSDGPVMQKKTMGWEACSERMYPEDGALKGEMKMRLKLKDGGHYDAEVKTTYKAKKPVQLPGAYNTNTKLDITSHNEDYTIVEQYERNEGRHSTGGMDELYK\n"
     ]
    }
   ],
   "source": [
    "print(f\"All y values: {solver.history['y']}\")\n",
    "print(f\"best stability: {solver.get_best_performance()}\")\n",
    "print(f\"Associated sequence: {''.join(solver.get_best_solution().flatten())}\")"
   ]
  }
 ],
 "metadata": {
  "kernelspec": {
   "display_name": "poli-dev",
   "language": "python",
   "name": "python3"
  },
  "language_info": {
   "codemirror_mode": {
    "name": "ipython",
    "version": 3
   },
   "file_extension": ".py",
   "mimetype": "text/x-python",
   "name": "python",
   "nbconvert_exporter": "python",
   "pygments_lexer": "ipython3",
   "version": "3.10.15"
  }
 },
 "nbformat": 4,
 "nbformat_minor": 2
}